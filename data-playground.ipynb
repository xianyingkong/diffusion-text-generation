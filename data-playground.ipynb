{
 "cells": [
  {
   "cell_type": "code",
   "execution_count": 3,
   "id": "10efb8cf",
   "metadata": {},
   "outputs": [],
   "source": [
    "import pandas as pd\n",
    "import numpy as np\n",
    "import pickle\n",
    "import os\n",
    "from transformers import AutoTokenizer, PreTrainedTokenizerFast, BertTokenizerFast\n",
    "import json\n",
    "import random\n",
    "import re"
   ]
  },
  {
   "cell_type": "code",
   "execution_count": 4,
   "id": "2a9a01d2-894f-4bc4-ab91-183cbd851842",
   "metadata": {},
   "outputs": [],
   "source": [
    "random.seed(102)"
   ]
  },
  {
   "cell_type": "markdown",
   "id": "6b0b8c7e",
   "metadata": {},
   "source": [
    "# Creating tokenizer"
   ]
  },
  {
   "cell_type": "code",
   "execution_count": 38,
   "id": "d75ef9c1",
   "metadata": {},
   "outputs": [],
   "source": [
    "with open(\"./data/source/shakespeare_tokenize.txt\", 'r') as file:\n",
    "    ss = file.read()"
   ]
  },
  {
   "cell_type": "code",
   "execution_count": 39,
   "id": "e4f25f36",
   "metadata": {},
   "outputs": [],
   "source": [
    "ss = str(ss).lower().replace('\\n\\n','\\n').replace('  ', ' ').replace(';', '').replace(':', '').replace('[', '').replace(']', '').replace('  ', ' ')"
   ]
  },
  {
   "cell_type": "code",
   "execution_count": 42,
   "id": "53815ffd",
   "metadata": {},
   "outputs": [
    {
     "data": {
      "text/plain": [
       "[\"a midsummer-night's dream now , fair hippolyta , our nuptial hour\",\n",
       " 'draws on apace four happy days bring in',\n",
       " 'another moon but o ! methinks how slow',\n",
       " 'this old moon wanes she lingers my desires ,',\n",
       " 'like to a step dame , or a dowager',\n",
       " \"long withering out a young man's revenue . four days will quickly steep themselves in night\",\n",
       " 'four nights will quickly dream away the time',\n",
       " 'and then the moon , like to a silver bow',\n",
       " 'new-bent in heaven , shall behold the night',\n",
       " 'of our solemnities . go , philostrate ,',\n",
       " 'stir up the athenian youth to merriments',\n",
       " 'awake the pert and nimble spirit of mirth',\n",
       " 'turn melancholy forth to funerals',\n",
       " \"the pale companion is not for our pomp . hippolyta , i woo'd thee with my sword ,\",\n",
       " 'and won thy love doing thee injuries',\n",
       " 'but i will wed thee in another key ,',\n",
       " 'with pomp , with triumph , and with revelling .',\n",
       " \"happy be theseus , our renowned duke ! thanks , good egeus what's the news with thee ? full of vexation come i , with complaint\",\n",
       " 'against my child , my daughter hermia .',\n",
       " 'stand forth , demetrius . my noble lord ,',\n",
       " 'this man hath my consent to marry her .',\n",
       " 'stand forth , lysander and , my gracious duke ,',\n",
       " \"this man hath bewitch'd the bosom of my child\",\n",
       " 'thou , thou , lysander , thou hast given her rimes ,',\n",
       " \"and interchang'd love-tokens with my child\",\n",
       " 'thou hast by moonlight at her window sung ,',\n",
       " 'with feigning voice , verses of feigning love',\n",
       " \"and stol'n the impression of her fantasy\",\n",
       " 'with bracelets of thy hair , rings , gawds , conceits ,',\n",
       " 'knacks , trifles , nosegays , sweetmeats , messengers',\n",
       " \"of strong prevailment in unharden'd youth\",\n",
       " \"with cunning hast thou filch'd my daughter's heart\",\n",
       " \"turn'd her obedience , which is due to me ,\",\n",
       " 'to stubborn harshness . and , my gracious duke ,',\n",
       " 'be it so she will not here before your grace',\n",
       " 'consent to marry with demetrius ,',\n",
       " 'i beg the ancient privilege of athens ,',\n",
       " 'as she is mine , i may dispose of her',\n",
       " 'which shall be either to this gentleman ,',\n",
       " 'or to her death , according to our law',\n",
       " \"immediately provided in that case . what say you , hermia ? be advis'd , fair maid .\",\n",
       " 'to you , your father should be as a god',\n",
       " \"one that compos'd your beauties , yea , and one\",\n",
       " 'to whom you are but as a form in wax',\n",
       " 'by him imprinted , and within his power',\n",
       " 'to leave the figure or disfigure it .',\n",
       " 'demetrius is a worthy gentleman . so is lysander . in himself he is',\n",
       " \"but , in this kind , wanting your father's voice ,\",\n",
       " \"the other must be held the worthier . i would my father look'd but with my eyes . rather your eyes must with his judgment look . i do entreat your grace to pardon me .\",\n",
       " 'i know not by what power i am made bold ,',\n",
       " 'nor how it may concern my modesty',\n",
       " 'in such a presence here to plead my thoughts',\n",
       " 'but i beseech your grace , that i may know',\n",
       " 'the worst that may befall me in this case ,',\n",
       " 'if i refuse to wed demetrius . either to die the death , or to abjure',\n",
       " 'for ever the society of men .',\n",
       " 'therefore , fair hermia , question your desires',\n",
       " 'know of your youth , examine well your blood ,',\n",
       " \"whe'r , if you yield not to your father's choice ,\",\n",
       " 'you can endure the livery of a nun ,',\n",
       " \"for aye to be in shady cloister mew'd ,\",\n",
       " 'to live a barren sister all your life ,',\n",
       " 'chanting faint hymns to the cold fruitless moon .',\n",
       " 'thrice blessed they that master so their blood ,',\n",
       " 'to undergo such maiden pilgrimage',\n",
       " \"but earthlier happy is the rose distill'd ,\",\n",
       " 'than that which withering on the virgin thorn',\n",
       " 'grows , lives , and dies , in single blessedness . so will i grow , so live , so die , my lord ,',\n",
       " 'ere i will yield my virgin patent up',\n",
       " 'unto his lordship , whose unwished yoke',\n",
       " 'my soul consents not to give sovereignty . take time to pause and , by the next new moon ,',\n",
       " 'the sealing-day betwixt my love and me',\n",
       " 'for everlasting bond of fellowship ,',\n",
       " 'upon that day either prepare to die',\n",
       " \"for disobedience to your father's will ,\",\n",
       " 'or else to wed demetrius , as he would',\n",
       " \"or on diana's altar to protest\",\n",
       " 'for aye austerity and single life . relent , sweet hermia and , lysander , yield',\n",
       " \"thy crazed title to my certain right . you have her father's love , demetrius\",\n",
       " \"let me have hermia's do you marry him . scornful lysander ! true , he hath my love ,\",\n",
       " 'and what is mine my love shall render him',\n",
       " 'and she is mine , and all my right of her',\n",
       " \"i do estate unto demetrius . i am , my lord , as well deriv'd as he ,\",\n",
       " \"as well possess'd my love is more than his\",\n",
       " \"my fortunes every way as fairly rank'd\",\n",
       " \"if not with vantage , as demetrius'\",\n",
       " 'and , which is more than all these boasts can be ,',\n",
       " \"i am belov'd of beauteous hermia .\",\n",
       " 'why should not i then prosecute my right ?',\n",
       " \"demetrius , i'll avouch it to his head ,\",\n",
       " \"made love to nedar's daughter , helena ,\",\n",
       " 'and won her soul and she , sweet lady , dotes ,',\n",
       " 'devoutly dotes , dotes in idolatry ,',\n",
       " 'upon this spotted and inconstant man . i must confess that i have heard so much ,',\n",
       " 'and with demetrius thought to have spoke thereof',\n",
       " 'but , being over-full of self-affairs ,',\n",
       " 'my mind did lose it . but , demetrius , come',\n",
       " 'and come , egeus you shall go with me ,',\n",
       " 'i have some private schooling for you both .',\n",
       " 'for you , fair hermia , look you arm yourself',\n",
       " \"to fit your fancies to your father's will ,\",\n",
       " 'or else the law of athens yields you up ,',\n",
       " 'which by no means we may extenuate ,',\n",
       " 'to death , or to a vow of single life .',\n",
       " 'come , my hippolyta what cheer , my love ?',\n",
       " 'demetrius and egeus , go along',\n",
       " 'i must employ you in some business',\n",
       " 'against our nuptial , and confer with you',\n",
       " 'of something nearly that concerns yourselves . with duty and desire we follow you .',\n",
       " 'how now , my love ! why is your cheek so pale ?',\n",
       " 'how chance the roses there do fade so fast ? belike for want of rain , which i could well',\n",
       " 'beteem them from the tempest of mine eyes . ay me ! for aught that ever i could read ,',\n",
       " 'could ever hear by tale or history ,',\n",
       " 'the course of true love never did run smooth',\n",
       " \"but , either it was different in blood , o cross ! too high to be enthrall'd to low . or else misgraffed in respect of years , o spite ! too old to be engag'd to young . or else it stood upon the choice of friends , o hell ! to choose love by another's eye . or , if there were a sympathy in choice ,\",\n",
       " 'war , death , or sickness did lay siege to it ,',\n",
       " 'making it momentany as a sound ,',\n",
       " 'swift as a shadow , short as any dream ,',\n",
       " 'brief as the lightning in the collied night ,',\n",
       " 'that , in a spleen , unfolds both heaven and earth ,',\n",
       " \"and ere a man hath power to say , 'behold !'\",\n",
       " 'the jaws of darkness do devour it up',\n",
       " \"so quick bright things come to confusion . if then true lovers have been ever cross'd ,\",\n",
       " 'it stands as an edict in destiny',\n",
       " 'then let us teach our trial patience ,',\n",
       " 'because it is a customary cross ,',\n",
       " 'as due to love as thoughts and dreams and sighs ,',\n",
       " \"wishes and tears , poor fancy's followers . a good persuasion therefore , hear me , hermia .\",\n",
       " 'i have a widow aunt , a dowager',\n",
       " 'of great revenue , and she hath no child',\n",
       " 'from athens is her house remote seven leagues',\n",
       " 'and she respects me as her only son .',\n",
       " 'there , gentle hermia , may i marry thee ,',\n",
       " 'and to that place the sharp athenian law',\n",
       " \"cannot pursue us . if thou lov'st me then ,\",\n",
       " \"steal forth thy father's house to-morrow night ,\",\n",
       " 'and in the wood , a league without the town ,',\n",
       " 'where i did meet thee once with helena ,',\n",
       " 'to do observance to a morn of may ,',\n",
       " 'there will i stay for thee . my good lysander !',\n",
       " \"i swear to thee by cupid's strongest bow ,\",\n",
       " 'by his best arrow with the golden head ,',\n",
       " \"by the simplicity of venus' doves ,\",\n",
       " 'by that which knitteth souls and prospers loves ,',\n",
       " \"and by that fire which burn'd the carthage queen ,\",\n",
       " 'when the false troyan under sail was seen ,',\n",
       " 'by all the vows that ever men have broke ,',\n",
       " 'in number more than ever women spoke ,',\n",
       " 'in that same place thou hast appointed me ,',\n",
       " 'to-morrow truly will i meet with thee . keep promise , love . look , here comes helena .',\n",
       " 'god speed fair helena ! whither away ? call you me fair ? that fair again unsay .',\n",
       " 'demetrius loves your fair o happy fair !',\n",
       " \"your eyes are lode-stars ! and your tongue's sweet air\",\n",
       " \"more tuneable than lark to shepherd's ear ,\",\n",
       " 'when wheat is green , when hawthorn buds appear .',\n",
       " 'sickness is catching o ! were favour so ,',\n",
       " 'yours would i catch , fair hermia , ere i go',\n",
       " 'my ear should catch your voice , my eye your eye ,',\n",
       " \"my tongue should catch your tongue's sweet melody .\",\n",
       " 'were the world mine , demetrius being bated ,',\n",
       " \"the rest i'd give to be to you translated .\",\n",
       " 'o ! teach me how you look , and with what art',\n",
       " \"you sway the motion of demetrius' heart . i frown upon him , yet he loves me still . o ! that your frowns would teach my smiles such skill . i give him curses , yet he gives me love . o ! that my prayers could such affection move . the more i hate , the more he follows me . the more i love , the more he hateth me . his folly , helena , is no fault of mine . none , but your beauty would that fault were mine ! take comfort he no more shall see my face\",\n",
       " 'lysander and myself will fly this place .',\n",
       " 'before the time i did lysander see ,',\n",
       " \"seem'd athens as a paradise to me\",\n",
       " 'o ! then , what graces in my love do dwell ,',\n",
       " \"that he hath turn'd a heaven unto a hell . helen , to you our minds we will unfold .\",\n",
       " 'to-morrow night , when ph be doth behold',\n",
       " \"her silver visage in the wat'ry glass ,\",\n",
       " 'decking with liquid pearl the bladed grass ,',\n",
       " \"a time that lovers' flights doth still conceal ,\",\n",
       " \"through athens' gates have we devis'd to steal . and in the wood , where often you and i\",\n",
       " 'upon faint primrose-beds were wont to lie ,',\n",
       " 'emptying our bosoms of their counsel sweet ,',\n",
       " 'there my lysander and myself shall meet',\n",
       " 'and thence from athens turn away our eyes ,',\n",
       " 'to seek new friends and stranger companies .',\n",
       " 'farewell , sweet playfellow pray thou for us',\n",
       " 'and good luck grant thee thy demetrius !',\n",
       " 'keep word , lysander we must starve our sight',\n",
       " \"from lovers' food till morrow deep midnight . i will , my hermia . helena , adieu\",\n",
       " 'as you on him , demetrius dote on you !',\n",
       " \"how happy some o'er other some can be !\",\n",
       " 'through athens i am thought as fair as she',\n",
       " 'but what of that ? demetrius thinks not so',\n",
       " 'he will not know what all but he do know',\n",
       " \"and as he errs , doting on hermia's eyes ,\",\n",
       " 'so i , admiring of his qualities .',\n",
       " 'things base and vile , holding no quantity ,',\n",
       " 'love can transpose to form and dignity .',\n",
       " 'love looks not with the eyes , but with the mind ,',\n",
       " \"and therefore is wing'd cupid painted blind .\",\n",
       " \"nor hath love's mind of any judgment taste\",\n",
       " 'wings and no eyes figure unheedy haste',\n",
       " 'and therefore is love said to be a child ,',\n",
       " \"because in choice he is so oft beguil'd .\",\n",
       " 'as waggish boys in game themselves forswear ,',\n",
       " \"so the boy love is perjur'd every where\",\n",
       " \"for ere demetrius look'd on hermia's eyne ,\",\n",
       " \"he hail'd down oaths that he was only mine\",\n",
       " 'and when this hail some heat from hermia felt ,',\n",
       " \"so he dissolv'd , and showers of oaths did melt .\",\n",
       " \"i will go tell him of fair hermia's flight\",\n",
       " 'then to the wood will he to-morrow night',\n",
       " 'pursue her and for this intelligence',\n",
       " 'if i have thanks , it is a dear expense',\n",
       " 'but herein mean i to enrich my pain ,',\n",
       " 'to have his sight thither and back again .',\n",
       " \"is all our company here ? you were best to call them generally , man by man , according to the scrip . here is the scroll of every man's name , which is thought fit , through all athens , to play in our interlude before the duke and the duchess on his wedding-day at night . first , good peter quince , say what the play treats on then read the names of the actors , and so grow to a point . marry , our play is , the most lamentable comedy , and most cruel death of pyramus and thisby . a very good piece of work , i assure you , and a merry . now , good peter quince , call forth your actors by the scroll . masters , spread yourselves . answer as i call you . nick bottom , the weaver . ready . name what part i am for , and proceed . you , nick bottom , are set down for pyramus . what is pyramus ? a lover , or a tyrant ? a lover , that kills himself most gallantly for love . that will ask some tears in the true performing of it if i do it , let the audience look to their eyes i will move storms , i will condole in some measure . to the rest yet my chief humour is for a tyrant . i could play ercles rarely , or a part to tear a cat in , to make all split . the raging rocks\",\n",
       " 'and shivering shocks',\n",
       " 'shall break the locks',\n",
       " 'of prison gates',\n",
       " \"and phibbus' car\",\n",
       " 'shall shine from far',\n",
       " 'and make and mar',\n",
       " \"the foolish fates . this was lofty ! now name the rest of the players . this is ercles' vein , a tyrant's vein a lover is more condoling . francis flute , the bellows-mender . here , peter quince . you must take thisby on you . what is thisby ? a wandering knight ? it is the lady that pyramus must love . nay , faith , let not me play a woman i have a beard coming . that's all one you shall play it in a mask , and you may speak as small as you will . an i may hide my face , let me play thisby too . i'll speak in a monstrous little voice , 'thisne , thisne !' 'ah , pyramus , my lover dear thy thisby dear , and lady dear !' no , no you must play pyramus and flute , you thisby . well , proceed . robin starveling , the tailor . here , peter quince . robin starveling , you must play thisby's mother . tom snout , the tinker . here , peter quince . you , pyramus's father myself , thisby's father snug , the joiner , you the lion's part and , i hope , here is a play fitted . have you the lion's part written ? pray you , if it be , give it me , for i am slow of study . you may do it extempore , for it is nothing but roaring . let me play the lion too . i will roar , that i will do any man's heart good to hear me i will roar , that i will make the duke say , 'let him roar again , let him roar again .' an you should do it too terribly , you would fright the duchess and the ladies , that they would shriek and that were enough to hang us all . that would hang us , every mother's son . i grant you , friends , if that you should fright the ladies out of their wits , they would have no more discretion but to hang us but i will aggravate my voice so that i will roar you as gently as any sucking dove i will roar you as 'twere any nightingale . you can play no part but pyramus for pyramus is a sweet-faced man a proper man , as one shall see in a summer's day a most lovely , gentleman-like man therefore , you must needs play pyramus . well , i will undertake it . what beard were i best to play it in ? why , what you will . i will discharge it in either your straw-colour beard , your orange-tawny beard , your purple-in-grain beard , or your french-crown colour beard , your perfect yellow . some of your french crowns have no hair at all , and then you will play bare-faced . but masters , here are your parts and i am to entreat you , request you , and desire you , to con them by to-morrow night , and meet me in the palace wood , a mile without the town , by moonlight there will we rehearse for if we meet in the city , we shall be dogged with company , and our devices known . in the meantime i will draw a bill of properties , such as our play wants . i pray you , fail me not . we will meet and there we may rehearse more obscenely and courageously . take pains be perfect adieu . at the duke's oak we meet . enough hold , or cut bow-strings . how now , spirit ! whither wander you ?\",\n",
       " 'over hill , over dale ,',\n",
       " 'thorough bush , thorough brier ,',\n",
       " 'over park , over pale ,',\n",
       " 'thorough flood , thorough fire ,',\n",
       " 'i do wander every where ,',\n",
       " \"swifter than the moone's sphere\",\n",
       " 'and i serve the fairy queen ,',\n",
       " 'to dew her orbs upon the green',\n",
       " 'the cowslips tall her pensioners be',\n",
       " 'in their gold coats spots you see',\n",
       " 'those be rubies , fairy favours ,',\n",
       " 'in their freckles live their savours i must go seek some dew-drops here ,',\n",
       " \"and hang a pearl in every cowslip's ear .\",\n",
       " \"farewell , thou lob of spirits i'll be gone\",\n",
       " 'our queen and all her elves come here anon . the king doth keep his revels here to-night .',\n",
       " 'take heed the queen come not within his sight',\n",
       " 'for oberon is passing fell and wrath ,',\n",
       " 'because that she as her attendant hath',\n",
       " \"a lovely boy , stol'n from an indian king\",\n",
       " 'she never had so sweet a changeling',\n",
       " 'and jealous oberon would have the child',\n",
       " 'knight of his train , to trace the forests wild',\n",
       " 'but she , perforce , withholds the loved boy ,',\n",
       " 'crowns him with flowers , and makes him all her joy .',\n",
       " 'and now they never meet in grove , or green ,',\n",
       " 'by fountain clear , or spangled starlight sheen ,',\n",
       " 'but they do square that all their elves , for fear ,',\n",
       " 'creep into acorn-cups and hide them there . either i mistake your shape and making quite ,',\n",
       " 'or else you are that shrewd and knavish sprite',\n",
       " \"call'd robin goodfellow are you not he\",\n",
       " 'that frights the maidens of the villagery',\n",
       " 'skim milk , and sometimes labour in the quern ,',\n",
       " 'and bootless make the breathless housewife churn',\n",
       " 'and sometime make the drink to bear no barm',\n",
       " 'mislead night-wanderers , laughing at their harm ?',\n",
       " 'those that hobgoblin call you and sweet puck ,',\n",
       " 'you do their work , and they shall have good luck',\n",
       " \"are you not he ? fairy , thou speak'st aright\",\n",
       " 'i am that merry wanderer of the night .',\n",
       " 'i jest to oberon , and make him smile',\n",
       " 'when i a fat and bean-fed horse beguile ,',\n",
       " 'neighing in likeness of a filly foal',\n",
       " \"and sometime lurk i in a gossip's bowl ,\",\n",
       " 'in very likeness of a roasted crab',\n",
       " 'and , when she drinks , against her lips i bob',\n",
       " \"and on her wither'd dewlap pour the ale .\",\n",
       " 'the wisest aunt , telling the saddest tale ,',\n",
       " 'sometime for three-foot stool mistaketh me',\n",
       " 'then slip i from her bum , down topples she ,',\n",
       " \"and 'tailor' cries , and falls into a cough\",\n",
       " 'and then the whole quire hold their hips and loff',\n",
       " 'and waxen in their mirth , and neeze , and swear',\n",
       " 'a merrier hour was never wasted there .',\n",
       " 'but , room , fairy ! here comes oberon . and here my mistress . would that he were gone !',\n",
       " 'ill met by moonlight , proud titania . what ! jealous oberon . fairies , skip hence',\n",
       " 'i have forsworn his bed and company . tarry , rash wanton ! am not i thy lord ? then , i must be thy lady but i know',\n",
       " \"when thou hast stol'n away from fairy land ,\",\n",
       " 'and in the shape of corin sat all day ,',\n",
       " 'playing on pipes of corn , and versing love',\n",
       " 'to amorous phillida . why art thou here ,',\n",
       " 'come from the furthest steppe of india ?',\n",
       " 'but that , forsooth , the bouncing amazon ,',\n",
       " \"your buskin'd mistress and your warrior love ,\",\n",
       " 'to theseus must be wedded , and you come',\n",
       " 'to give their bed joy and prosperity . how canst thou thus for shame , titania ,',\n",
       " 'glance at my credit with hippolyta ,',\n",
       " 'knowing i know thy love to theseus ?',\n",
       " 'didst thou not lead him through the glimmering night',\n",
       " 'from perigouna , whom he ravished ?',\n",
       " 'and make him with fair gle break his faith ,',\n",
       " 'with ariadne , and antiopa ? these are the forgeries of jealousy',\n",
       " \"and never , since the middle summer's spring ,\",\n",
       " 'met we on hill , in dale , forest , or mead ,',\n",
       " 'by paved fountain , or by rushy brook ,',\n",
       " 'or in the beached margent of the sea ,',\n",
       " 'to dance our ringlets to the whistling wind ,',\n",
       " \"but with thy brawls thou hast disturb'd our sport .\",\n",
       " 'therefore the winds , piping to us in vain ,',\n",
       " \"as in revenge , have suck'd up from the sea\",\n",
       " 'contagious fogs which , falling in the land ,',\n",
       " 'have every pelting river made so proud',\n",
       " 'that they have overborne their continents',\n",
       " \"the ox hath therefore stretch'd his yoke in vain ,\",\n",
       " 'the ploughman lost his sweat , and the green corn',\n",
       " \"hath rotted ere his youth attain'd a beard\",\n",
       " 'the fold stands empty in the drowned field ,',\n",
       " 'and crows are fatted with the murrion flock',\n",
       " \"the nine men's morris is fill'd up with mud ,\",\n",
       " 'and the quaint mazes in the wanton green',\n",
       " 'for lack of tread are undistinguishable',\n",
       " 'the human mortals want their winter here',\n",
       " 'no night is now with hymn or carol blest',\n",
       " 'therefore the moon , the governess of floods ,',\n",
       " 'pale in her anger , washes all the air ,',\n",
       " 'that rheumatic diseases do abound',\n",
       " 'and thorough this distemperature we see',\n",
       " 'the seasons alter hoary-headed frosts',\n",
       " 'fall in the fresh lap of the crimson rose ,',\n",
       " \"and on old hiems' thin and icy crown\",\n",
       " 'an odorous chaplet of sweet summer buds',\n",
       " 'is , as in mockery , set . the spring , the summer ,',\n",
       " 'the childing autumn , angry winter , change',\n",
       " 'their wonted liveries , and the mazed world ,',\n",
       " 'by their increase , now knows not which is which .',\n",
       " 'and this same progeny of evil comes',\n",
       " 'from our debate , from our dissension',\n",
       " 'we are their parents and original . do you amend it then it lies in you .',\n",
       " 'why should titania cross her oberon ?',\n",
       " 'i do but beg a little changeling boy ,',\n",
       " 'to be my henchman . set your heart at rest',\n",
       " 'the fairy land buys not the child of me .',\n",
       " 'his mother was a votaress of my order',\n",
       " 'and , in the spiced indian air , by night ,',\n",
       " \"full often hath she gossip'd by my side ,\",\n",
       " \"and sat with me on neptune's yellow sands ,\",\n",
       " 'marking the embarked traders on the flood',\n",
       " \"when we have laugh'd to see the sails conceive\",\n",
       " 'and grow big-bellied with the wanton wind',\n",
       " 'which she , with pretty and with swimming gait',\n",
       " 'following ,her womb then rich with my young squire ,',\n",
       " 'would imitate , and sail upon the land ,',\n",
       " 'to fetch me trifles , and return again ,',\n",
       " 'as from a voyage , rich with merchandise .',\n",
       " 'but she , being mortal , of that boy did die',\n",
       " 'and for her sake i do rear up her boy ,',\n",
       " \"and for her sake i will not part with him . how long within this wood intend you stay ? perchance , till after theseus' weddingday .\",\n",
       " 'if you will patiently dance in our round ,',\n",
       " 'and see our moonlight revels , go with us',\n",
       " 'if not , shun me , and i will spare your haunts . give me that boy , and i will go with thee . not for thy fairy kingdom . fairies , away !',\n",
       " 'we shall chide downright , if i longer stay .',\n",
       " 'well , go thy way thou shalt not from this grove',\n",
       " 'till i torment thee for this injury .',\n",
       " \"my gentle puck , come hither . thou remember'st\",\n",
       " 'since once i sat upon a promontory ,',\n",
       " \"and heard a mermaid on a dolphin's back\",\n",
       " 'uttering such dulcet and harmonious breath ,',\n",
       " 'that the rude sea grew civil at her song ,',\n",
       " 'and certain stars shot madly from their spheres',\n",
       " \"to hear the sea-maid's music . i remember . that very time i saw , but thou couldst not ,\",\n",
       " 'flying between the cold moon and the earth ,',\n",
       " \"cupid all arm'd a certain aim he took\",\n",
       " 'at a fair vestal throned by the west ,',\n",
       " \"and loos'd his love-shaft smartly from his bow ,\",\n",
       " 'as it should pierce a hundred thousand hearts',\n",
       " \"but i might see young cupid's fiery shaft\",\n",
       " \"quench'd in the chaste beams of the wat'ry moon ,\",\n",
       " 'and the imperial votaress passed on ,',\n",
       " 'in maiden meditation , fancy-free .',\n",
       " \"yet mark'd i where the bolt of cupid fell\",\n",
       " 'it fell upon a little western flower ,',\n",
       " \"before milk-white , now purple with love's wound ,\",\n",
       " 'and maidens call it , love-in-idleness .',\n",
       " \"fetch me that flower the herb i show'd thee once\",\n",
       " 'the juice of it on sleeping eyelids laid',\n",
       " 'will make or man or woman madly dote',\n",
       " 'upon the next live creature that it sees .',\n",
       " 'fetch me this herb and be thou here again',\n",
       " \"ere the leviathan can swim a league . i'll put a girdle round about the earth\",\n",
       " 'in forty minutes .',\n",
       " 'having once this juice',\n",
       " \"i'll watch titania when she is asleep ,\",\n",
       " 'and drop the liquor of it in her eyes',\n",
       " 'the next thing then she waking looks upon ,',\n",
       " 'be it on lion , bear , or wolf , or bull ,',\n",
       " 'on meddling monkey , or on busy ape ,',\n",
       " 'she shall pursue it with the soul of love',\n",
       " 'and ere i take this charm off from her sight ,',\n",
       " 'as i can take it with another herb ,',\n",
       " \"i'll make her render up her page to me .\",\n",
       " 'but who comes here ? i am invisible ,',\n",
       " 'and i will overhear their conference .',\n",
       " 'i love thee not , therefore pursue me not .',\n",
       " 'where is lysander and fair hermia ?',\n",
       " \"the one i'll slay , the other slayeth me .\",\n",
       " \"thou told'st me they were stol'n into this wood\",\n",
       " 'and here am i , and wood within this wood ,',\n",
       " 'because i cannot meet my hermia .',\n",
       " 'hence ! get thee gone , and follow me no more . you draw me , you hard-hearted adamant',\n",
       " 'but yet you draw not iron , for my heart',\n",
       " 'is true as steel leave you your power to draw ,',\n",
       " 'and i shall have no power to follow you . do i entice you ? do i speak you fair ?',\n",
       " 'or , rather , do i not in plainest truth',\n",
       " 'tell you i do not nor i cannot love you ? and even for that do i love you the more .',\n",
       " 'i am your spaniel and , demetrius ,',\n",
       " 'the more you beat me , i will fawn on you',\n",
       " 'use me but as your spaniel , spurn me , strike me ,',\n",
       " 'neglect me , lose me only give me leave ,',\n",
       " 'unworthy as i am , to follow you .',\n",
       " 'what worser place can i beg in your love ,',\n",
       " 'and yet a place of high respect with me ,',\n",
       " 'than to be used as you use your dog ? tempt not too much the hatred of my spirit ,',\n",
       " 'for i am sick when i do look on you . and i am sick when i look not on you . you do impeach your modesty too much ,',\n",
       " 'to leave the city , and commit yourself',\n",
       " 'into the hands of one that loves you not',\n",
       " 'to trust the opportunity of night',\n",
       " 'and the ill counsel of a desert place',\n",
       " 'with the rich worth of your virginity . your virtue is my privilege for that',\n",
       " 'it is not night when i do see your face ,',\n",
       " 'therefore i think i am not in the night',\n",
       " 'nor doth this wood lack worlds of company ,',\n",
       " 'for you in my respect are all the world',\n",
       " 'then how can it be said i am alone ,',\n",
       " \"when all the world is here to look on me ? i'll run from thee and hide me in the brakes ,\",\n",
       " 'and leave thee to the mercy of wild beasts . the wildest hath not such a heart as you .',\n",
       " \"run when you will , the story shall be chang'd\",\n",
       " 'apollo flies , and daphne holds the chase',\n",
       " 'the dove pursues the griffin the mild hind',\n",
       " 'makes speed to catch the tiger bootless speed ,',\n",
       " 'when cowardice pursues and valour flies . i will not stay thy questions let me go',\n",
       " 'or , if thou follow me , do not believe',\n",
       " 'but i shall do thee mischief in the wood . ay , in the temple , in the town , the field ,',\n",
       " 'you do me mischief . fie , demetrius !',\n",
       " 'your wrongs do set a scandal on my sex .',\n",
       " 'we cannot fight for love , as men may do',\n",
       " \"we should be woo'd and were not made to woo . i'll follow thee and make a heaven of hell ,\",\n",
       " 'to die upon the hand i love so well .',\n",
       " 'fare thee well , nymph ere he do leave this grove ,',\n",
       " 'thou shalt fly him , and he shall seek thy love . hast thou the flower there ? welcome , wanderer . ay , there it is . i pray thee , give it me .',\n",
       " 'i know a bank whereon the wild thyme blows ,',\n",
       " 'where oxlips and the nodding violet grows',\n",
       " 'quite over-canopied with luscious woodbine ,',\n",
       " 'with sweet musk-roses , and with eglantine',\n",
       " 'there sleeps titania some time of the night ,',\n",
       " \"lull'd in these flowers with dances and delight\",\n",
       " \"and there the snake throws her enamell'd skin ,\",\n",
       " 'weed wide enough to wrap a fairy in',\n",
       " \"and with the juice of this i'll streak her eyes ,\",\n",
       " 'and make her full of hateful fantasies .',\n",
       " 'take thou some of it , and seek through this grove',\n",
       " 'a sweet athenian lady is in love',\n",
       " 'with a disdainful youth anoint his eyes',\n",
       " 'but do it when the next thing he espies',\n",
       " 'may be the lady . thou shalt know the man',\n",
       " 'by the athenian garments he hath on .',\n",
       " 'effect it with some care , that he may prove',\n",
       " 'more fond on her than she upon her love .',\n",
       " 'and look thou meet me ere the first cock crow . fear not , my lord , your servant shall do so .',\n",
       " 'come , now a roundel and a fairy song',\n",
       " 'then , for the third of a minute , hence',\n",
       " 'some to kill cankers in the musk-rose buds ,',\n",
       " 'some war with rere-mice for their leathern wings ,',\n",
       " 'to make my small elves coats , and some keep back',\n",
       " 'the clamorous owl , that nightly hoots , and wonders',\n",
       " 'at our quaint spirits . sing me now asleep',\n",
       " 'then to your offices , and let me rest . the fairies sing .',\n",
       " 'i . you spotted snakes with double tongue ,',\n",
       " 'thorny hedge-hogs , be not seen',\n",
       " 'newts , and blind-worms , do no wrong',\n",
       " 'come not near our fairy queen .',\n",
       " 'philomel , with melody ,',\n",
       " 'sing in our sweet lullaby',\n",
       " 'lulla , lulla , lullaby lulla , lulla , lullaby',\n",
       " 'never harm ,',\n",
       " 'nor spell , nor charm ,',\n",
       " 'come our lovely lady nigh',\n",
       " 'so , good night , with lullaby . ii . weaving spiders come not here',\n",
       " \"hence , you long-legg'd spinners , hence !\",\n",
       " 'beetles black , approach not near',\n",
       " 'worm nor snail , do no offence .',\n",
       " 'philomel , with melody , &c .',\n",
       " 'hence , away ! now all is well .',\n",
       " 'one aloof stand sentinel . what thou seest when thou dost wake ,',\n",
       " 'do it for thy true-love take',\n",
       " 'love and languish for his sake',\n",
       " 'be it ounce , or cat , or bear ,',\n",
       " 'pard , or boar with bristled hair ,',\n",
       " 'in thy eye that shall appear',\n",
       " \"when thou wak'st , it is thy dear .\",\n",
       " 'wake when some vile thing is near . fair love , you faint with wandering in the wood',\n",
       " 'and to speak troth , i have forgot our way',\n",
       " \"we'll rest us , hermia , if you think it good ,\",\n",
       " 'and tarry for the comfort of the day . be it so , lysander find you out a bed ,',\n",
       " 'for i upon this bank will rest my head . one turf shall serve as pillow for us both',\n",
       " 'one heart , one bed , two bosoms , and one troth . nay , good lysander for my sake , my dear ,',\n",
       " 'lie further off yet , do not lie so near . o ! take the sense , sweet , of my innocence ,',\n",
       " \"love takes the meaning in love's conference .\",\n",
       " 'i mean that my heart unto yours is knit ,',\n",
       " 'so that but one heart we can make of it',\n",
       " 'two bosoms interchained with an oath',\n",
       " 'so then two bosoms and a single troth .',\n",
       " 'then by your side no bed-room me deny ,',\n",
       " 'for , lying so , hermia , i do not lie . lysander riddles very prettily',\n",
       " 'now much beshrew my manners and my pride ,',\n",
       " 'if hermia meant to say lysander lied .',\n",
       " 'but , gentle friend , for love and courtesy',\n",
       " 'lie further off in human modesty ,',\n",
       " 'such separation as may well be said',\n",
       " 'becomes a virtuous bachelor and a maid ,',\n",
       " 'so far be distant and , good night , sweet friend .',\n",
       " \"thy love ne'er alter till thy sweet life end ! amen , amen , to that fair prayer , say i\",\n",
       " \"and then end life when i end loyalty ! here is my bed sleep give thee all his rest ! with half that wish the wisher's eyes be press'd !\",\n",
       " 'through the forest have i gone ,',\n",
       " 'but athenian found i none ,',\n",
       " 'on whose eyes i might approve',\n",
       " \"this flower's force in stirring love .\",\n",
       " 'night and silence ! who is here ?',\n",
       " 'weeds of athens he doth wear',\n",
       " 'this is he , my master said ,',\n",
       " 'despised the athenian maid',\n",
       " 'and here the maiden , sleeping sound ,',\n",
       " 'on the dank and dirty ground .',\n",
       " 'pretty soul ! she durst not lie',\n",
       " 'near this lack-love , this kill-courtesy . churl , upon thy eyes i throw',\n",
       " 'all the power this charm doth owe .',\n",
       " \"when thou wak'st , let love forbid\",\n",
       " 'sleep his seat on thy eyelid',\n",
       " 'so awake when i am gone',\n",
       " 'for i must now to oberon .',\n",
       " 'stay , though thou kill me , sweet demetrius . i charge thee , hence , and do not haunt me thus . o ! wilt thou darkling leave me ? do not so . stay , on thy peril i alone will go .',\n",
       " 'o ! i am out of breath in this fond chase .',\n",
       " 'the more my prayer , the lesser is my grace .',\n",
       " \"happy is hermia , wheresoe'er she lies\",\n",
       " 'for she hath blessed and attractive eyes .',\n",
       " 'how came her eyes so bright ? not with salt tears',\n",
       " \"if so , my eyes are oftener wash'd than hers .\",\n",
       " 'no , no , i am as ugly as a bear',\n",
       " 'for beasts that meet me run away for fear',\n",
       " 'therefore no marvel though demetrius',\n",
       " 'do , as a monster , fly my presence thus .',\n",
       " 'what wicked and dissembling glass of mine',\n",
       " \"made me compare with hermia's sphery eyne ?\",\n",
       " 'but who is here ? lysander ! on the ground !',\n",
       " 'dead ? or asleep ? i see no blood , no wound .',\n",
       " 'lysander , if you live , good sir , awake . and run through fire i will for thy sweet sake .',\n",
       " 'transparent helena ! nature shows art ,',\n",
       " 'that through thy bosom makes me see thy heart .',\n",
       " 'where is demetrius ? o ! how fit a word',\n",
       " 'is that vile name to perish on my sword . do not say so , lysander say not so .',\n",
       " 'what though he love your hermia ? lord ! what though ?',\n",
       " 'yet hermia still loves you then be content . content with hermia ! no i do repent',\n",
       " 'the tedious minutes i with her have spent .',\n",
       " 'not hermia , but helena i love',\n",
       " 'who will not change a raven for a dove ?',\n",
       " \"the will of man is by his reason sway'd ,\",\n",
       " 'and reason says you are the worthier maid .',\n",
       " 'things growing are not ripe until their season',\n",
       " 'so i , being young , till now ripe not to reason',\n",
       " 'and touching now the point of human skill ,',\n",
       " 'reason becomes the marshal to my will ,',\n",
       " \"and leads me to your eyes where i o'erlook\",\n",
       " \"love's stories written in love's richest book . wherefore was i to this keen mockery born ?\",\n",
       " 'when at your hands did i deserve this scorn ?',\n",
       " \"is't not enough , is't not enough , young man ,\",\n",
       " 'that i did never , no , nor never can ,',\n",
       " \"deserve a sweet look from demetrius' eye ,\",\n",
       " 'but you must flout my insufficiency ?',\n",
       " 'good troth , you do me wrong , good sooth , you do ,',\n",
       " 'in such disdainful manner me to woo .',\n",
       " 'but fare you well perforce i must confess',\n",
       " 'i thought you lord of more true gentleness .',\n",
       " \"o ! that a lady of one man refus'd ,\",\n",
       " \"should of another therefore be abus'd .\",\n",
       " 'she sees not hermia . hermia , sleep thou there',\n",
       " 'and never mayst thou come lysander near .',\n",
       " 'for , as a surfeit of the sweetest things',\n",
       " 'the deepest loathing to the stomach brings',\n",
       " 'or , as the heresies that men do leave',\n",
       " 'are hated most of those they did deceive',\n",
       " 'so thou , my surfeit and my heresy ,',\n",
       " 'of all be hated , but the most of me !',\n",
       " 'and , all my powers , address your love and might',\n",
       " 'to honour helen , and to be her knight .',\n",
       " 'help me , lysander , help me ! do thy best',\n",
       " 'to pluck this crawling serpent from my breast .',\n",
       " 'ay me , for pity ! what a dream was here !',\n",
       " 'lysander , look how i do quake with fear',\n",
       " 'methought a serpent eat my heart away ,',\n",
       " 'and you sat smiling at his cruel prey .',\n",
       " \"lysander ! what ! remov'd ?lysander ! lord !\",\n",
       " 'what ! out of hearing ? gone ? no sound , no word ?',\n",
       " 'alack ! where are you ? speak , an if you hear',\n",
       " 'speak , of all loves ! i swound almost with fear .',\n",
       " 'no ! then i well perceive you are not nigh',\n",
       " \"either death or you i'll find immediately . are we all met ? pat , pat and here's a marvellous convenient place for our rehearsal . this green plot shall be our stage , this hawthorn-brake our tiring-house and we will do it in action as we will do it before the duke . peter quince , what sayst thou , bully bottom ? there are things in this comedy of pyramus and thisby that will never please . first , pyramus must draw a sword to kill himself , which the ladies cannot abide . how answer you that ? by'r lakin , a parlous fear . i believe we must leave the killing out , when all is done . not a whit i have a device to make all well . write me a prologue and let the prologue seem to say , we will do no harm with our swords , and that pyramus is not killed indeed and , for the more better assurance , tell them that i , pyramus , am not pyramus , but bottom the weaver this will put them out of fear . well , we will have such a prologue , and it shall be written in eight and six . no , make it two more let it be written in eight and eight . will not the ladies be afeard of the lion ? i fear it , i promise you . masters , you ought to consider with yourselves to bring in ,god shield us !a lion among ladies , is a most dreadful thing for there is not a more fearful wild-fowl than your lion living , and we ought to look to it . therefore , another prologue must tell he is not a lion . nay , you must name his name , and half his face must be seen through the lion's neck and he himself must speak through , saying thus , or to the same defect , 'ladies ,' or , 'fair ladies ,' 'i would wish you ,' or , 'i would request you ,' or , 'i would entreat you , not to fear , not to tremble my life for yours . if you think i come hither as a lion , it were pity of my life no , i am no such thing i am a man as other men are ' and there indeed let him name his name , and tell them plainly he is snug the joiner . well , it shall be so . but there is two hard things , that is , to bring the moonlight into a chamber for , you know , pyramus and thisby meet by moonlight . doth the moon shine that night we play our play ? a calendar , a calendar ! look in the almanack find out moonshine , find out moonshine . yes , it doth shine that night . why , then may you leave a casement of the great chamber-window , where we play , open and the moon may shine in at the casement . ay or else one must come in with a bush of thorns and a lanthorn , and say he comes to disfigure , or to present , the person of moonshine . then , there is another thing we must have a wall in the great chamber for pyramus and thisby , says the story , did talk through the chink of a wall . you can never bring in a wall . what say you , bottom ? some man or other must present wall and let him have some plaster , or some loam , or some rough-cast about him , to signify wall and let him hold his fingers thus , and through that cranny shall pyramus and thisby whisper . if that may be , than all is well . come , sit down , every mother's son , and rehearse your parts . pyramus , you begin when you have spoken your speech , enter into that brake and so every one according to his cue .\",\n",
       " 'what hempen home-spuns have we swaggering here ,',\n",
       " 'so near the cradle of the fairy queen ?',\n",
       " \"what ! a play toward i'll be an auditor\",\n",
       " 'an actor too perhaps , if i see cause . speak , pyramus .thisby , stand forth . thisby , the flowers have odious savours sweet , odorous , odorous . odours savours sweet',\n",
       " 'so hath thy breath , my dearest thisby dear . but hark , a voice ! stay thou but here awhile ,',\n",
       " 'and by and by i will to thee appear .',\n",
       " \"a stranger pyramus than e'er play'd here !\",\n",
       " 'must i speak now ? ay , marry , must you for you must understand , he goes but to see a noise that he heard , and is to come again . most radiant pyramus , most lily-white of hue ,',\n",
       " 'of colour like the red rose on triumphant brier ,',\n",
       " 'most brisky juvenal , and eke most lovely jew ,',\n",
       " 'as true as truest horse that yet would never tire ,',\n",
       " \"i'll meet thee , pyramus , at ninny's tomb . 'ninus' tomb ,' man . why , you must not speak that yet that you answer to pyramus you speak all your part at once , cues and all . pyramus , enter your cue is past it is 'never tire .' o !as true as truest horse , that yet would never tire .\",\n",
       " 'if i were , fair thisby , i were only thine . o monstrous ! o strange ! we are haunted .',\n",
       " 'pray , masters ! fly , masters !help !',\n",
       " \"i'll follow you , i'll lead you about a round ,\",\n",
       " 'through bog , through bush , through brake , through brier',\n",
       " \"sometime a horse i'll be , sometime a hound ,\",\n",
       " 'a hog , a headless bear , sometime a fire',\n",
       " 'and neigh , and bark , and grunt , and roar , and burn ,',\n",
       " 'like horse , hound , hog , bear , fire , at every turn .',\n",
       " 'why do they run away ? this is a knavery of them to make me afeard .',\n",
       " 'o bottom , thou art changed ! what do i see on thee ? what do you see ? you see an ass-head of your own , do you ? bless thee , bottom ! bless thee ! thou art translated .',\n",
       " 'i see their knavery this is to make an ass of me to fright me , if they could . but i will not stir from this place , do what they can i will walk up and down here , and i will sing , that they shall hear i am not afraid . the ousel-cock , so black of hue ,',\n",
       " 'with orange-tawny bill ,',\n",
       " 'the throstle with his note so true ,',\n",
       " 'the wren with little quill .',\n",
       " 'what angel wakes me from my flowery bed ?',\n",
       " 'the finch , the sparrow , and the lark ,',\n",
       " 'the plain-song cuckoo gray ,',\n",
       " 'whose note full many a man doth mark ,',\n",
       " \"and dares not answer , nay for indeed , who would set his wit to so foolish a bird ? who would give a bird the lie , though he cry 'cuckoo' never so ? i pray thee , gentle mortal , sing again\",\n",
       " \"mine ear is much enamour'd of thy note\",\n",
       " 'so is mine eye enthralled to thy shape',\n",
       " \"and thy fair virtue's force , perforce , doth move me ,\",\n",
       " 'on the first view , to say , to swear , i love thee . methinks , mistress , you should have little reason for that and yet , to say the truth , reason and love keep little company together now-a-days . the more the pity , that some honest neighbours will not make them friends . nay , i can gleek upon occasion . thou art as wise as thou art beautiful . not so , neither but if i had wit enough to get out of this wood , i have enough to serve mine own turn . out of this wood do not desire to go',\n",
       " \"thou shalt remain here , whe'r thou wilt or no .\",\n",
       " 'i am a spirit of no common rate',\n",
       " 'the summer still doth tend upon my state',\n",
       " 'and i do love thee therefore , go with me',\n",
       " \"i'll give thee fairies to attend on thee ,\",\n",
       " 'and they shall fetch thee jewels from the deep ,',\n",
       " 'and sing , while thou on pressed flowers dost sleep',\n",
       " 'and i will purge thy mortal grossness so',\n",
       " 'that thou shalt like an airy spirit go .',\n",
       " 'pease-blossom ! cobweb ! moth ! and mustardseed !',\n",
       " 'ready . and i . and i . and i . where shall we go ? be kind and courteous to this gentleman',\n",
       " 'hop in his walks , and gambol in his eyes',\n",
       " 'feed him with apricocks and dewberries ,',\n",
       " 'with purple grapes , green figs , and mulberries .',\n",
       " 'the honey-bags steal from the humble-bees ,',\n",
       " 'and for night-tapers crop their waxen thighs ,',\n",
       " \"and light them at the fiery glow-worm's eyes ,\",\n",
       " 'to have my love to bed , and to arise',\n",
       " 'and pluck the wings from painted butterflies',\n",
       " 'to fan the moonbeams from his sleeping eyes',\n",
       " \"nod to him , elves , and do him courtesies . hail , mortal ! hail ! hail ! hail ! i cry your worships mercy , heartily i beseech your worship's name . cobweb . i shall desire you of more acquaintance , good master cobweb if i out my finger , i shall make bold with you . your name , honest gentleman ? pease-blossom . i pray you , commend me to mistress squash , your mother , and to master peascod , your father . good master pease-blossom , i shall desire you of more acquaintance too . your name , i beseech you , sir ? mustard-seed . good master mustard-seed , i know your patience well that same cowardly , giant-like ox-beef hath devoured many a gentleman of your house . i promise you , your kindred hath made my eyes water ere now . i desire you of more acquaintance , good master mustard-seed . come , wait upon him lead him to my bower .\",\n",
       " 'the moon methinks , looks with a watery eye',\n",
       " 'and when she weeps , weeps every little flower ,',\n",
       " 'lamenting some enforced chastity .',\n",
       " \"tie up my love's tongue , bring him silently .\",\n",
       " \"i wonder if titania be awak'd\",\n",
       " 'then , what it was that next came in her eye ,',\n",
       " 'which she must dote on in extremity .',\n",
       " 'here comes my messenger .',\n",
       " 'how now , mad spirit ! what night-rule now about this haunted grove ? my mistress with a monster is in love .',\n",
       " 'near to her close and consecrated bower ,',\n",
       " 'while she was in her dull and sleeping hour ,',\n",
       " 'a crew of patches , rude mechanicals ,',\n",
       " 'that work for bread upon athenian stalls ,',\n",
       " 'were met together to rehearse a play',\n",
       " \"intended for great theseus' nuptial day .\",\n",
       " 'the shallowest thick-skin of that barren sort ,',\n",
       " 'who pyramus presented in their sport',\n",
       " \"forsook his scene , and enter'd in a brake ,\",\n",
       " 'when i did him at this advantage take',\n",
       " \"an ass's nowl i fixed on his head\",\n",
       " 'anon his thisbe must be answered ,',\n",
       " 'and forth my mimick comes . when they him spy ,',\n",
       " 'as wild geese that the creeping fowler eye ,',\n",
       " 'or russet-pated choughs , many in sort ,',\n",
       " \"rising and cawing at the gun's report ,\",\n",
       " 'sever themselves , and madly sweep the sky',\n",
       " 'so , at his sight , away his fellows fly ,',\n",
       " \"and , at our stamp , here o'er and o'er one falls\",\n",
       " 'he murder cries , and help from athens calls .',\n",
       " 'their sense thus weak , lost with their fears thus strong ,',\n",
       " 'made senseless things begin to do them wrong',\n",
       " 'for briers and thorns at their apparel snatch',\n",
       " 'some sleeves , some hats , from yielders all things catch .',\n",
       " 'i led them on in this distracted fear ,',\n",
       " 'and left sweet pyramus translated there',\n",
       " 'when in that moment , so it came to pass ,',\n",
       " \"titania wak'd and straightway lov'd an ass . this falls out better than i could devise .\",\n",
       " \"but hast thou yet latch'd the athenian's eyes\",\n",
       " \"with the love-juice , as i did bid thee do ? i took him sleeping ,that is finish'd too ,\",\n",
       " 'and the athenian woman by his side',\n",
       " \"that , when he wak'd , of force she must be ey'd .\",\n",
       " 'stand close this is the same athenian . this is the woman but not this the man . o ! why rebuke you him that loves you so ?',\n",
       " 'lay breath so bitter on your bitter foe . now i but chide but i should use thee worse ,',\n",
       " 'for thou , i fear , hast given me cause to curse .',\n",
       " 'if thou hast slain lysander in his sleep ,',\n",
       " \"being o'er shoes in blood , plunge in knee deep ,\",\n",
       " 'and kill me too .',\n",
       " 'the sun was not so true unto the day',\n",
       " \"as he to me . would he have stol'n away\",\n",
       " \"from sleeping hermia ? i'll believe as soon\",\n",
       " \"this whole earth may be bor'd , and that the moon\",\n",
       " 'may through the centre creep , and so displease',\n",
       " \"her brother's noontide with the antipodes .\",\n",
       " \"it cannot be but thou hast murder'd him\",\n",
       " \"so should a murderer look , so dead , so grim . so should the murder'd look , and so should i ,\",\n",
       " \"pierc'd through the heart with your stern cruelty\",\n",
       " 'yet you , the murderer , look as bright , as clear ,',\n",
       " \"as yonder venus in her glimmering sphere . what's this to my lysander ? where is he ?\",\n",
       " \"ah ! good demetrius , wilt thou give him me ? i had rather give his carcass to my hounds . out , dog ! out , cur ! thou driv'st me past the bounds\",\n",
       " \"of maiden's patience . hast thou slain him then ?\",\n",
       " \"henceforth be never number'd among men !\",\n",
       " \"o ! once tell true , tell true , e'en for my sake\",\n",
       " \"durst thou have look'd upon him being awake ,\",\n",
       " \"and hast thou kill'd him sleeping ? o brave touch !\",\n",
       " 'could not a worm , an adder , do so much ?',\n",
       " 'an adder did it for with doubler tongue',\n",
       " \"than thine , thou serpent , never adder stung . you spend your passion on a mispris'd mood\",\n",
       " \"i am not guilty of lysander's blood ,\",\n",
       " 'nor is he dead , for aught that i can tell . i pray thee , tell me then that he is well . an if i could , what should i get therefore ? a privilege never to see me more .',\n",
       " 'and from thy hated presence part i so',\n",
       " \"see me no more , whe'r he be dead or no .\",\n",
       " 'there is no following her in this fierce vein',\n",
       " 'here therefore for awhile i will remain .',\n",
       " \"so sorrow's heaviness doth heavier grow\",\n",
       " 'for debt that bankrupt sleep doth sorrow owe',\n",
       " 'which now in some slight measure it will pay ,',\n",
       " 'if for his tender here i make some stay .',\n",
       " 'what hast thou done ? thou hast mistaken quite ,',\n",
       " \"and laid the love-juice on some true-love's sight\",\n",
       " 'of thy misprision must perforce ensue',\n",
       " \"some true-love turn'd , and not a false turn'd true . then fate o'er-rules , that , one man holding troth ,\",\n",
       " 'a million fail , confounding oath on oath . about the wood go swifter than the wind ,',\n",
       " 'and helena of athens look thou find',\n",
       " 'all fancy-sick she is , and pale of cheer',\n",
       " 'with sighs of love , that cost the fresh blood dear .',\n",
       " 'by some illusion see thou bring her here',\n",
       " \"i'll charm his eyes against she do appear . i go , i go look how i go\",\n",
       " \"swifter than arrow from the tartar's bow . flower of this purple dye ,\",\n",
       " \"hit with cupid's archery ,\",\n",
       " 'sink in apple of his eye .',\n",
       " 'when his love he doth espy ,',\n",
       " 'let her shine as gloriously',\n",
       " 'as the venus of the sky .',\n",
       " \"when thou wak'st , if she be by ,\",\n",
       " 'beg of her for remedy .',\n",
       " 'captain of our fairy band ,',\n",
       " 'helena is here at hand ,',\n",
       " 'and the youth , mistook by me ,',\n",
       " \"pleading for a lover's fee .\",\n",
       " 'shall we their fond pageant see ?',\n",
       " 'lord , what fools these mortals be ! stand aside the noise they make',\n",
       " 'will cause demetrius to awake . then will two at once woo one',\n",
       " 'that must needs be sport alone',\n",
       " 'and those things do best please me',\n",
       " 'that befall preposterously . why should you think that i should woo in scorn ?',\n",
       " 'scorn and derision never come in tears',\n",
       " 'look , when i vow , i weep and vows so born ,',\n",
       " 'in their nativity all truth appears .',\n",
       " 'how can these things in me seem scorn to you ,',\n",
       " 'bearing the badge of faith to prove them true ? you do advance your cunning more and more .',\n",
       " 'when truth kills truth , o devilish-holy fray !',\n",
       " \"these vows are hermia's will you give her o'er ?\",\n",
       " 'weigh oath with oath , and you will nothing weigh',\n",
       " 'your vows , to her and me , put in two scales ,',\n",
       " \"will even weigh , and both as light as tales . i had no judgment when to her i swore . nor none , in my mind , now you give her o'er . demetrius loves her , and he loves not you . o helen ! goddess , nymph , perfect , divine !\",\n",
       " 'to what , my love , shall i compare thine eyne ?',\n",
       " 'crystal is muddy . o ! how ripe in show',\n",
       " 'thy lips , those kissing cherries , tempting grow ,',\n",
       " \"this pure congealed white , high taurus' snow ,\",\n",
       " \"fann'd with the eastern wind , turns to a crow\",\n",
       " \"when thou hold'st up thy hand . o ! let me kiss\",\n",
       " 'that princess of pure white , this seal of bliss . o spite ! o hell ! i see you all are bent',\n",
       " 'to set against me for your merriment',\n",
       " 'if you were civil and knew courtesy ,',\n",
       " 'you would not do me thus much injury .',\n",
       " 'can you not hate me , as i know you do ,',\n",
       " 'but you must join in souls to mock me too ?',\n",
       " 'if you were men , as men you are in show ,',\n",
       " 'you would not use a gentle lady so',\n",
       " 'to vow , and swear , and superpraise my parts ,',\n",
       " 'when i am sure you hate me with your hearts .',\n",
       " 'you both are rivals , and love hermia ,',\n",
       " 'and now both rivals , to mock helena',\n",
       " 'a trim exploit , a manly enterprise ,',\n",
       " \"to conjure tears up in a poor maid's eyes\",\n",
       " 'with your derision ! none of noble sort',\n",
       " 'would so offend a virgin , and extort',\n",
       " \"a poor soul's patience , all to make you sport . you are unkind , demetrius be not so\",\n",
       " 'for you love hermia this you know i know',\n",
       " 'and here , with all good will , with all my heart ,',\n",
       " \"in hermia's love i yield you up my part\",\n",
       " 'and yours of helena to me bequeath ,',\n",
       " 'whom i do love , and will do to my death . never did mockers waste more idle breath . lysander , keep thy hermia i will none',\n",
       " \"if e'er i lov'd her , all that love is gone .\",\n",
       " \"my heart with her but as guest wise sojourn'd ,\",\n",
       " \"and now to helen it is home return'd ,\",\n",
       " 'there to remain . helen , it is not so . disparage not the faith thou dost not know ,',\n",
       " 'lest to thy peril thou aby it dear .',\n",
       " 'look ! where thy love comes yonder is thy dear .',\n",
       " 'dark night , that from the eye his function takes ,',\n",
       " 'the ear more quick of apprehension makes',\n",
       " 'wherein it doth impair the seeing sense ,',\n",
       " 'it pays the hearing double recompense .',\n",
       " 'thou art not by mine eye , lysander , found',\n",
       " 'mine ear , i thank it , brought me to thy sound .',\n",
       " \"but why unkindly didst thou leave me so ? why should he stay , whom love doth press to go ? what love could press lysander from my side ? lysander's love , that would not let him bide ,\",\n",
       " 'fair helena , who more engilds the night',\n",
       " 'than all yon fiery oes and eyes of light .',\n",
       " \"why seek'st thou me ? could not this make thee know ,\",\n",
       " 'the hate i bear thee made me leave thee so ? you speak not as you think it cannot be . lo ! she is one of this confederacy .',\n",
       " \"now i perceive they have conjoin'd all three\",\n",
       " 'to fashion this false sport in spite of me .',\n",
       " 'injurious hermia ! most ungrateful maid !',\n",
       " \"have you conspir'd , have you with these contriv'd\",\n",
       " 'to bait me with this foul derision ?',\n",
       " \"is all the counsel that we two have shar'd ,\",\n",
       " 'the sister-vows , the hours that we have spent ,',\n",
       " 'when we have chid the hasty-footed time',\n",
       " 'for parting us , o ! is it all forgot ?',\n",
       " \"all school-days' friendship , childhood innocence ?\",\n",
       " 'we , hermia , like two artificial gods ,',\n",
       " 'have with our neelds created both one flower ,',\n",
       " 'both on one sampler , sitting on one cushion ,',\n",
       " 'both warbling of one song , both in one key ,',\n",
       " 'as if our hands , our sides , voices , and minds ,',\n",
       " 'had been incorporate . so we grew together ,',\n",
       " 'like to a double cherry , seeming parted ,',\n",
       " 'but yet an union in partition',\n",
       " 'two lovely berries moulded on one stem',\n",
       " 'so , with two seeming bodies , but one heart',\n",
       " 'two of the first , like coats in heraldry ,',\n",
       " 'due but to one , and crowned with one crest .',\n",
       " 'and will you rent our ancient love asunder ,',\n",
       " 'to join with men in scorning your poor friend ?',\n",
       " \"it is not friendly , 'tis not maidenly\",\n",
       " 'our sex , as well as i , may chide you for it ,',\n",
       " 'though i alone do feel the injury . i am amazed at your passionate words .',\n",
       " 'i scorn you not it seems that you scorn me . have you not set lysander , as in scorn ,',\n",
       " 'to follow me and praise my eyes and face ,',\n",
       " 'and made your other love , demetrius ,',\n",
       " 'who even but now did spurn me with his foot ,',\n",
       " 'to call me goddess , nymph , divine and rare ,',\n",
       " 'precious , celestial ? wherefore speaks he this',\n",
       " 'to her he hates ? and wherefore doth lysander',\n",
       " 'deny your love , so rich within his soul ,',\n",
       " 'and tender me , forsooth , affection ,',\n",
       " 'but by your setting on , by your consent ?',\n",
       " 'what though i be not so in grace as you ,',\n",
       " 'so hung upon with love , so fortunate ,',\n",
       " \"but miserable most to love unlov'd ?\",\n",
       " 'this you should pity rather than despise . i understand not what you mean by this . ay , do , persever , counterfeit sad looks ,',\n",
       " 'make mouths upon me when i turn my back',\n",
       " 'wink each at other hold the sweet jest up',\n",
       " 'this sport , well carried , shall be chronicled .',\n",
       " 'if you have any pity , grace , or manners ,',\n",
       " 'you would not make me such an argument .',\n",
       " \"but , fare ye well 'tis partly mine own fault ,\",\n",
       " 'which death or absence soon shall remedy . stay , gentle helena ! hear my excuse',\n",
       " 'my love , my life , my soul , fair helena ! o excellent ! sweet , do not scorn her so . if she cannot entreat , i can compel . thou canst compel no more than she entreat',\n",
       " 'thy threats have no more strength than her weak prayers .',\n",
       " 'helen , i love thee by my life , i do',\n",
       " 'i swear by that which i will lose for thee ,',\n",
       " \"to prove him false that says i love thee not . i say i love thee more than he can do . if thou say so , withdraw , and prove it too . quick , come ! lysander , whereto tends all this ? away , you ethiop ! no , no , he'll . . .\",\n",
       " 'seem to break loose take on , as you would follow ,',\n",
       " 'but yet come not you are a tame man , go ! hang off , thou cat , thou burr ! vile thing , let loose ,',\n",
       " 'or i will shake thee from me like a serpent . why are you grown so rude ? what change is this ,',\n",
       " 'sweet love , thy love ! out , tawny tartar , out !',\n",
       " 'out , loathed medicine ! hated poison , hence ! do you not jest ? yes , sooth and so do you . demetrius , i will keep my word with thee . i would i had your bond , for i perceive',\n",
       " \"a weak bond holds you i'll not trust your word . what ! should i hurt her , strike her , kill her dead ?\",\n",
       " \"although i hate her , i'll not harm her so . what ! can you do me greater harm than hate ?\",\n",
       " 'hate me ! wherefore ? o me ! what news , my love ?',\n",
       " 'am not i hermia ? are not you lysander ?',\n",
       " 'i am as fair now as i was erewhile .',\n",
       " \"since night you lov'd me yet , since night you left me\",\n",
       " 'why , then you left me ,o , the gods forbid !',\n",
       " 'in earnest , shall i say ? ay , by my life',\n",
       " 'and never did desire to see thee more .',\n",
       " 'therefore be out of hope , of question , doubt',\n",
       " \"be certain , nothing truer 'tis no jest ,\",\n",
       " 'that i do hate thee and love helena . o me ! you juggler ! you canker-blossom !',\n",
       " 'you thief of love ! what ! have you come by night',\n",
       " \"and stol'n my love's heart from him ? fine , i' faith !\",\n",
       " 'have you no modesty , no maiden shame ,',\n",
       " 'no touch of bashfulness ? what ! will you tear',\n",
       " 'impatient answers from my gentle tongue ?',\n",
       " 'fie , fie ! you counterfeit , you puppet you ! puppet ! why , so ay , that way goes the game .',\n",
       " 'now i perceive that she hath made compare',\n",
       " \"between our statures she hath urg'd her height\",\n",
       " 'and with her personage , her tall personage ,',\n",
       " \"her height , forsooth , she hath prevail'd with him .\",\n",
       " 'and are you grown so high in his esteem ,',\n",
       " 'because i am so dwarfish and so low ?',\n",
       " 'how low am i , thou painted maypole ? speak',\n",
       " 'how low am i ? i am not yet so low',\n",
       " 'but that my nails can reach unto thine eyes . i pray you , though you mock me , gentlemen ,',\n",
       " 'let her not hurt me i was never curst',\n",
       " 'i have no gift at all in shrewishness',\n",
       " 'i am a right maid for my cowardice',\n",
       " 'let her not strike me . you perhaps may think ,',\n",
       " 'because she is something lower than myself ,',\n",
       " 'that i can match her . lower ! hark , again . good hermia , do not be so bitter with me .',\n",
       " 'i evermore did love you , hermia ,',\n",
       " \"did ever keep your counsels , never wrong'd you\",\n",
       " 'save that , in love unto demetrius ,',\n",
       " 'i told him of your stealth unto this wood .',\n",
       " \"he follow'd you for love i follow'd him\",\n",
       " \"but he hath chid me hence , and threaten'd me\",\n",
       " 'to strike me , spurn me , nay , to kill me too',\n",
       " 'and now , so you will let me quiet go ,',\n",
       " 'to athens will i bear my folly back ,',\n",
       " 'and follow you no further let me go',\n",
       " \"you see how simple and how fond i am . why , get you gone . who is't that hinders you ? a foolish heart , that i leave here behind . what ! with lysander ? with demetrius . be not afraid she shall not harm thee , helena . no , sir she shall not , though you take her part . o ! when she's angry , she is keen and shrewd .\",\n",
       " 'she was a vixen when she went to school',\n",
       " \"and though she be but little , she is fierce . 'little' again ! nothing but 'low' and 'little !'\",\n",
       " 'why will you suffer her to flout me thus ?',\n",
       " 'let me come to her . get you gone , you dwarf',\n",
       " 'you minimus , of hindering knot-grass made',\n",
       " 'you bead , you acorn ! you are too officious',\n",
       " 'in her behalf that scorns your services .',\n",
       " 'let her alone speak not of helena',\n",
       " 'take not her part , for , if thou dost intend',\n",
       " 'never so little show of love to her ,',\n",
       " 'thou shalt aby it . now she holds me not',\n",
       " \"now follow , if thou dar'st , to try whose right ,\",\n",
       " \"or thine or mine , is most in helena . follow ! nay , i'll go with thee , cheek by jole .\",\n",
       " \"you , mistress , all this coil is 'long of you\",\n",
       " 'nay , go not back . i will not trust you , i ,',\n",
       " 'nor longer stay in your curst company .',\n",
       " 'your hands than mine are quicker for a fray ,',\n",
       " 'my legs are longer though , to run away .',\n",
       " \"i am amaz'd , and know not what to say .\",\n",
       " \"this is thy negligence still thou mistak'st ,\",\n",
       " \"or else commit'st thy knaveries wilfully . believe me , king of shadows , i mistook .\",\n",
       " 'did not you tell me i should know the man',\n",
       " 'by the athenian garments he had on ?',\n",
       " 'and so far blameless proves my enterprise ,',\n",
       " \"that i have 'nointed an athenian's eyes\",\n",
       " 'and so far am i glad it so did sort ,',\n",
       " \"as this their jangling i esteem a sport . thou see'st these lovers seek a place to fight\",\n",
       " 'hie therefore , robin , overcast the night',\n",
       " 'the starry welking cover thou anon',\n",
       " 'with drooping fog as black as acheron',\n",
       " 'and lead these testy rivals so astray ,',\n",
       " \"as one come not within another's way .\",\n",
       " 'like to lysander sometime frame thy tongue ,',\n",
       " 'then stir demetrius up with bitter wrong',\n",
       " 'and sometime rail thou like demetrius',\n",
       " 'and from each other look thou lead them thus ,',\n",
       " \"till o'er their brows death-counterfeiting sleep\",\n",
       " 'with leaden legs and batty wings doth creep',\n",
       " \"then crush this herb into lysander's eye\",\n",
       " 'whose liquor hath this virtuous property ,',\n",
       " 'to take from thence all error with his might ,',\n",
       " 'and make his eyeballs roll with wonted sight .',\n",
       " 'when they next wake , all this derision',\n",
       " 'shall seem a dream and fruitless vision',\n",
       " 'and back to athens shall the lovers wend ,',\n",
       " 'with league whose date till death shall never end .',\n",
       " 'whiles i in this affair do thee employ ,',\n",
       " \"i'll to my queen and beg her indian boy\",\n",
       " 'and then i will her charmed eye release',\n",
       " \"from monster's view , and all things shall be peace . my fairy lord , this must be done with haste ,\",\n",
       " \"for night's swift dragons cut the clouds full fast ,\",\n",
       " \"and yonder shines aurora's harbinger\",\n",
       " 'at whose approach , ghosts , wandering here and there ,',\n",
       " 'troop home to churchyards damned spirits all ,',\n",
       " 'that in cross-ways and floods have burial ,',\n",
       " 'already to their wormy beds are gone',\n",
       " 'for fear lest day should look their shames upon ,',\n",
       " 'they wilfully themselves exile from light ,',\n",
       " \"and must for aye consort with black-brow'd night . but we are spirits of another sort .\",\n",
       " \"i with the morning's love have oft made sport\",\n",
       " 'and , like a forester , the groves may tread ,',\n",
       " 'even till the eastern gate , all fiery-red ,',\n",
       " 'opening on neptune with fair blessed beams ,',\n",
       " 'turns into yellow gold his salt green-streams .',\n",
       " 'but , notwithstanding , haste make no delay',\n",
       " 'we may effect this business yet ere day . up and down , up and down',\n",
       " 'i will lead them up and down',\n",
       " \"i am fear'd in field and town\",\n",
       " 'goblin , lead them up and down . here comes one .',\n",
       " 'where art thou , proud demetrius ? speak thou now . here , villain ! drawn and ready . where art thou ? i will be with thee straight . follow me , then ,',\n",
       " 'to plainer ground . lysander ! speak again .',\n",
       " 'thou runaway , thou coward , art thou fled ?',\n",
       " 'speak ! in some bush ? where dost thou hide thy head ? thou coward ! art thou bragging to the stars ,',\n",
       " \"telling the bushes that thou look'st for wars ,\",\n",
       " 'and wilt not come ? come , recreant come , thou child',\n",
       " \"i'll whip thee with a rod he is defil'd\",\n",
       " \"that draws a sword on thee . yea , art thou there ? follow my voice we'll try no manhood here . he goes before me and still dares me on\",\n",
       " 'when i come where he calls , then he is gone .',\n",
       " \"the villain is much lighter-heel'd than i\",\n",
       " \"i follow'd fast , but faster he did fly\",\n",
       " 'that fallen am i in dark uneven way ,',\n",
       " 'and here will rest me . come , thou gentle day !',\n",
       " 'for if but once thou show me thy grey light ,',\n",
       " \"i'll find demetrius and revenge this spite . ho ! ho ! ho ! coward , why com'st thou not ? abide me , if thou dar'st for well i wot\",\n",
       " \"thou runn'st before me , shifting every place ,\",\n",
       " \"and dar'st not stand , nor look me in the face .\",\n",
       " \"where art thou now ? come hither i am here . nay then , thou mock'st me . thou shalt buy this dear ,\",\n",
       " 'if ever i thy face by daylight see',\n",
       " 'now , go thy way . faintness constraineth me',\n",
       " 'to measure out my length on this cold bed',\n",
       " \"by day's approach look to be visited . o weary night ! o long and tedious night ,\",\n",
       " ...]"
      ]
     },
     "execution_count": 42,
     "metadata": {},
     "output_type": "execute_result"
    }
   ],
   "source": [
    "ss_list = ss.split('\\n')\n",
    "ss_list = [i.strip() for i in ss_list]\n",
    "ss_list"
   ]
  },
  {
   "cell_type": "code",
   "execution_count": 47,
   "id": "f2953a17",
   "metadata": {},
   "outputs": [
    {
     "name": "stdout",
     "output_type": "stream",
     "text": [
      "\n",
      "\n",
      "\n"
     ]
    },
    {
     "data": {
      "text/plain": [
       "30267"
      ]
     },
     "execution_count": 47,
     "metadata": {},
     "output_type": "execute_result"
    }
   ],
   "source": [
    "tokenizer = AutoTokenizer.from_pretrained('bert-base-uncased')\n",
    "tokenizer = tokenizer.train_new_from_iterator(iter(ss_list),32000)\n",
    "tokenizer.vocab_size"
   ]
  },
  {
   "cell_type": "code",
   "execution_count": 51,
   "id": "3a47498e",
   "metadata": {},
   "outputs": [
    {
     "data": {
      "text/plain": [
       "(['my',\n",
       "  'tongue',\n",
       "  'should',\n",
       "  'catch',\n",
       "  'your',\n",
       "  'tongue',\n",
       "  \"'\",\n",
       "  's',\n",
       "  'sweet',\n",
       "  'melody',\n",
       "  '.'],\n",
       " ['demetrius', ',', 'i', \"'\", 'll', 'avouch', 'it', 'to', 'his', 'head', ','])"
      ]
     },
     "execution_count": 51,
     "metadata": {},
     "output_type": "execute_result"
    }
   ],
   "source": [
    "tokenizer.tokenize(\"my tongue should catch your tongue's sweet melody .\"), tokenizer.tokenize(\"demetrius , i'll avouch it to his head ,\")"
   ]
  },
  {
   "cell_type": "code",
   "execution_count": 48,
   "id": "5a36406a",
   "metadata": {},
   "outputs": [
    {
     "data": {
      "text/plain": [
       "('shakespeare-tokenizer-bert/plays/tokenizer_config.json',\n",
       " 'shakespeare-tokenizer-bert/plays/special_tokens_map.json',\n",
       " 'shakespeare-tokenizer-bert/plays/vocab.txt',\n",
       " 'shakespeare-tokenizer-bert/plays/added_tokens.json',\n",
       " 'shakespeare-tokenizer-bert/plays/tokenizer.json')"
      ]
     },
     "execution_count": 48,
     "metadata": {},
     "output_type": "execute_result"
    }
   ],
   "source": [
    "tokenizer_save_path = 'shakespeare-tokenizer-bert/plays'\n",
    "tokenizer.save_pretrained(tokenizer_save_path)"
   ]
  },
  {
   "cell_type": "markdown",
   "id": "8866fb8b-f69f-46cc-9410-3b78fb0ff50c",
   "metadata": {},
   "source": [
    "# Exploratory"
   ]
  },
  {
   "cell_type": "code",
   "execution_count": 7,
   "id": "8eae23cd",
   "metadata": {},
   "outputs": [],
   "source": [
    "df = pd.read_csv('data/source/shakespeare.csv')"
   ]
  },
  {
   "cell_type": "code",
   "execution_count": 8,
   "id": "93894566",
   "metadata": {},
   "outputs": [
    {
     "data": {
      "text/html": [
       "<div>\n",
       "<style scoped>\n",
       "    .dataframe tbody tr th:only-of-type {\n",
       "        vertical-align: middle;\n",
       "    }\n",
       "\n",
       "    .dataframe tbody tr th {\n",
       "        vertical-align: top;\n",
       "    }\n",
       "\n",
       "    .dataframe thead th {\n",
       "        text-align: right;\n",
       "    }\n",
       "</style>\n",
       "<table border=\"1\" class=\"dataframe\">\n",
       "  <thead>\n",
       "    <tr style=\"text-align: right;\">\n",
       "      <th></th>\n",
       "      <th>Dataline</th>\n",
       "      <th>Play</th>\n",
       "      <th>PlayerLinenumber</th>\n",
       "      <th>ActSceneLine</th>\n",
       "      <th>Player</th>\n",
       "      <th>PlayerLine</th>\n",
       "    </tr>\n",
       "  </thead>\n",
       "  <tbody>\n",
       "    <tr>\n",
       "      <th>0</th>\n",
       "      <td>1</td>\n",
       "      <td>Henry IV</td>\n",
       "      <td>NaN</td>\n",
       "      <td>NaN</td>\n",
       "      <td>NaN</td>\n",
       "      <td>ACT I</td>\n",
       "    </tr>\n",
       "    <tr>\n",
       "      <th>1</th>\n",
       "      <td>2</td>\n",
       "      <td>Henry IV</td>\n",
       "      <td>NaN</td>\n",
       "      <td>NaN</td>\n",
       "      <td>NaN</td>\n",
       "      <td>SCENE I. London. The palace.</td>\n",
       "    </tr>\n",
       "    <tr>\n",
       "      <th>2</th>\n",
       "      <td>3</td>\n",
       "      <td>Henry IV</td>\n",
       "      <td>NaN</td>\n",
       "      <td>NaN</td>\n",
       "      <td>NaN</td>\n",
       "      <td>Enter KING HENRY, LORD JOHN OF LANCASTER, the ...</td>\n",
       "    </tr>\n",
       "    <tr>\n",
       "      <th>3</th>\n",
       "      <td>4</td>\n",
       "      <td>Henry IV</td>\n",
       "      <td>1.0</td>\n",
       "      <td>1.1.1</td>\n",
       "      <td>KING HENRY IV</td>\n",
       "      <td>So shaken as we are, so wan with care,</td>\n",
       "    </tr>\n",
       "    <tr>\n",
       "      <th>4</th>\n",
       "      <td>5</td>\n",
       "      <td>Henry IV</td>\n",
       "      <td>1.0</td>\n",
       "      <td>1.1.2</td>\n",
       "      <td>KING HENRY IV</td>\n",
       "      <td>Find we a time for frighted peace to pant,</td>\n",
       "    </tr>\n",
       "  </tbody>\n",
       "</table>\n",
       "</div>"
      ],
      "text/plain": [
       "   Dataline      Play  PlayerLinenumber ActSceneLine         Player  \\\n",
       "0         1  Henry IV               NaN          NaN            NaN   \n",
       "1         2  Henry IV               NaN          NaN            NaN   \n",
       "2         3  Henry IV               NaN          NaN            NaN   \n",
       "3         4  Henry IV               1.0        1.1.1  KING HENRY IV   \n",
       "4         5  Henry IV               1.0        1.1.2  KING HENRY IV   \n",
       "\n",
       "                                          PlayerLine  \n",
       "0                                              ACT I  \n",
       "1                       SCENE I. London. The palace.  \n",
       "2  Enter KING HENRY, LORD JOHN OF LANCASTER, the ...  \n",
       "3             So shaken as we are, so wan with care,  \n",
       "4         Find we a time for frighted peace to pant,  "
      ]
     },
     "execution_count": 8,
     "metadata": {},
     "output_type": "execute_result"
    }
   ],
   "source": [
    "df.head(5)"
   ]
  },
  {
   "cell_type": "code",
   "execution_count": 9,
   "id": "afcc48c4-6697-41e9-bd4e-391f5f074912",
   "metadata": {},
   "outputs": [],
   "source": [
    "# df['Play'].str.lower().unique()"
   ]
  },
  {
   "cell_type": "code",
   "execution_count": 10,
   "id": "34af8bd7-4263-471f-8aeb-20bd2d1dac87",
   "metadata": {},
   "outputs": [],
   "source": [
    "# df['Player'].str.lower().unique()"
   ]
  },
  {
   "cell_type": "code",
   "execution_count": 11,
   "id": "b79b708c-c7e0-400f-a338-d9dfebc262b7",
   "metadata": {},
   "outputs": [],
   "source": [
    "# french characters: alencon, alice, king of france, katharine, dauphin\n",
    "# french speaking characters"
   ]
  },
  {
   "cell_type": "code",
   "execution_count": 12,
   "id": "956711ee-a133-4f3b-a440-902196514595",
   "metadata": {},
   "outputs": [],
   "source": [
    "# df[df['Player'].str.lower() == 'katharine']\n",
    "# maybe could remove the whole of Henry V since that is where most french lines are found"
   ]
  },
  {
   "cell_type": "code",
   "execution_count": 13,
   "id": "70a2de6a",
   "metadata": {
    "scrolled": false
   },
   "outputs": [
    {
     "data": {
      "text/html": [
       "<div>\n",
       "<style scoped>\n",
       "    .dataframe tbody tr th:only-of-type {\n",
       "        vertical-align: middle;\n",
       "    }\n",
       "\n",
       "    .dataframe tbody tr th {\n",
       "        vertical-align: top;\n",
       "    }\n",
       "\n",
       "    .dataframe thead th {\n",
       "        text-align: right;\n",
       "    }\n",
       "</style>\n",
       "<table border=\"1\" class=\"dataframe\">\n",
       "  <thead>\n",
       "    <tr style=\"text-align: right;\">\n",
       "      <th></th>\n",
       "      <th>Play</th>\n",
       "      <th>PlayerLinenumber</th>\n",
       "      <th>Player</th>\n",
       "      <th>PlayerLine</th>\n",
       "    </tr>\n",
       "  </thead>\n",
       "  <tbody>\n",
       "    <tr>\n",
       "      <th>3</th>\n",
       "      <td>Henry IV</td>\n",
       "      <td>1.0</td>\n",
       "      <td>KING HENRY IV</td>\n",
       "      <td>So shaken as we are, so wan with care,</td>\n",
       "    </tr>\n",
       "    <tr>\n",
       "      <th>4</th>\n",
       "      <td>Henry IV</td>\n",
       "      <td>1.0</td>\n",
       "      <td>KING HENRY IV</td>\n",
       "      <td>Find we a time for frighted peace to pant,</td>\n",
       "    </tr>\n",
       "    <tr>\n",
       "      <th>5</th>\n",
       "      <td>Henry IV</td>\n",
       "      <td>1.0</td>\n",
       "      <td>KING HENRY IV</td>\n",
       "      <td>And breathe short-winded accents of new broils</td>\n",
       "    </tr>\n",
       "    <tr>\n",
       "      <th>6</th>\n",
       "      <td>Henry IV</td>\n",
       "      <td>1.0</td>\n",
       "      <td>KING HENRY IV</td>\n",
       "      <td>To be commenced in strands afar remote.</td>\n",
       "    </tr>\n",
       "    <tr>\n",
       "      <th>7</th>\n",
       "      <td>Henry IV</td>\n",
       "      <td>1.0</td>\n",
       "      <td>KING HENRY IV</td>\n",
       "      <td>No more the thirsty entrance of this soil</td>\n",
       "    </tr>\n",
       "    <tr>\n",
       "      <th>8</th>\n",
       "      <td>Henry IV</td>\n",
       "      <td>1.0</td>\n",
       "      <td>KING HENRY IV</td>\n",
       "      <td>Shall daub her lips with her own children's bl...</td>\n",
       "    </tr>\n",
       "    <tr>\n",
       "      <th>9</th>\n",
       "      <td>Henry IV</td>\n",
       "      <td>1.0</td>\n",
       "      <td>KING HENRY IV</td>\n",
       "      <td>Nor more shall trenching war channel her fields,</td>\n",
       "    </tr>\n",
       "    <tr>\n",
       "      <th>10</th>\n",
       "      <td>Henry IV</td>\n",
       "      <td>1.0</td>\n",
       "      <td>KING HENRY IV</td>\n",
       "      <td>Nor bruise her flowerets with the armed hoofs</td>\n",
       "    </tr>\n",
       "    <tr>\n",
       "      <th>11</th>\n",
       "      <td>Henry IV</td>\n",
       "      <td>1.0</td>\n",
       "      <td>KING HENRY IV</td>\n",
       "      <td>Of hostile paces: those opposed eyes,</td>\n",
       "    </tr>\n",
       "    <tr>\n",
       "      <th>12</th>\n",
       "      <td>Henry IV</td>\n",
       "      <td>1.0</td>\n",
       "      <td>KING HENRY IV</td>\n",
       "      <td>Which, like the meteors of a troubled heaven,</td>\n",
       "    </tr>\n",
       "  </tbody>\n",
       "</table>\n",
       "</div>"
      ],
      "text/plain": [
       "        Play  PlayerLinenumber         Player  \\\n",
       "3   Henry IV               1.0  KING HENRY IV   \n",
       "4   Henry IV               1.0  KING HENRY IV   \n",
       "5   Henry IV               1.0  KING HENRY IV   \n",
       "6   Henry IV               1.0  KING HENRY IV   \n",
       "7   Henry IV               1.0  KING HENRY IV   \n",
       "8   Henry IV               1.0  KING HENRY IV   \n",
       "9   Henry IV               1.0  KING HENRY IV   \n",
       "10  Henry IV               1.0  KING HENRY IV   \n",
       "11  Henry IV               1.0  KING HENRY IV   \n",
       "12  Henry IV               1.0  KING HENRY IV   \n",
       "\n",
       "                                           PlayerLine  \n",
       "3              So shaken as we are, so wan with care,  \n",
       "4          Find we a time for frighted peace to pant,  \n",
       "5      And breathe short-winded accents of new broils  \n",
       "6             To be commenced in strands afar remote.  \n",
       "7           No more the thirsty entrance of this soil  \n",
       "8   Shall daub her lips with her own children's bl...  \n",
       "9    Nor more shall trenching war channel her fields,  \n",
       "10      Nor bruise her flowerets with the armed hoofs  \n",
       "11              Of hostile paces: those opposed eyes,  \n",
       "12      Which, like the meteors of a troubled heaven,  "
      ]
     },
     "execution_count": 13,
     "metadata": {},
     "output_type": "execute_result"
    }
   ],
   "source": [
    "remove = df[(df['Player'].notna()) & (df[\"PlayerLine\"]!='Exeunt')]\n",
    "data = remove[['Play', 'PlayerLinenumber', \"Player\", \"PlayerLine\"]]\n",
    "data.head(10)"
   ]
  },
  {
   "cell_type": "markdown",
   "id": "21c740f7-a4a3-4a21-b31e-30923529f64c",
   "metadata": {},
   "source": [
    "# Preprocessing Shakespeare"
   ]
  },
  {
   "cell_type": "code",
   "execution_count": 91,
   "id": "75565b17",
   "metadata": {},
   "outputs": [],
   "source": [
    "class ShakespeareData:\n",
    "    def __init__(self, filepath='data/source/shakespeare.csv'):        \n",
    "        data = pd.read_csv(filepath)\n",
    "        self.data = self.clean(data) \n",
    "            \n",
    "    def clean(self, data):\n",
    "        repl = {\n",
    "            '@\\w*': ' ', \n",
    "            '&amp;' : 'and',\n",
    "            '&#\\w*;': ' ', \n",
    "            '\\\\n\\.':' ' ,\n",
    "            '\\\\n':' ',\n",
    "            \"\\.{2,}\": '.', \n",
    "            \"!{2,}\":'!', \n",
    "            \"\\?{2,}\":'?', \n",
    "            '_':\" \",\n",
    "            ' +': ' ', \n",
    "            '\\-{2,}': ' ',\n",
    "            ':': '',\n",
    "            ';': '',\n",
    "            '\\[': '',\n",
    "            '\\]': '',\n",
    "            '  ': ' '\n",
    "            }\n",
    "\n",
    "        data = data[(data['Player'].notna()) & (data[\"PlayerLine\"]!='Exeunt') & (data[\"Play\"]!='Henry V') & (data['ActSceneLine'].notna())]\n",
    "        data = data[['ActSceneLine', \"Player\", \"PlayerLine\", \"Play\", \"PlayerLinenumber\"]]\n",
    "        data['ActScene'] = data['ActSceneLine'].apply(extract_before_second_full_stop)\n",
    "        cleaned = data['PlayerLine'].apply(lambda x: x.strip().lower())\n",
    "        cleaned = cleaned.replace(repl, regex=True)\n",
    "        cleaned_data = data.assign(text = cleaned)\n",
    "        return cleaned_data\n",
    "\n",
    "def extract_before_second_full_stop(string):\n",
    "    index = string.find('.', string.find('.') + 1)  # Find index of second full stop\n",
    "    if index != -1:\n",
    "        return string[:index]\n",
    "    else:\n",
    "        return string"
   ]
  },
  {
   "cell_type": "code",
   "execution_count": 92,
   "id": "da7308df-27a4-4321-9b91-2d9f9e4bd25b",
   "metadata": {},
   "outputs": [],
   "source": [
    "def generate_src_trg_dataset(text_col):\n",
    "    data = []\n",
    "    \n",
    "    for i in range(len(text_col)-1):\n",
    "        dictionary = {}\n",
    "        dictionary[\"src\"] = text_col.iloc[i]\n",
    "        dictionary[\"trg\"] = text_col.iloc[i+1]\n",
    "        data.append(dictionary)\n",
    "\n",
    "#     for i in range(len(text_col)-5):\n",
    "#         dictionary = {}\n",
    "#         dictionary[\"src\"] = (text_col.iloc[i] + \" \" + text_col.iloc[i+1] + \" \" + text_col.iloc[i+2]).strip()\n",
    "#         dictionary[\"trg\"] = (text_col.iloc[i+3] + \" \" + text_col.iloc[i+4] + \" \" + text_col.iloc[i+5]).strip()\n",
    "#         data.append(dictionary)\n",
    "    \n",
    "    return data\n",
    "\n",
    "def save_src_trg_dataset(data, filename = 'data', folder_dir = ''):\n",
    "    fn = folder_dir + filename + '.jsonl'\n",
    "    with open(fn, 'w') as outfile:\n",
    "        for entry in data:\n",
    "            json.dump(entry, outfile)\n",
    "            outfile.write('\\n')\n",
    "\n",
    "def generate_and_save_dataset(data_text_column, filename= 'data', folder_dir= ''):\n",
    "    data = generate_src_trg_dataset(data_text_column)\n",
    "    save_src_trg_dataset(data, filename=filename, folder_dir=folder_dir)"
   ]
  },
  {
   "cell_type": "code",
   "execution_count": 93,
   "id": "8dd68604",
   "metadata": {},
   "outputs": [],
   "source": [
    "# with open('vocab_list.pickle', 'wb') as handle:\n",
    "#     pickle.dump(vocab.idx_word, handle)"
   ]
  },
  {
   "cell_type": "code",
   "execution_count": 94,
   "id": "b3dffb35",
   "metadata": {},
   "outputs": [],
   "source": [
    "shakespeare_data = ShakespeareData()"
   ]
  },
  {
   "cell_type": "code",
   "execution_count": 95,
   "id": "6f653c79",
   "metadata": {},
   "outputs": [
    {
     "data": {
      "text/html": [
       "<div>\n",
       "<style scoped>\n",
       "    .dataframe tbody tr th:only-of-type {\n",
       "        vertical-align: middle;\n",
       "    }\n",
       "\n",
       "    .dataframe tbody tr th {\n",
       "        vertical-align: top;\n",
       "    }\n",
       "\n",
       "    .dataframe thead th {\n",
       "        text-align: right;\n",
       "    }\n",
       "</style>\n",
       "<table border=\"1\" class=\"dataframe\">\n",
       "  <thead>\n",
       "    <tr style=\"text-align: right;\">\n",
       "      <th></th>\n",
       "      <th>ActSceneLine</th>\n",
       "      <th>Player</th>\n",
       "      <th>PlayerLine</th>\n",
       "      <th>Play</th>\n",
       "      <th>PlayerLinenumber</th>\n",
       "      <th>ActScene</th>\n",
       "      <th>text</th>\n",
       "    </tr>\n",
       "  </thead>\n",
       "  <tbody>\n",
       "    <tr>\n",
       "      <th>3</th>\n",
       "      <td>1.1.1</td>\n",
       "      <td>KING HENRY IV</td>\n",
       "      <td>So shaken as we are, so wan with care,</td>\n",
       "      <td>Henry IV</td>\n",
       "      <td>1.0</td>\n",
       "      <td>1.1</td>\n",
       "      <td>so shaken as we are, so wan with care,</td>\n",
       "    </tr>\n",
       "    <tr>\n",
       "      <th>4</th>\n",
       "      <td>1.1.2</td>\n",
       "      <td>KING HENRY IV</td>\n",
       "      <td>Find we a time for frighted peace to pant,</td>\n",
       "      <td>Henry IV</td>\n",
       "      <td>1.0</td>\n",
       "      <td>1.1</td>\n",
       "      <td>find we a time for frighted peace to pant,</td>\n",
       "    </tr>\n",
       "    <tr>\n",
       "      <th>5</th>\n",
       "      <td>1.1.3</td>\n",
       "      <td>KING HENRY IV</td>\n",
       "      <td>And breathe short-winded accents of new broils</td>\n",
       "      <td>Henry IV</td>\n",
       "      <td>1.0</td>\n",
       "      <td>1.1</td>\n",
       "      <td>and breathe short-winded accents of new broils</td>\n",
       "    </tr>\n",
       "    <tr>\n",
       "      <th>6</th>\n",
       "      <td>1.1.4</td>\n",
       "      <td>KING HENRY IV</td>\n",
       "      <td>To be commenced in strands afar remote.</td>\n",
       "      <td>Henry IV</td>\n",
       "      <td>1.0</td>\n",
       "      <td>1.1</td>\n",
       "      <td>to be commenced in strands afar remote.</td>\n",
       "    </tr>\n",
       "    <tr>\n",
       "      <th>7</th>\n",
       "      <td>1.1.5</td>\n",
       "      <td>KING HENRY IV</td>\n",
       "      <td>No more the thirsty entrance of this soil</td>\n",
       "      <td>Henry IV</td>\n",
       "      <td>1.0</td>\n",
       "      <td>1.1</td>\n",
       "      <td>no more the thirsty entrance of this soil</td>\n",
       "    </tr>\n",
       "  </tbody>\n",
       "</table>\n",
       "</div>"
      ],
      "text/plain": [
       "  ActSceneLine         Player                                      PlayerLine  \\\n",
       "3        1.1.1  KING HENRY IV          So shaken as we are, so wan with care,   \n",
       "4        1.1.2  KING HENRY IV      Find we a time for frighted peace to pant,   \n",
       "5        1.1.3  KING HENRY IV  And breathe short-winded accents of new broils   \n",
       "6        1.1.4  KING HENRY IV         To be commenced in strands afar remote.   \n",
       "7        1.1.5  KING HENRY IV       No more the thirsty entrance of this soil   \n",
       "\n",
       "       Play  PlayerLinenumber ActScene  \\\n",
       "3  Henry IV               1.0      1.1   \n",
       "4  Henry IV               1.0      1.1   \n",
       "5  Henry IV               1.0      1.1   \n",
       "6  Henry IV               1.0      1.1   \n",
       "7  Henry IV               1.0      1.1   \n",
       "\n",
       "                                             text  \n",
       "3          so shaken as we are, so wan with care,  \n",
       "4      find we a time for frighted peace to pant,  \n",
       "5  and breathe short-winded accents of new broils  \n",
       "6         to be commenced in strands afar remote.  \n",
       "7       no more the thirsty entrance of this soil  "
      ]
     },
     "execution_count": 95,
     "metadata": {},
     "output_type": "execute_result"
    }
   ],
   "source": [
    "shakespeare_data.data.head() # 107459 -> # 101919 after removing na in actsceneline"
   ]
  },
  {
   "cell_type": "code",
   "execution_count": 61,
   "id": "a721ec00-dd89-4dfa-96dd-f9e77dc7bca6",
   "metadata": {},
   "outputs": [],
   "source": [
    "def split_long_lines(line, max_length=100):\n",
    "    if len(line) <= max_length:\n",
    "        return [line]\n",
    "    else:\n",
    "        match_punctuation = re.search(r'[\\.,;:!?>]\\s*', line[:max_length][::-1])\n",
    "#         match_word = re.search(r'\\s', line[:max_length][::-1])\n",
    "        if match_punctuation:\n",
    "            split_point = max_length-match_punctuation.start()\n",
    "#         elif match_word:\n",
    "#             split_point = max_length - match_word.start()\n",
    "        else:\n",
    "            split_point = max_length\n",
    "        return [line[:split_point].strip()] + split_long_lines(line[split_point:].strip(), max_length=max_length)\n",
    "    \n",
    "def remove_separator(lines):\n",
    "    return [i.replace(\">\", \"\").strip().replace(\"  \", \" \") for i in lines]"
   ]
  },
  {
   "cell_type": "code",
   "execution_count": 62,
   "id": "2fbb1f7f-fab2-4636-ac5f-df967b3c1c24",
   "metadata": {},
   "outputs": [],
   "source": [
    "data_per_convo = shakespeare_data.data.groupby(['Play', 'Player', 'ActScene', 'PlayerLinenumber'],sort=False)['text'].agg(lambda x: ' > '.join(x)).reset_index()"
   ]
  },
  {
   "cell_type": "code",
   "execution_count": 63,
   "id": "2e8cdd66-5baf-4fa0-8f8b-05ffc17e69ca",
   "metadata": {},
   "outputs": [
    {
     "data": {
      "text/html": [
       "<div>\n",
       "<style scoped>\n",
       "    .dataframe tbody tr th:only-of-type {\n",
       "        vertical-align: middle;\n",
       "    }\n",
       "\n",
       "    .dataframe tbody tr th {\n",
       "        vertical-align: top;\n",
       "    }\n",
       "\n",
       "    .dataframe thead th {\n",
       "        text-align: right;\n",
       "    }\n",
       "</style>\n",
       "<table border=\"1\" class=\"dataframe\">\n",
       "  <thead>\n",
       "    <tr style=\"text-align: right;\">\n",
       "      <th></th>\n",
       "      <th>Play</th>\n",
       "      <th>Player</th>\n",
       "      <th>ActScene</th>\n",
       "      <th>PlayerLinenumber</th>\n",
       "      <th>text</th>\n",
       "    </tr>\n",
       "  </thead>\n",
       "  <tbody>\n",
       "    <tr>\n",
       "      <th>0</th>\n",
       "      <td>Henry IV</td>\n",
       "      <td>KING HENRY IV</td>\n",
       "      <td>1.1</td>\n",
       "      <td>1.0</td>\n",
       "      <td>so shaken as we are, so wan with care, &gt; find ...</td>\n",
       "    </tr>\n",
       "    <tr>\n",
       "      <th>1</th>\n",
       "      <td>Henry IV</td>\n",
       "      <td>WESTMORELAND</td>\n",
       "      <td>1.1</td>\n",
       "      <td>2.0</td>\n",
       "      <td>my liege, this haste was hot in question, &gt; an...</td>\n",
       "    </tr>\n",
       "    <tr>\n",
       "      <th>2</th>\n",
       "      <td>Henry IV</td>\n",
       "      <td>KING HENRY IV</td>\n",
       "      <td>1.1</td>\n",
       "      <td>3.0</td>\n",
       "      <td>it seems then that the tidings of this broil &gt;...</td>\n",
       "    </tr>\n",
       "    <tr>\n",
       "      <th>3</th>\n",
       "      <td>Henry IV</td>\n",
       "      <td>WESTMORELAND</td>\n",
       "      <td>1.1</td>\n",
       "      <td>4.0</td>\n",
       "      <td>this match'd with other did, my gracious lord,...</td>\n",
       "    </tr>\n",
       "    <tr>\n",
       "      <th>4</th>\n",
       "      <td>Henry IV</td>\n",
       "      <td>KING HENRY IV</td>\n",
       "      <td>1.1</td>\n",
       "      <td>5.0</td>\n",
       "      <td>here is a dear, a true industrious friend, &gt; s...</td>\n",
       "    </tr>\n",
       "  </tbody>\n",
       "</table>\n",
       "</div>"
      ],
      "text/plain": [
       "       Play         Player ActScene  PlayerLinenumber  \\\n",
       "0  Henry IV  KING HENRY IV      1.1               1.0   \n",
       "1  Henry IV   WESTMORELAND      1.1               2.0   \n",
       "2  Henry IV  KING HENRY IV      1.1               3.0   \n",
       "3  Henry IV   WESTMORELAND      1.1               4.0   \n",
       "4  Henry IV  KING HENRY IV      1.1               5.0   \n",
       "\n",
       "                                                text  \n",
       "0  so shaken as we are, so wan with care, > find ...  \n",
       "1  my liege, this haste was hot in question, > an...  \n",
       "2  it seems then that the tidings of this broil >...  \n",
       "3  this match'd with other did, my gracious lord,...  \n",
       "4  here is a dear, a true industrious friend, > s...  "
      ]
     },
     "execution_count": 63,
     "metadata": {},
     "output_type": "execute_result"
    }
   ],
   "source": [
    "data_per_convo.head()"
   ]
  },
  {
   "cell_type": "code",
   "execution_count": 64,
   "id": "3a94b6c3-f55c-4b49-a763-1358afc8c26f",
   "metadata": {},
   "outputs": [],
   "source": [
    "data_per_convo['text_processed']=data_per_convo['text'].apply(split_long_lines)"
   ]
  },
  {
   "cell_type": "code",
   "execution_count": 65,
   "id": "16e46aa5-efe1-4416-bdb3-076cd1d0b652",
   "metadata": {},
   "outputs": [
    {
     "data": {
      "text/plain": [
       "['so shaken as we are, so wan with care, > find we a time for frighted peace to pant, >',\n",
       " 'and breathe short-winded accents of new broils > to be commenced in strands afar remote. >',\n",
       " \"no more the thirsty entrance of this soil > shall daub her lips with her own children's blood, >\",\n",
       " 'nor more shall trenching war channel her fields, > nor bruise her flowerets with the armed hoofs >',\n",
       " 'of hostile paces those opposed eyes, > which, like the meteors of a troubled heaven, >',\n",
       " 'all of one nature, of one substance bred, > did lately meet in the intestine shock >',\n",
       " 'and furious close of civil butchery > shall now, in mutual well-beseeming ranks, >',\n",
       " 'march all one way and be no more opposed > against acquaintance, kindred and allies >',\n",
       " 'the edge of war, like an ill-sheathed knife, > no more shall cut his master. therefore, friends, >',\n",
       " 'as far as to the sepulchre of christ, > whose soldier now, under whose blessed cross >',\n",
       " 'we are impressed and engaged to fight, > forthwith a power of english shall we levy, >',\n",
       " \"whose arms were moulded in their mothers' womb > to chase these pagans in those holy fields >\",\n",
       " \"over whose acres walk'd those blessed feet > which fourteen hundred years ago were nail'd >\",\n",
       " 'for our advantage on the bitter cross. > but this our purpose now is twelve month old, >',\n",
       " \"and bootless 'tis to tell you we will go > therefore we meet not now. then let me hear > of you,\",\n",
       " 'my gentle cousin westmoreland, > what yesternight our council did decree >',\n",
       " 'in forwarding this dear expedience.']"
      ]
     },
     "execution_count": 65,
     "metadata": {},
     "output_type": "execute_result"
    }
   ],
   "source": [
    "data_per_convo.text_processed.iloc[0]"
   ]
  },
  {
   "cell_type": "code",
   "execution_count": 66,
   "id": "0db71502-9a74-4168-9b25-6c9e3ffb19e1",
   "metadata": {},
   "outputs": [],
   "source": [
    "data_per_convo['text_processed']=data_per_convo['text_processed'].apply(remove_separator)"
   ]
  },
  {
   "cell_type": "code",
   "execution_count": 67,
   "id": "9ee389ba-4333-423d-8bb7-3fed837293ad",
   "metadata": {},
   "outputs": [
    {
     "data": {
      "text/plain": [
       "['so shaken as we are, so wan with care, find we a time for frighted peace to pant,',\n",
       " 'and breathe short-winded accents of new broils to be commenced in strands afar remote.',\n",
       " \"no more the thirsty entrance of this soil shall daub her lips with her own children's blood,\",\n",
       " 'nor more shall trenching war channel her fields, nor bruise her flowerets with the armed hoofs',\n",
       " 'of hostile paces those opposed eyes, which, like the meteors of a troubled heaven,',\n",
       " 'all of one nature, of one substance bred, did lately meet in the intestine shock',\n",
       " 'and furious close of civil butchery shall now, in mutual well-beseeming ranks,',\n",
       " 'march all one way and be no more opposed against acquaintance, kindred and allies',\n",
       " 'the edge of war, like an ill-sheathed knife, no more shall cut his master. therefore, friends,',\n",
       " 'as far as to the sepulchre of christ, whose soldier now, under whose blessed cross',\n",
       " 'we are impressed and engaged to fight, forthwith a power of english shall we levy,',\n",
       " \"whose arms were moulded in their mothers' womb to chase these pagans in those holy fields\",\n",
       " \"over whose acres walk'd those blessed feet which fourteen hundred years ago were nail'd\",\n",
       " 'for our advantage on the bitter cross. but this our purpose now is twelve month old,',\n",
       " \"and bootless 'tis to tell you we will go therefore we meet not now. then let me hear of you,\",\n",
       " 'my gentle cousin westmoreland, what yesternight our council did decree',\n",
       " 'in forwarding this dear expedience.']"
      ]
     },
     "execution_count": 67,
     "metadata": {},
     "output_type": "execute_result"
    }
   ],
   "source": [
    "data_per_convo.text_processed.iloc[0]"
   ]
  },
  {
   "cell_type": "code",
   "execution_count": 68,
   "id": "75626bb1-959a-4d70-befb-f044416d8a38",
   "metadata": {},
   "outputs": [
    {
     "data": {
      "text/plain": [
       "('so many miseries have crazed my voice, > that my woe-wearied tongue is mute and dumb, > edward plantagenet, why art thou dead?',\n",
       " ['so many miseries have crazed my voice, that my woe-wearied tongue is mute and dumb,',\n",
       "  'edward plantagenet, why art thou dead?'])"
      ]
     },
     "execution_count": 68,
     "metadata": {},
     "output_type": "execute_result"
    }
   ],
   "source": [
    "data_per_convo['text'].iloc[21712], data_per_convo['text_processed'].iloc[21712]"
   ]
  },
  {
   "cell_type": "code",
   "execution_count": 69,
   "id": "8162012a-a9df-49ea-857e-1c1bfac57603",
   "metadata": {},
   "outputs": [
    {
     "data": {
      "text/html": [
       "<div>\n",
       "<style scoped>\n",
       "    .dataframe tbody tr th:only-of-type {\n",
       "        vertical-align: middle;\n",
       "    }\n",
       "\n",
       "    .dataframe tbody tr th {\n",
       "        vertical-align: top;\n",
       "    }\n",
       "\n",
       "    .dataframe thead th {\n",
       "        text-align: right;\n",
       "    }\n",
       "</style>\n",
       "<table border=\"1\" class=\"dataframe\">\n",
       "  <thead>\n",
       "    <tr style=\"text-align: right;\">\n",
       "      <th></th>\n",
       "      <th>Play</th>\n",
       "      <th>Player</th>\n",
       "      <th>ActScene</th>\n",
       "      <th>PlayerLinenumber</th>\n",
       "      <th>text</th>\n",
       "      <th>text_processed</th>\n",
       "    </tr>\n",
       "  </thead>\n",
       "  <tbody>\n",
       "    <tr>\n",
       "      <th>5992</th>\n",
       "      <td>A Comedy of Errors</td>\n",
       "      <td>ADRIANA</td>\n",
       "      <td>2.1</td>\n",
       "      <td>1.0</td>\n",
       "      <td>neither my husband nor the slave return'd, &gt; t...</td>\n",
       "      <td>[neither my husband nor the slave return'd, th...</td>\n",
       "    </tr>\n",
       "    <tr>\n",
       "      <th>6278</th>\n",
       "      <td>A Comedy of Errors</td>\n",
       "      <td>ADRIANA</td>\n",
       "      <td>4.2</td>\n",
       "      <td>1.0</td>\n",
       "      <td>ah, luciana, did he tempt thee so? &gt; mightst t...</td>\n",
       "      <td>[ah, luciana, did he tempt thee so? mightst th...</td>\n",
       "    </tr>\n",
       "  </tbody>\n",
       "</table>\n",
       "</div>"
      ],
      "text/plain": [
       "                    Play   Player ActScene  PlayerLinenumber  \\\n",
       "5992  A Comedy of Errors  ADRIANA      2.1               1.0   \n",
       "6278  A Comedy of Errors  ADRIANA      4.2               1.0   \n",
       "\n",
       "                                                   text  \\\n",
       "5992  neither my husband nor the slave return'd, > t...   \n",
       "6278  ah, luciana, did he tempt thee so? > mightst t...   \n",
       "\n",
       "                                         text_processed  \n",
       "5992  [neither my husband nor the slave return'd, th...  \n",
       "6278  [ah, luciana, did he tempt thee so? mightst th...  "
      ]
     },
     "execution_count": 69,
     "metadata": {},
     "output_type": "execute_result"
    }
   ],
   "source": [
    "data_per_convo[(data_per_convo['Play'] == 'A Comedy of Errors') & (data_per_convo['Player'] == 'ADRIANA') & (data_per_convo['PlayerLinenumber'] == 1.0)].head()"
   ]
  },
  {
   "cell_type": "code",
   "execution_count": 70,
   "id": "1f8bd736-ac66-4d35-bc10-176152b0ebb8",
   "metadata": {},
   "outputs": [],
   "source": [
    "data_per_convo = data_per_convo.explode('text_processed')"
   ]
  },
  {
   "cell_type": "code",
   "execution_count": 71,
   "id": "164ba1cf-266a-4689-b05b-426296d87073",
   "metadata": {},
   "outputs": [
    {
     "data": {
      "text/html": [
       "<div>\n",
       "<style scoped>\n",
       "    .dataframe tbody tr th:only-of-type {\n",
       "        vertical-align: middle;\n",
       "    }\n",
       "\n",
       "    .dataframe tbody tr th {\n",
       "        vertical-align: top;\n",
       "    }\n",
       "\n",
       "    .dataframe thead th {\n",
       "        text-align: right;\n",
       "    }\n",
       "</style>\n",
       "<table border=\"1\" class=\"dataframe\">\n",
       "  <thead>\n",
       "    <tr style=\"text-align: right;\">\n",
       "      <th></th>\n",
       "      <th>Play</th>\n",
       "      <th>Player</th>\n",
       "      <th>ActScene</th>\n",
       "      <th>PlayerLinenumber</th>\n",
       "      <th>text</th>\n",
       "      <th>text_processed</th>\n",
       "    </tr>\n",
       "  </thead>\n",
       "  <tbody>\n",
       "    <tr>\n",
       "      <th>0</th>\n",
       "      <td>Henry IV</td>\n",
       "      <td>KING HENRY IV</td>\n",
       "      <td>1.1</td>\n",
       "      <td>1.0</td>\n",
       "      <td>so shaken as we are, so wan with care, &gt; find ...</td>\n",
       "      <td>so shaken as we are, so wan with care, find we...</td>\n",
       "    </tr>\n",
       "    <tr>\n",
       "      <th>0</th>\n",
       "      <td>Henry IV</td>\n",
       "      <td>KING HENRY IV</td>\n",
       "      <td>1.1</td>\n",
       "      <td>1.0</td>\n",
       "      <td>so shaken as we are, so wan with care, &gt; find ...</td>\n",
       "      <td>and breathe short-winded accents of new broils...</td>\n",
       "    </tr>\n",
       "    <tr>\n",
       "      <th>0</th>\n",
       "      <td>Henry IV</td>\n",
       "      <td>KING HENRY IV</td>\n",
       "      <td>1.1</td>\n",
       "      <td>1.0</td>\n",
       "      <td>so shaken as we are, so wan with care, &gt; find ...</td>\n",
       "      <td>no more the thirsty entrance of this soil shal...</td>\n",
       "    </tr>\n",
       "    <tr>\n",
       "      <th>0</th>\n",
       "      <td>Henry IV</td>\n",
       "      <td>KING HENRY IV</td>\n",
       "      <td>1.1</td>\n",
       "      <td>1.0</td>\n",
       "      <td>so shaken as we are, so wan with care, &gt; find ...</td>\n",
       "      <td>nor more shall trenching war channel her field...</td>\n",
       "    </tr>\n",
       "    <tr>\n",
       "      <th>0</th>\n",
       "      <td>Henry IV</td>\n",
       "      <td>KING HENRY IV</td>\n",
       "      <td>1.1</td>\n",
       "      <td>1.0</td>\n",
       "      <td>so shaken as we are, so wan with care, &gt; find ...</td>\n",
       "      <td>of hostile paces those opposed eyes, which, li...</td>\n",
       "    </tr>\n",
       "    <tr>\n",
       "      <th>...</th>\n",
       "      <td>...</td>\n",
       "      <td>...</td>\n",
       "      <td>...</td>\n",
       "      <td>...</td>\n",
       "      <td>...</td>\n",
       "      <td>...</td>\n",
       "    </tr>\n",
       "    <tr>\n",
       "      <th>29360</th>\n",
       "      <td>A Winters Tale</td>\n",
       "      <td>LEONTES</td>\n",
       "      <td>5.3</td>\n",
       "      <td>38.0</td>\n",
       "      <td>o, peace, paulina! &gt; thou shouldst a husband t...</td>\n",
       "      <td>look upon my brother both your pardons, that e...</td>\n",
       "    </tr>\n",
       "    <tr>\n",
       "      <th>29360</th>\n",
       "      <td>A Winters Tale</td>\n",
       "      <td>LEONTES</td>\n",
       "      <td>5.3</td>\n",
       "      <td>38.0</td>\n",
       "      <td>o, peace, paulina! &gt; thou shouldst a husband t...</td>\n",
       "      <td>my ill suspicion. this is your son-in-law, and...</td>\n",
       "    </tr>\n",
       "    <tr>\n",
       "      <th>29360</th>\n",
       "      <td>A Winters Tale</td>\n",
       "      <td>LEONTES</td>\n",
       "      <td>5.3</td>\n",
       "      <td>38.0</td>\n",
       "      <td>o, peace, paulina! &gt; thou shouldst a husband t...</td>\n",
       "      <td>is troth-plight to your daughter. good paulina...</td>\n",
       "    </tr>\n",
       "    <tr>\n",
       "      <th>29360</th>\n",
       "      <td>A Winters Tale</td>\n",
       "      <td>LEONTES</td>\n",
       "      <td>5.3</td>\n",
       "      <td>38.0</td>\n",
       "      <td>o, peace, paulina! &gt; thou shouldst a husband t...</td>\n",
       "      <td>each one demand an answer to his part perform'...</td>\n",
       "    </tr>\n",
       "    <tr>\n",
       "      <th>29360</th>\n",
       "      <td>A Winters Tale</td>\n",
       "      <td>LEONTES</td>\n",
       "      <td>5.3</td>\n",
       "      <td>38.0</td>\n",
       "      <td>o, peace, paulina! &gt; thou shouldst a husband t...</td>\n",
       "      <td>we were dissever'd hastily lead away.</td>\n",
       "    </tr>\n",
       "  </tbody>\n",
       "</table>\n",
       "<p>60819 rows × 6 columns</p>\n",
       "</div>"
      ],
      "text/plain": [
       "                 Play         Player ActScene  PlayerLinenumber  \\\n",
       "0            Henry IV  KING HENRY IV      1.1               1.0   \n",
       "0            Henry IV  KING HENRY IV      1.1               1.0   \n",
       "0            Henry IV  KING HENRY IV      1.1               1.0   \n",
       "0            Henry IV  KING HENRY IV      1.1               1.0   \n",
       "0            Henry IV  KING HENRY IV      1.1               1.0   \n",
       "...               ...            ...      ...               ...   \n",
       "29360  A Winters Tale        LEONTES      5.3              38.0   \n",
       "29360  A Winters Tale        LEONTES      5.3              38.0   \n",
       "29360  A Winters Tale        LEONTES      5.3              38.0   \n",
       "29360  A Winters Tale        LEONTES      5.3              38.0   \n",
       "29360  A Winters Tale        LEONTES      5.3              38.0   \n",
       "\n",
       "                                                    text  \\\n",
       "0      so shaken as we are, so wan with care, > find ...   \n",
       "0      so shaken as we are, so wan with care, > find ...   \n",
       "0      so shaken as we are, so wan with care, > find ...   \n",
       "0      so shaken as we are, so wan with care, > find ...   \n",
       "0      so shaken as we are, so wan with care, > find ...   \n",
       "...                                                  ...   \n",
       "29360  o, peace, paulina! > thou shouldst a husband t...   \n",
       "29360  o, peace, paulina! > thou shouldst a husband t...   \n",
       "29360  o, peace, paulina! > thou shouldst a husband t...   \n",
       "29360  o, peace, paulina! > thou shouldst a husband t...   \n",
       "29360  o, peace, paulina! > thou shouldst a husband t...   \n",
       "\n",
       "                                          text_processed  \n",
       "0      so shaken as we are, so wan with care, find we...  \n",
       "0      and breathe short-winded accents of new broils...  \n",
       "0      no more the thirsty entrance of this soil shal...  \n",
       "0      nor more shall trenching war channel her field...  \n",
       "0      of hostile paces those opposed eyes, which, li...  \n",
       "...                                                  ...  \n",
       "29360  look upon my brother both your pardons, that e...  \n",
       "29360  my ill suspicion. this is your son-in-law, and...  \n",
       "29360  is troth-plight to your daughter. good paulina...  \n",
       "29360  each one demand an answer to his part perform'...  \n",
       "29360              we were dissever'd hastily lead away.  \n",
       "\n",
       "[60819 rows x 6 columns]"
      ]
     },
     "execution_count": 71,
     "metadata": {},
     "output_type": "execute_result"
    }
   ],
   "source": [
    "data_per_convo"
   ]
  },
  {
   "cell_type": "code",
   "execution_count": 72,
   "id": "4c1c2bc2-f64d-4c35-8ce1-09227653ed13",
   "metadata": {},
   "outputs": [],
   "source": [
    "all_plays = data_per_convo.Play.unique()"
   ]
  },
  {
   "cell_type": "code",
   "execution_count": 73,
   "id": "4cc22c3f-7794-4ad0-9e7c-9148837e66c3",
   "metadata": {},
   "outputs": [
    {
     "data": {
      "text/plain": [
       "array(['Henry IV', 'Henry VI Part 1', 'Henry VI Part 2',\n",
       "       'Henry VI Part 3', 'Alls well that ends well', 'As you like it',\n",
       "       'Antony and Cleopatra', 'A Comedy of Errors', 'Coriolanus',\n",
       "       'Cymbeline', 'Hamlet', 'Henry VIII', 'King John', 'Julius Caesar',\n",
       "       'King Lear', 'Loves Labours Lost', 'macbeth',\n",
       "       'Measure for measure', 'Merchant of Venice',\n",
       "       'Merry Wives of Windsor', 'A Midsummer nights dream',\n",
       "       'Much Ado about nothing', 'Othello', 'Pericles', 'Richard II',\n",
       "       'Richard III', 'Romeo and Juliet', 'Taming of the Shrew',\n",
       "       'The Tempest', 'Timon of Athens', 'Titus Andronicus',\n",
       "       'Troilus and Cressida', 'Twelfth Night', 'Two Gentlemen of Verona',\n",
       "       'A Winters Tale'], dtype=object)"
      ]
     },
     "execution_count": 73,
     "metadata": {},
     "output_type": "execute_result"
    }
   ],
   "source": [
    "all_plays"
   ]
  },
  {
   "cell_type": "markdown",
   "id": "c4671ef0-de7c-4771-9e09-c651d658c91d",
   "metadata": {},
   "source": [
    "### Preparing train/test Shakespeare data"
   ]
  },
  {
   "cell_type": "code",
   "execution_count": 74,
   "id": "c09414bf-bc6d-488a-8ff7-d5df38db1879",
   "metadata": {},
   "outputs": [],
   "source": [
    "processed_data = []\n",
    "for play in all_plays:\n",
    "    text_col = data_per_convo[data_per_convo['Play'] == play]['text_processed']\n",
    "    processed_data += generate_src_trg_dataset(text_col)"
   ]
  },
  {
   "cell_type": "code",
   "execution_count": 75,
   "id": "5dde233e-31f8-4607-9d61-392cc6027b03",
   "metadata": {},
   "outputs": [
    {
     "data": {
      "text/plain": [
       "[{'src': 'so shaken as we are, so wan with care, find we a time for frighted peace to pant,',\n",
       "  'trg': 'and breathe short-winded accents of new broils to be commenced in strands afar remote.'},\n",
       " {'src': 'and breathe short-winded accents of new broils to be commenced in strands afar remote.',\n",
       "  'trg': \"no more the thirsty entrance of this soil shall daub her lips with her own children's blood,\"},\n",
       " {'src': \"no more the thirsty entrance of this soil shall daub her lips with her own children's blood,\",\n",
       "  'trg': 'nor more shall trenching war channel her fields, nor bruise her flowerets with the armed hoofs'},\n",
       " {'src': 'nor more shall trenching war channel her fields, nor bruise her flowerets with the armed hoofs',\n",
       "  'trg': 'of hostile paces those opposed eyes, which, like the meteors of a troubled heaven,'},\n",
       " {'src': 'of hostile paces those opposed eyes, which, like the meteors of a troubled heaven,',\n",
       "  'trg': 'all of one nature, of one substance bred, did lately meet in the intestine shock'}]"
      ]
     },
     "execution_count": 75,
     "metadata": {},
     "output_type": "execute_result"
    }
   ],
   "source": [
    "processed_data[:5]"
   ]
  },
  {
   "cell_type": "code",
   "execution_count": 76,
   "id": "dbbed31d-794c-4d82-9580-faa20fb0a846",
   "metadata": {},
   "outputs": [],
   "source": [
    "random.shuffle(processed_data) # in-place shuffle"
   ]
  },
  {
   "cell_type": "code",
   "execution_count": 77,
   "id": "f0419bde-52f6-489b-8ad3-87a971166c32",
   "metadata": {},
   "outputs": [
    {
     "data": {
      "text/plain": [
       "60784"
      ]
     },
     "execution_count": 77,
     "metadata": {},
     "output_type": "execute_result"
    }
   ],
   "source": [
    "n = len(processed_data)\n",
    "n"
   ]
  },
  {
   "cell_type": "code",
   "execution_count": 79,
   "id": "32dd4850-d08f-4785-a79b-a66a1331832c",
   "metadata": {},
   "outputs": [],
   "source": [
    "train_cutoff = int(n*0.8)"
   ]
  },
  {
   "cell_type": "code",
   "execution_count": 80,
   "id": "becf3dc3-9283-47b4-99c3-2e43f9a9d666",
   "metadata": {},
   "outputs": [],
   "source": [
    "# want to preserve order\n",
    "ss_train_data = processed_data[:train_cutoff]\n",
    "ss_test_data = processed_data[-10:]\n",
    "ss_val_data = processed_data[train_cutoff:-10]"
   ]
  },
  {
   "cell_type": "code",
   "execution_count": 86,
   "id": "def1d8bf-5866-4f47-bf68-b72cea07eb29",
   "metadata": {},
   "outputs": [
    {
     "data": {
      "text/plain": [
       "(10, 48627, 12147)"
      ]
     },
     "execution_count": 86,
     "metadata": {},
     "output_type": "execute_result"
    }
   ],
   "source": [
    "len(ss_test_data), len(ss_train_data), len(ss_val_data)"
   ]
  },
  {
   "cell_type": "code",
   "execution_count": 82,
   "id": "7364cc63-1746-4d10-b9af-bdf2f247428d",
   "metadata": {},
   "outputs": [
    {
     "data": {
      "text/plain": [
       "[{'src': 'o hell! what have we here? a carrion death, within whose empty eye there is a written scroll!',\n",
       "  'trg': \"i'll read the writing. all that glitters is not gold, often have you heard that told\"},\n",
       " {'src': 'and his disciples only envy at, ye blew the fire that burns ye now have at ye! enter king,',\n",
       "  'trg': 'frowning on them, takes his seat'},\n",
       " {'src': 'mistress page would desire you to send her your little page, of all loves her husband has a',\n",
       "  'trg': 'marvellous infection to the little page, and truly master page is an honest man. never a wife in'},\n",
       " {'src': \"he bears him on the place's privilege, or durst not, for his craven heart, say thus.\",\n",
       "  'trg': \"by him that made me, i'll maintain my words on any plot of ground in christendom.\"},\n",
       " {'src': 'loather a hundred times to part than die. yet now farewell, and farewell life with thee!',\n",
       "  'trg': 'thus is poor suffolk ten times banished, once by the king, and three times thrice by thee.'}]"
      ]
     },
     "execution_count": 82,
     "metadata": {},
     "output_type": "execute_result"
    }
   ],
   "source": [
    "ss_train_data[:5]"
   ]
  },
  {
   "cell_type": "code",
   "execution_count": 85,
   "id": "f3906803-830c-46e1-9f7b-e43543c70e0e",
   "metadata": {},
   "outputs": [],
   "source": [
    "save_src_trg_dataset(ss_train_data, filename= 'train', folder_dir= 'data/')"
   ]
  },
  {
   "cell_type": "code",
   "execution_count": 83,
   "id": "ee97f92b",
   "metadata": {},
   "outputs": [],
   "source": [
    "save_src_trg_dataset(ss_val_data, filename= 'valid', folder_dir= 'data/')"
   ]
  },
  {
   "cell_type": "code",
   "execution_count": 84,
   "id": "30838a59-aa89-4a49-96f5-8722503b9abb",
   "metadata": {},
   "outputs": [],
   "source": [
    "save_src_trg_dataset(ss_test_data, filename= 'test', folder_dir= 'data/')"
   ]
  },
  {
   "cell_type": "markdown",
   "id": "7b1030d0-04cd-4538-aeda-688b5c8fa1b0",
   "metadata": {},
   "source": [
    "## Creating CC tokenizer"
   ]
  },
  {
   "cell_type": "code",
   "execution_count": 23,
   "id": "ab9af3ad-9676-4792-932c-bc8e75d9b8a1",
   "metadata": {},
   "outputs": [],
   "source": [
    "comb_train_data_dir='data/commonsense/train.jsonl'\n",
    "comb_test_data_dir='data/commonsense/test.jsonl'\n",
    "\n",
    "comb_data = []\n",
    "\n",
    "with open(comb_train_data_dir, 'r') as f_reader:\n",
    "    for row in f_reader:\n",
    "        comb_data.append(json.loads(row))\n",
    "        \n",
    "with open(comb_test_data_dir, 'r') as f_reader:\n",
    "    for row in f_reader:\n",
    "        comb_data.append(json.loads(row))"
   ]
  },
  {
   "cell_type": "code",
   "execution_count": 25,
   "id": "de4e473a-44e7-4156-9c14-ba17ba781054",
   "metadata": {},
   "outputs": [
    {
     "data": {
      "text/plain": [
       "({'src': 'jesus , what kind of concerts do you go to where people sucker punch you for being born tall ?',\n",
       "  'trg': 'the kind that allow bitter short people in . so basically all of them .'},\n",
       " 3392137)"
      ]
     },
     "execution_count": 25,
     "metadata": {},
     "output_type": "execute_result"
    }
   ],
   "source": [
    "comb_data[0], len(comb_data)"
   ]
  },
  {
   "cell_type": "code",
   "execution_count": 32,
   "id": "1406f7b4-6de4-4698-b55a-c684848212b9",
   "metadata": {},
   "outputs": [],
   "source": [
    "merged_lines = []\n",
    "for line in comb_data:\n",
    "    l = line['src'] + \" \" + line['trg']\n",
    "    merged_lines.append(l)"
   ]
  },
  {
   "cell_type": "code",
   "execution_count": 33,
   "id": "3f6ee73c-4b19-4e65-a83b-adf1900c0107",
   "metadata": {},
   "outputs": [
    {
     "name": "stdout",
     "output_type": "stream",
     "text": [
      "\n",
      "\n",
      "\n"
     ]
    }
   ],
   "source": [
    "tokenizer = AutoTokenizer.from_pretrained('bert-base-uncased') # Bert will be the base tokenizer\n",
    "lines_iter = iter(merged_lines) # Most likely not needed, already in list\n",
    "\n",
    "# Creates new tokenizer with our vocabulary set\n",
    "comb_tokenizer = tokenizer.train_new_from_iterator(lines_iter, 50000)"
   ]
  },
  {
   "cell_type": "code",
   "execution_count": 34,
   "id": "8206becc-fda2-4e3e-aee0-cf61f6a7081e",
   "metadata": {},
   "outputs": [
    {
     "data": {
      "text/plain": [
       "PreTrainedTokenizerFast(name_or_path='bert-base-uncased', vocab_size=49959, model_max_len=512, is_fast=True, padding_side='right', truncation_side='right', special_tokens={'unk_token': '[UNK]', 'sep_token': '[SEP]', 'pad_token': '[PAD]', 'cls_token': '[CLS]', 'mask_token': '[MASK]'})"
      ]
     },
     "execution_count": 34,
     "metadata": {},
     "output_type": "execute_result"
    }
   ],
   "source": [
    "comb_tokenizer"
   ]
  },
  {
   "cell_type": "code",
   "execution_count": 35,
   "id": "b305c915-21a8-4f83-b0a2-f1d95175f7b9",
   "metadata": {},
   "outputs": [
    {
     "data": {
      "text/plain": [
       "('commonsense-tokenizer-bert/tokenizer_config.json',\n",
       " 'commonsense-tokenizer-bert/special_tokens_map.json',\n",
       " 'commonsense-tokenizer-bert/vocab.txt',\n",
       " 'commonsense-tokenizer-bert/added_tokens.json',\n",
       " 'commonsense-tokenizer-bert/tokenizer.json')"
      ]
     },
     "execution_count": 35,
     "metadata": {},
     "output_type": "execute_result"
    }
   ],
   "source": [
    "comb_tokenizer.save_pretrained(\"commonsense-tokenizer-bert\")"
   ]
  },
  {
   "cell_type": "markdown",
   "id": "ceaefc9b-a646-4792-ad97-8b7113e8c4b5",
   "metadata": {},
   "source": [
    "# Preparing combined dataset (Commonsense Dialogue & Shakespeare)"
   ]
  },
  {
   "cell_type": "code",
   "execution_count": 54,
   "id": "1a36a0f8-9b33-4f07-b467-3585c48942e4",
   "metadata": {},
   "outputs": [],
   "source": [
    "cc_train_data_dir='data/commonsense/train.jsonl'\n",
    "ss_train_data_dir='data/shakespeare/train.jsonl'\n",
    "cc_test_data_dir='data/commonsense/test.jsonl'\n",
    "ss_test_data_dir='data/shakespeare/test.jsonl'"
   ]
  },
  {
   "cell_type": "code",
   "execution_count": 55,
   "id": "eb4c27fa-d8f5-4aff-b3ed-5307a35cced5",
   "metadata": {},
   "outputs": [],
   "source": [
    "cc_train_data = []\n",
    "with open(cc_train_data_dir, 'r') as f_reader:\n",
    "    for row in f_reader:\n",
    "        cc_train_data.append(json.loads(row))"
   ]
  },
  {
   "cell_type": "code",
   "execution_count": 56,
   "id": "22b8a81e-9d34-4145-8157-0cc9a402742f",
   "metadata": {},
   "outputs": [],
   "source": [
    "cc_test_data = []\n",
    "with open(cc_test_data_dir, 'r') as f_reader:\n",
    "    for row in f_reader:\n",
    "        cc_test_data.append(json.loads(row))"
   ]
  },
  {
   "cell_type": "code",
   "execution_count": 48,
   "id": "9d9008e5-66d1-48f2-9ea2-ad38267a4fec",
   "metadata": {},
   "outputs": [],
   "source": [
    "ss_train_data = []\n",
    "with open(ss_train_data_dir, 'r') as f_reader:\n",
    "    for row in f_reader:\n",
    "        ss_train_data.append(json.loads(row))"
   ]
  },
  {
   "cell_type": "code",
   "execution_count": 62,
   "id": "6a514b02-efba-425f-96ec-5d6be3ad23b9",
   "metadata": {},
   "outputs": [],
   "source": [
    "ss_test_data = []\n",
    "with open(ss_test_data_dir, 'r') as f_reader:\n",
    "    for row in f_reader:\n",
    "        ss_test_data.append(json.loads(row))"
   ]
  },
  {
   "cell_type": "code",
   "execution_count": 63,
   "id": "93af9e29-a656-44c6-ac95-3a58511b5e2c",
   "metadata": {},
   "outputs": [
    {
     "data": {
      "text/plain": [
       "(3382137, 99754, 10000, 11084)"
      ]
     },
     "execution_count": 63,
     "metadata": {},
     "output_type": "execute_result"
    }
   ],
   "source": [
    "len(cc_train_data), len(ss_train_data), len(cc_test_data), len(ss_test_data)"
   ]
  },
  {
   "cell_type": "code",
   "execution_count": 50,
   "id": "c1e5fb25-89eb-43a6-9c80-d27732db35e1",
   "metadata": {},
   "outputs": [],
   "source": [
    "random.shuffle(cc_train_data)"
   ]
  },
  {
   "cell_type": "code",
   "execution_count": 61,
   "id": "0365aca5-b03a-48ee-a3aa-d49e82c5d0bc",
   "metadata": {},
   "outputs": [],
   "source": [
    "combined_train_data = cc_train_data[:1_000_000] + ss_train_data\n",
    "combined_test_data = cc_test_data[-10:] + ss_test_data"
   ]
  },
  {
   "cell_type": "code",
   "execution_count": 62,
   "id": "2e78720d-44bb-484e-8772-407a93371af7",
   "metadata": {},
   "outputs": [
    {
     "data": {
      "text/plain": [
       "(1110818, 30)"
      ]
     },
     "execution_count": 62,
     "metadata": {},
     "output_type": "execute_result"
    }
   ],
   "source": [
    "random.shuffle(combined_train_data)\n",
    "random.shuffle(combined_test_data)\n",
    "len(combined_train_data), len(combined_test_data)"
   ]
  },
  {
   "cell_type": "code",
   "execution_count": 63,
   "id": "3558649f-d080-483d-83ac-cdf341f3b9b3",
   "metadata": {},
   "outputs": [],
   "source": [
    "save_src_trg_dataset(combined_test_data, filename= 'test', folder_dir= 'data/combined/')"
   ]
  },
  {
   "cell_type": "code",
   "execution_count": 64,
   "id": "fcd03953-748f-46ed-81f6-14c122e1e194",
   "metadata": {},
   "outputs": [],
   "source": [
    "save_src_trg_dataset(combined_train_data, filename= 'train', folder_dir= 'data/combined/')"
   ]
  },
  {
   "cell_type": "markdown",
   "id": "d61b3336-b0d3-4641-aa76-95b86ccc472b",
   "metadata": {},
   "source": [
    "# Preparing small combined"
   ]
  },
  {
   "cell_type": "code",
   "execution_count": 12,
   "id": "58df2a18-9670-4aac-afe9-7bb18b593cb6",
   "metadata": {},
   "outputs": [],
   "source": [
    "comb_train_data_dir='data/combined/train.jsonl'\n",
    "comb_test_data_dir='data/combined/test.jsonl'\n",
    "\n",
    "comb_train_data = []\n",
    "comb_test_data = []\n",
    "\n",
    "with open(comb_train_data_dir, 'r') as f_reader:\n",
    "    for row in f_reader:\n",
    "        comb_train_data.append(json.loads(row))\n",
    "        \n",
    "with open(comb_test_data_dir, 'r') as f_reader:\n",
    "    for row in f_reader:\n",
    "        comb_test_data.append(json.loads(row))"
   ]
  },
  {
   "cell_type": "code",
   "execution_count": 13,
   "id": "e70b0614-6cf3-4ee0-aec0-16dae53d07a9",
   "metadata": {},
   "outputs": [],
   "source": [
    "combined_train_data=comb_train_data[:100]\n",
    "combined_test_data=comb_test_data[:10]"
   ]
  },
  {
   "cell_type": "code",
   "execution_count": 14,
   "id": "23202b8c-3fa1-44fb-9c37-aca27d124a66",
   "metadata": {},
   "outputs": [],
   "source": [
    "save_src_trg_dataset(combined_test_data, filename= 'test', folder_dir= 'data/combined/small/')\n",
    "save_src_trg_dataset(combined_train_data, filename= 'train', folder_dir= 'data/combined/small/')"
   ]
  },
  {
   "cell_type": "markdown",
   "id": "73cb6182-ea97-4d6e-a420-a95e1517bc8c",
   "metadata": {},
   "source": [
    "# Introducing Sonnets"
   ]
  },
  {
   "cell_type": "code",
   "execution_count": 57,
   "id": "78d13125-42ee-4899-93a8-05fc448b4f96",
   "metadata": {},
   "outputs": [],
   "source": [
    "with open('data/source/sonnets.txt', 'r') as f:\n",
    "    data = f.read().lower()"
   ]
  },
  {
   "cell_type": "code",
   "execution_count": 60,
   "id": "d20d4409-781d-433e-a7a9-3f65aed16da4",
   "metadata": {},
   "outputs": [
    {
     "data": {
      "text/plain": [
       "['i',\n",
       " \"from fairest creatures we desire increase,\\nthat thereby beauty's rose might never die,\\nbut as the riper should by time decease,\\nhis tender heir might bear his memory:\\nbut thou contracted to thine own bright eyes,\\nfeed'st thy light's flame with self-substantial fuel,\\nmaking a famine where abundance lies,\\nthy self thy foe, to thy sweet self too cruel:\\nthou that art now the world's fresh ornament,\\nand only herald to the gaudy spring,\\nwithin thine own bud buriest thy content,\\nand tender churl mak'st waste in niggarding:\\n  pity the world, or else this glutton be,\\n  to eat the world's due, by the grave and thee.\",\n",
       " 'ii',\n",
       " \"when forty winters shall besiege thy brow,\\nand dig deep trenches in thy beauty's field,\\nthy youth's proud livery so gazed on now,\\nwill be a tatter'd weed of small worth held: \\nthen being asked, where all thy beauty lies,\\nwhere all the treasure of thy lusty days; \\nto say, within thine own deep sunken eyes,\\nwere an all-eating shame, and thriftless praise.\\nhow much more praise deserv'd thy beauty's use,\\nif thou couldst answer 'this fair child of mine\\nshall sum my count, and make my old excuse,'\\nproving his beauty by succession thine!\\n  this were to be new made when thou art old,\\n  and see thy blood warm when thou feel'st it cold.\"]"
      ]
     },
     "execution_count": 60,
     "metadata": {},
     "output_type": "execute_result"
    }
   ],
   "source": [
    "sonnets = data.split('\\n\\n')\n",
    "sonnets[:4]"
   ]
  },
  {
   "cell_type": "code",
   "execution_count": 79,
   "id": "b2e15d39-2e75-4ddf-8706-99bf7194de17",
   "metadata": {},
   "outputs": [],
   "source": [
    "sonnets_num = []\n",
    "sonnets_text = []\n",
    "for i in range(len(sonnets)):\n",
    "    if len(sonnets[i]) <= 10:\n",
    "        sonnets_num.append(sonnets[i])\n",
    "    else:\n",
    "        sonnets_text.append(sonnets[i])"
   ]
  },
  {
   "cell_type": "code",
   "execution_count": 85,
   "id": "54b4bc52-c237-4491-b5dd-8b5c5a983aeb",
   "metadata": {},
   "outputs": [],
   "source": [
    "sonnets_cleaned = []\n",
    "for s in sonnets_text:\n",
    "    # Shakespeare's sonnets are made of 3 quatrains (4-line stanza) and last 2 lines belong together\n",
    "    curr = s.split('\\n')\n",
    "    curr = [i.strip().replace(\"'d\", \"ed\") for i in curr]\n",
    "    q1 = curr[:4]\n",
    "    q2 = curr[4:8]\n",
    "    q3 = curr[8:12]\n",
    "    c1 = curr[12:]\n",
    "    sonnets_cleaned.append([' '.join(q1), ' '.join(q2), ' '.join(q3), ' '.join(c1)])"
   ]
  },
  {
   "cell_type": "code",
   "execution_count": 106,
   "id": "02ff35af-01d1-4e9a-a97e-60442306551d",
   "metadata": {},
   "outputs": [
    {
     "data": {
      "text/plain": [
       "[[\"from fairest creatures we desire increase, that thereby beauty's rose might never die, but as the riper should by time decease, his tender heir might bear his memory:\",\n",
       "  \"but thou contracted to thine own bright eyes, feed'st thy light's flame with self-substantial fuel, making a famine where abundance lies, thy self thy foe, to thy sweet self too cruel:\",\n",
       "  \"thou that art now the world's fresh ornament, and only herald to the gaudy spring, within thine own bud buriest thy content, and tender churl mak'st waste in niggarding:\",\n",
       "  \"pity the world, or else this glutton be, to eat the world's due, by the grave and thee.\"],\n",
       " [\"when forty winters shall besiege thy brow, and dig deep trenches in thy beauty's field, thy youth's proud livery so gazed on now, will be a tattered weed of small worth held:\",\n",
       "  'then being asked, where all thy beauty lies, where all the treasure of thy lusty days; to say, within thine own deep sunken eyes, were an all-eating shame, and thriftless praise.',\n",
       "  \"how much more praise deserved thy beauty's use, if thou couldst answer 'this fair child of mine shall sum my count, and make my old excuse,' proving his beauty by succession thine!\",\n",
       "  \"this were to be new made when thou art old, and see thy blood warm when thou feel'st it cold.\"]]"
      ]
     },
     "execution_count": 106,
     "metadata": {},
     "output_type": "execute_result"
    }
   ],
   "source": [
    "sonnets_cleaned[:2]"
   ]
  },
  {
   "cell_type": "code",
   "execution_count": 120,
   "id": "04824775-983e-40e0-99b1-a0ae89cf6d65",
   "metadata": {},
   "outputs": [],
   "source": [
    "sonnets_src_trg_data = []\n",
    "for s in sonnets_cleaned:\n",
    "    for i in range(3):\n",
    "        dictionary = {}\n",
    "        dictionary[\"src\"] = s[i].strip()\n",
    "        dictionary[\"trg\"] = s[i+1].strip()\n",
    "        sonnets_src_trg_data.append(dictionary)"
   ]
  },
  {
   "cell_type": "code",
   "execution_count": 122,
   "id": "d788cb9a-0693-4f29-b43d-79586c78db7a",
   "metadata": {},
   "outputs": [
    {
     "data": {
      "text/plain": [
       "[{'src': \"from fairest creatures we desire increase, that thereby beauty's rose might never die, but as the riper should by time decease, his tender heir might bear his memory:\",\n",
       "  'trg': \"but thou contracted to thine own bright eyes, feed'st thy light's flame with self-substantial fuel, making a famine where abundance lies, thy self thy foe, to thy sweet self too cruel:\"},\n",
       " {'src': \"but thou contracted to thine own bright eyes, feed'st thy light's flame with self-substantial fuel, making a famine where abundance lies, thy self thy foe, to thy sweet self too cruel:\",\n",
       "  'trg': \"thou that art now the world's fresh ornament, and only herald to the gaudy spring, within thine own bud buriest thy content, and tender churl mak'st waste in niggarding:\"},\n",
       " {'src': \"thou that art now the world's fresh ornament, and only herald to the gaudy spring, within thine own bud buriest thy content, and tender churl mak'st waste in niggarding:\",\n",
       "  'trg': \"pity the world, or else this glutton be, to eat the world's due, by the grave and thee.\"}]"
      ]
     },
     "execution_count": 122,
     "metadata": {},
     "output_type": "execute_result"
    }
   ],
   "source": [
    "sonnets_src_trg_data[:3]"
   ]
  },
  {
   "cell_type": "code",
   "execution_count": 123,
   "id": "f452cbd0-386d-4c49-a8b7-0c6b4c326f5d",
   "metadata": {},
   "outputs": [
    {
     "data": {
      "text/plain": [
       "462"
      ]
     },
     "execution_count": 123,
     "metadata": {},
     "output_type": "execute_result"
    }
   ],
   "source": [
    "len(sonnets_src_trg_data)"
   ]
  },
  {
   "cell_type": "markdown",
   "id": "86622da0-50c6-422b-9f2a-5c6c5409a448",
   "metadata": {},
   "source": [
    "## Combining Sonnets with Plays"
   ]
  },
  {
   "cell_type": "code",
   "execution_count": 138,
   "id": "058381b2-b129-4b3f-a75c-dc2a08ba5436",
   "metadata": {},
   "outputs": [],
   "source": [
    "processed_data = []\n",
    "for play in all_plays:\n",
    "    text_col = shakespeare_data.data[shakespeare_data.data['Play'] == play]['text']\n",
    "    processed_data += generate_src_trg_dataset(text_col)"
   ]
  },
  {
   "cell_type": "code",
   "execution_count": 139,
   "id": "90b2c742-8a87-498a-aca2-d001a09c8c69",
   "metadata": {},
   "outputs": [],
   "source": [
    "processed_data += sonnets_src_trg_data"
   ]
  },
  {
   "cell_type": "code",
   "execution_count": 143,
   "id": "4132d775-e8f7-4dda-9799-411e641a618c",
   "metadata": {},
   "outputs": [],
   "source": [
    "random.shuffle(processed_data) # in-place shuffle"
   ]
  },
  {
   "cell_type": "code",
   "execution_count": 144,
   "id": "a64e5bbe-357f-4bac-beb9-227c8d80c52c",
   "metadata": {},
   "outputs": [
    {
     "data": {
      "text/plain": [
       "107746"
      ]
     },
     "execution_count": 144,
     "metadata": {},
     "output_type": "execute_result"
    }
   ],
   "source": [
    "n = len(processed_data)\n",
    "n"
   ]
  },
  {
   "cell_type": "code",
   "execution_count": 145,
   "id": "b6a684e3-2e20-464b-9e86-b31fcad9fd31",
   "metadata": {},
   "outputs": [],
   "source": [
    "# cutoff = int(n*0.9)\n",
    "cutoff = -20\n",
    "ss_train_data, ss_test_data = processed_data[:cutoff], processed_data[cutoff:]"
   ]
  },
  {
   "cell_type": "code",
   "execution_count": 146,
   "id": "cb246979-10bd-4639-9e90-e64676aac276",
   "metadata": {},
   "outputs": [],
   "source": [
    "save_src_trg_dataset(ss_train_data, filename= 'train', folder_dir= 'data/')"
   ]
  },
  {
   "cell_type": "code",
   "execution_count": 147,
   "id": "94abac1a-3c68-42f9-815a-2c88d9c526a4",
   "metadata": {},
   "outputs": [],
   "source": [
    "save_src_trg_dataset(ss_test_data, filename= 'test', folder_dir= 'data/')"
   ]
  },
  {
   "cell_type": "markdown",
   "id": "94b10e2c-ca61-4887-a464-1feaf84331f8",
   "metadata": {},
   "source": [
    "## Creating Sonnets tokenizer"
   ]
  },
  {
   "cell_type": "code",
   "execution_count": 136,
   "id": "802f851b-4508-41ca-ad87-b947bbbcc1df",
   "metadata": {},
   "outputs": [
    {
     "name": "stdout",
     "output_type": "stream",
     "text": [
      "\n",
      "\n",
      "\n"
     ]
    }
   ],
   "source": [
    "sonnets_tokenizer = create_tokenizer(np.array(sonnets_cleaned).flatten().flatten())"
   ]
  },
  {
   "cell_type": "code",
   "execution_count": 137,
   "id": "f22d0118-2c0b-4a9f-9832-f3c2513c08e9",
   "metadata": {},
   "outputs": [
    {
     "data": {
      "text/plain": [
       "('shakespeare-tokenizer-bert/sonnets/tokenizer_config.json',\n",
       " 'shakespeare-tokenizer-bert/sonnets/special_tokens_map.json',\n",
       " 'shakespeare-tokenizer-bert/sonnets/vocab.txt',\n",
       " 'shakespeare-tokenizer-bert/sonnets/added_tokens.json',\n",
       " 'shakespeare-tokenizer-bert/sonnets/tokenizer.json')"
      ]
     },
     "execution_count": 137,
     "metadata": {},
     "output_type": "execute_result"
    }
   ],
   "source": [
    "tokenizer_save_path = 'shakespeare-tokenizer-bert/sonnets'\n",
    "sonnets_tokenizer.save_pretrained(tokenizer_save_path)"
   ]
  }
 ],
 "metadata": {
  "kernelspec": {
   "display_name": ".venv",
   "language": "python",
   "name": ".venv"
  },
  "language_info": {
   "codemirror_mode": {
    "name": "ipython",
    "version": 3
   },
   "file_extension": ".py",
   "mimetype": "text/x-python",
   "name": "python",
   "nbconvert_exporter": "python",
   "pygments_lexer": "ipython3",
   "version": "3.9.5"
  }
 },
 "nbformat": 4,
 "nbformat_minor": 5
}
