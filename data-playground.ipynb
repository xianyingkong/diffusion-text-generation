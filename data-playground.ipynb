{
 "cells": [
  {
   "cell_type": "code",
   "execution_count": 1,
   "id": "10efb8cf",
   "metadata": {},
   "outputs": [],
   "source": [
    "import pandas as pd\n",
    "import numpy as np\n",
    "import pickle\n",
    "import os\n",
    "from transformers import AutoTokenizer, PreTrainedTokenizerFast, BertTokenizerFast\n",
    "import json\n",
    "import random\n",
    "import re"
   ]
  },
  {
   "cell_type": "code",
   "execution_count": 2,
   "id": "2a9a01d2-894f-4bc4-ab91-183cbd851842",
   "metadata": {},
   "outputs": [],
   "source": [
    "random.seed(102)"
   ]
  },
  {
   "cell_type": "markdown",
   "id": "6b0b8c7e",
   "metadata": {},
   "source": [
    "# Creating tokenizer"
   ]
  },
  {
   "cell_type": "code",
   "execution_count": null,
   "id": "d75ef9c1",
   "metadata": {},
   "outputs": [],
   "source": [
    "with open(\"./data/source/shakespeare_tokenize.txt\", 'r') as file:\n",
    "    ss = file.read()"
   ]
  },
  {
   "cell_type": "code",
   "execution_count": null,
   "id": "e4f25f36",
   "metadata": {},
   "outputs": [],
   "source": [
    "ss = str(ss).lower().replace('\\n\\n','\\n').replace('  ', ' ').replace(';', '').replace(':', '').replace('[', '').replace(']', '').replace('  ', ' ')"
   ]
  },
  {
   "cell_type": "code",
   "execution_count": null,
   "id": "53815ffd",
   "metadata": {},
   "outputs": [],
   "source": [
    "ss_list = ss.split('\\n')\n",
    "ss_list = [i.strip() for i in ss_list]\n",
    "ss_list"
   ]
  },
  {
   "cell_type": "code",
   "execution_count": null,
   "id": "f2953a17",
   "metadata": {},
   "outputs": [],
   "source": [
    "tokenizer = AutoTokenizer.from_pretrained('bert-base-uncased')\n",
    "tokenizer = tokenizer.train_new_from_iterator(iter(ss_list),32000)\n",
    "tokenizer.vocab_size"
   ]
  },
  {
   "cell_type": "code",
   "execution_count": null,
   "id": "3a47498e",
   "metadata": {},
   "outputs": [],
   "source": [
    "tokenizer.tokenize(\"my tongue should catch your tongue's sweet melody .\"), tokenizer.tokenize(\"demetrius , i'll avouch it to his head ,\")"
   ]
  },
  {
   "cell_type": "code",
   "execution_count": null,
   "id": "5a36406a",
   "metadata": {},
   "outputs": [],
   "source": [
    "tokenizer_save_path = 'shakespeare-tokenizer-bert/plays'\n",
    "tokenizer.save_pretrained(tokenizer_save_path)"
   ]
  },
  {
   "cell_type": "markdown",
   "id": "8866fb8b-f69f-46cc-9410-3b78fb0ff50c",
   "metadata": {},
   "source": [
    "# Exploratory"
   ]
  },
  {
   "cell_type": "code",
   "execution_count": 3,
   "id": "8eae23cd",
   "metadata": {},
   "outputs": [],
   "source": [
    "df = pd.read_csv('data/source/shakespeare.csv')"
   ]
  },
  {
   "cell_type": "code",
   "execution_count": 4,
   "id": "93894566",
   "metadata": {},
   "outputs": [
    {
     "data": {
      "text/html": [
       "<div>\n",
       "<style scoped>\n",
       "    .dataframe tbody tr th:only-of-type {\n",
       "        vertical-align: middle;\n",
       "    }\n",
       "\n",
       "    .dataframe tbody tr th {\n",
       "        vertical-align: top;\n",
       "    }\n",
       "\n",
       "    .dataframe thead th {\n",
       "        text-align: right;\n",
       "    }\n",
       "</style>\n",
       "<table border=\"1\" class=\"dataframe\">\n",
       "  <thead>\n",
       "    <tr style=\"text-align: right;\">\n",
       "      <th></th>\n",
       "      <th>Dataline</th>\n",
       "      <th>Play</th>\n",
       "      <th>PlayerLinenumber</th>\n",
       "      <th>ActSceneLine</th>\n",
       "      <th>Player</th>\n",
       "      <th>PlayerLine</th>\n",
       "    </tr>\n",
       "  </thead>\n",
       "  <tbody>\n",
       "    <tr>\n",
       "      <th>0</th>\n",
       "      <td>1</td>\n",
       "      <td>Henry IV</td>\n",
       "      <td>NaN</td>\n",
       "      <td>NaN</td>\n",
       "      <td>NaN</td>\n",
       "      <td>ACT I</td>\n",
       "    </tr>\n",
       "    <tr>\n",
       "      <th>1</th>\n",
       "      <td>2</td>\n",
       "      <td>Henry IV</td>\n",
       "      <td>NaN</td>\n",
       "      <td>NaN</td>\n",
       "      <td>NaN</td>\n",
       "      <td>SCENE I. London. The palace.</td>\n",
       "    </tr>\n",
       "    <tr>\n",
       "      <th>2</th>\n",
       "      <td>3</td>\n",
       "      <td>Henry IV</td>\n",
       "      <td>NaN</td>\n",
       "      <td>NaN</td>\n",
       "      <td>NaN</td>\n",
       "      <td>Enter KING HENRY, LORD JOHN OF LANCASTER, the ...</td>\n",
       "    </tr>\n",
       "    <tr>\n",
       "      <th>3</th>\n",
       "      <td>4</td>\n",
       "      <td>Henry IV</td>\n",
       "      <td>1.0</td>\n",
       "      <td>1.1.1</td>\n",
       "      <td>KING HENRY IV</td>\n",
       "      <td>So shaken as we are, so wan with care,</td>\n",
       "    </tr>\n",
       "    <tr>\n",
       "      <th>4</th>\n",
       "      <td>5</td>\n",
       "      <td>Henry IV</td>\n",
       "      <td>1.0</td>\n",
       "      <td>1.1.2</td>\n",
       "      <td>KING HENRY IV</td>\n",
       "      <td>Find we a time for frighted peace to pant,</td>\n",
       "    </tr>\n",
       "  </tbody>\n",
       "</table>\n",
       "</div>"
      ],
      "text/plain": [
       "   Dataline      Play  PlayerLinenumber ActSceneLine         Player  \\\n",
       "0         1  Henry IV               NaN          NaN            NaN   \n",
       "1         2  Henry IV               NaN          NaN            NaN   \n",
       "2         3  Henry IV               NaN          NaN            NaN   \n",
       "3         4  Henry IV               1.0        1.1.1  KING HENRY IV   \n",
       "4         5  Henry IV               1.0        1.1.2  KING HENRY IV   \n",
       "\n",
       "                                          PlayerLine  \n",
       "0                                              ACT I  \n",
       "1                       SCENE I. London. The palace.  \n",
       "2  Enter KING HENRY, LORD JOHN OF LANCASTER, the ...  \n",
       "3             So shaken as we are, so wan with care,  \n",
       "4         Find we a time for frighted peace to pant,  "
      ]
     },
     "execution_count": 4,
     "metadata": {},
     "output_type": "execute_result"
    }
   ],
   "source": [
    "df.head(5)"
   ]
  },
  {
   "cell_type": "code",
   "execution_count": 5,
   "id": "afcc48c4-6697-41e9-bd4e-391f5f074912",
   "metadata": {},
   "outputs": [],
   "source": [
    "# df['Play'].str.lower().unique()"
   ]
  },
  {
   "cell_type": "code",
   "execution_count": 6,
   "id": "34af8bd7-4263-471f-8aeb-20bd2d1dac87",
   "metadata": {},
   "outputs": [],
   "source": [
    "# df['Player'].str.lower().unique()"
   ]
  },
  {
   "cell_type": "code",
   "execution_count": 7,
   "id": "b79b708c-c7e0-400f-a338-d9dfebc262b7",
   "metadata": {},
   "outputs": [],
   "source": [
    "# french characters: alencon, alice, king of france, katharine, dauphin\n",
    "# french speaking characters"
   ]
  },
  {
   "cell_type": "code",
   "execution_count": 8,
   "id": "956711ee-a133-4f3b-a440-902196514595",
   "metadata": {},
   "outputs": [],
   "source": [
    "# df[df['Player'].str.lower() == 'katharine']\n",
    "# maybe could remove the whole of Henry V since that is where most french lines are found"
   ]
  },
  {
   "cell_type": "code",
   "execution_count": 9,
   "id": "70a2de6a",
   "metadata": {
    "scrolled": false
   },
   "outputs": [
    {
     "data": {
      "text/html": [
       "<div>\n",
       "<style scoped>\n",
       "    .dataframe tbody tr th:only-of-type {\n",
       "        vertical-align: middle;\n",
       "    }\n",
       "\n",
       "    .dataframe tbody tr th {\n",
       "        vertical-align: top;\n",
       "    }\n",
       "\n",
       "    .dataframe thead th {\n",
       "        text-align: right;\n",
       "    }\n",
       "</style>\n",
       "<table border=\"1\" class=\"dataframe\">\n",
       "  <thead>\n",
       "    <tr style=\"text-align: right;\">\n",
       "      <th></th>\n",
       "      <th>Play</th>\n",
       "      <th>PlayerLinenumber</th>\n",
       "      <th>Player</th>\n",
       "      <th>PlayerLine</th>\n",
       "    </tr>\n",
       "  </thead>\n",
       "  <tbody>\n",
       "    <tr>\n",
       "      <th>3</th>\n",
       "      <td>Henry IV</td>\n",
       "      <td>1.0</td>\n",
       "      <td>KING HENRY IV</td>\n",
       "      <td>So shaken as we are, so wan with care,</td>\n",
       "    </tr>\n",
       "    <tr>\n",
       "      <th>4</th>\n",
       "      <td>Henry IV</td>\n",
       "      <td>1.0</td>\n",
       "      <td>KING HENRY IV</td>\n",
       "      <td>Find we a time for frighted peace to pant,</td>\n",
       "    </tr>\n",
       "    <tr>\n",
       "      <th>5</th>\n",
       "      <td>Henry IV</td>\n",
       "      <td>1.0</td>\n",
       "      <td>KING HENRY IV</td>\n",
       "      <td>And breathe short-winded accents of new broils</td>\n",
       "    </tr>\n",
       "    <tr>\n",
       "      <th>6</th>\n",
       "      <td>Henry IV</td>\n",
       "      <td>1.0</td>\n",
       "      <td>KING HENRY IV</td>\n",
       "      <td>To be commenced in strands afar remote.</td>\n",
       "    </tr>\n",
       "    <tr>\n",
       "      <th>7</th>\n",
       "      <td>Henry IV</td>\n",
       "      <td>1.0</td>\n",
       "      <td>KING HENRY IV</td>\n",
       "      <td>No more the thirsty entrance of this soil</td>\n",
       "    </tr>\n",
       "    <tr>\n",
       "      <th>8</th>\n",
       "      <td>Henry IV</td>\n",
       "      <td>1.0</td>\n",
       "      <td>KING HENRY IV</td>\n",
       "      <td>Shall daub her lips with her own children's bl...</td>\n",
       "    </tr>\n",
       "    <tr>\n",
       "      <th>9</th>\n",
       "      <td>Henry IV</td>\n",
       "      <td>1.0</td>\n",
       "      <td>KING HENRY IV</td>\n",
       "      <td>Nor more shall trenching war channel her fields,</td>\n",
       "    </tr>\n",
       "    <tr>\n",
       "      <th>10</th>\n",
       "      <td>Henry IV</td>\n",
       "      <td>1.0</td>\n",
       "      <td>KING HENRY IV</td>\n",
       "      <td>Nor bruise her flowerets with the armed hoofs</td>\n",
       "    </tr>\n",
       "    <tr>\n",
       "      <th>11</th>\n",
       "      <td>Henry IV</td>\n",
       "      <td>1.0</td>\n",
       "      <td>KING HENRY IV</td>\n",
       "      <td>Of hostile paces: those opposed eyes,</td>\n",
       "    </tr>\n",
       "    <tr>\n",
       "      <th>12</th>\n",
       "      <td>Henry IV</td>\n",
       "      <td>1.0</td>\n",
       "      <td>KING HENRY IV</td>\n",
       "      <td>Which, like the meteors of a troubled heaven,</td>\n",
       "    </tr>\n",
       "  </tbody>\n",
       "</table>\n",
       "</div>"
      ],
      "text/plain": [
       "        Play  PlayerLinenumber         Player  \\\n",
       "3   Henry IV               1.0  KING HENRY IV   \n",
       "4   Henry IV               1.0  KING HENRY IV   \n",
       "5   Henry IV               1.0  KING HENRY IV   \n",
       "6   Henry IV               1.0  KING HENRY IV   \n",
       "7   Henry IV               1.0  KING HENRY IV   \n",
       "8   Henry IV               1.0  KING HENRY IV   \n",
       "9   Henry IV               1.0  KING HENRY IV   \n",
       "10  Henry IV               1.0  KING HENRY IV   \n",
       "11  Henry IV               1.0  KING HENRY IV   \n",
       "12  Henry IV               1.0  KING HENRY IV   \n",
       "\n",
       "                                           PlayerLine  \n",
       "3              So shaken as we are, so wan with care,  \n",
       "4          Find we a time for frighted peace to pant,  \n",
       "5      And breathe short-winded accents of new broils  \n",
       "6             To be commenced in strands afar remote.  \n",
       "7           No more the thirsty entrance of this soil  \n",
       "8   Shall daub her lips with her own children's bl...  \n",
       "9    Nor more shall trenching war channel her fields,  \n",
       "10      Nor bruise her flowerets with the armed hoofs  \n",
       "11              Of hostile paces: those opposed eyes,  \n",
       "12      Which, like the meteors of a troubled heaven,  "
      ]
     },
     "execution_count": 9,
     "metadata": {},
     "output_type": "execute_result"
    }
   ],
   "source": [
    "remove = df[(df['Player'].notna()) & (df[\"PlayerLine\"]!='Exeunt')]\n",
    "data = remove[['Play', 'PlayerLinenumber', \"Player\", \"PlayerLine\"]]\n",
    "data.head(10)"
   ]
  },
  {
   "cell_type": "markdown",
   "id": "21c740f7-a4a3-4a21-b31e-30923529f64c",
   "metadata": {},
   "source": [
    "# Preprocessing Shakespeare"
   ]
  },
  {
   "cell_type": "code",
   "execution_count": 26,
   "id": "75565b17",
   "metadata": {},
   "outputs": [],
   "source": [
    "class ShakespeareData:\n",
    "    def __init__(self, filepath='data/source/shakespeare.csv'):        \n",
    "        data = pd.read_csv(filepath)\n",
    "        self.data = self.clean(data) \n",
    "            \n",
    "    def clean(self, data):\n",
    "        repl = {\n",
    "            '@\\w*': ' ', \n",
    "            '&amp;' : 'and',\n",
    "            '&#\\w*;': ' ', \n",
    "            '\\\\n\\.':' ' ,\n",
    "            '\\\\n':' ',\n",
    "            \"\\.{2,}\": '.', \n",
    "            \"!{2,}\":'!', \n",
    "            \"\\?{2,}\":'?', \n",
    "            '_':\" \",\n",
    "            ' +': ' ', \n",
    "            '\\-{2,}': ' ',\n",
    "            ':': '',\n",
    "            ';': '',\n",
    "            '\\[': '',\n",
    "            '\\]': '',\n",
    "            '  ': ' '\n",
    "            }\n",
    "\n",
    "        data = data[(data['Player'].notna()) & (data[\"PlayerLine\"]!='Exeunt') & (data[\"Play\"]!='Henry V') & (data['ActSceneLine'].notna())]\n",
    "        data = data[['ActSceneLine', \"Player\", \"PlayerLine\", \"Play\", \"PlayerLinenumber\"]]\n",
    "        data['Player'] = data['Player'].str.lower()\n",
    "        data['ActScene'] = data['ActSceneLine'].apply(extract_before_second_full_stop)\n",
    "        cleaned = data['PlayerLine'].apply(lambda x: x.strip().lower())\n",
    "        cleaned = cleaned.replace(repl, regex=True)\n",
    "        cleaned_data = data.assign(text = cleaned)\n",
    "        return cleaned_data\n",
    "\n",
    "def extract_before_second_full_stop(string):\n",
    "    index = string.find('.', string.find('.') + 1)  # Find index of second full stop\n",
    "    if index != -1:\n",
    "        return string[:index]\n",
    "    else:\n",
    "        return string"
   ]
  },
  {
   "cell_type": "code",
   "execution_count": 27,
   "id": "da7308df-27a4-4321-9b91-2d9f9e4bd25b",
   "metadata": {},
   "outputs": [],
   "source": [
    "def generate_src_trg_dataset(text_col):\n",
    "    data = []\n",
    "    \n",
    "    for i in range(len(text_col)-1):\n",
    "        dictionary = {}\n",
    "        dictionary[\"src\"] = text_col.iloc[i]\n",
    "        dictionary[\"trg\"] = text_col.iloc[i+1]\n",
    "        data.append(dictionary)\n",
    "\n",
    "#     for i in range(len(text_col)-5):\n",
    "#         dictionary = {}\n",
    "#         dictionary[\"src\"] = (text_col.iloc[i] + \" \" + text_col.iloc[i+1] + \" \" + text_col.iloc[i+2]).strip()\n",
    "#         dictionary[\"trg\"] = (text_col.iloc[i+3] + \" \" + text_col.iloc[i+4] + \" \" + text_col.iloc[i+5]).strip()\n",
    "#         data.append(dictionary)\n",
    "    \n",
    "    return data\n",
    "\n",
    "def save_src_trg_dataset(data, filename = 'data', folder_dir = ''):\n",
    "    fn = folder_dir + filename + '.jsonl'\n",
    "    with open(fn, 'w') as outfile:\n",
    "        for entry in data:\n",
    "            json.dump(entry, outfile)\n",
    "            outfile.write('\\n')\n",
    "\n",
    "def generate_and_save_dataset(data_text_column, filename= 'data', folder_dir= ''):\n",
    "    data = generate_src_trg_dataset(data_text_column)\n",
    "    save_src_trg_dataset(data, filename=filename, folder_dir=folder_dir)"
   ]
  },
  {
   "cell_type": "code",
   "execution_count": 28,
   "id": "8dd68604",
   "metadata": {},
   "outputs": [],
   "source": [
    "# with open('vocab_list.pickle', 'wb') as handle:\n",
    "#     pickle.dump(vocab.idx_word, handle)"
   ]
  },
  {
   "cell_type": "code",
   "execution_count": 29,
   "id": "b3dffb35",
   "metadata": {},
   "outputs": [],
   "source": [
    "shakespeare_data = ShakespeareData()"
   ]
  },
  {
   "cell_type": "code",
   "execution_count": 30,
   "id": "6f653c79",
   "metadata": {},
   "outputs": [
    {
     "data": {
      "text/html": [
       "<div>\n",
       "<style scoped>\n",
       "    .dataframe tbody tr th:only-of-type {\n",
       "        vertical-align: middle;\n",
       "    }\n",
       "\n",
       "    .dataframe tbody tr th {\n",
       "        vertical-align: top;\n",
       "    }\n",
       "\n",
       "    .dataframe thead th {\n",
       "        text-align: right;\n",
       "    }\n",
       "</style>\n",
       "<table border=\"1\" class=\"dataframe\">\n",
       "  <thead>\n",
       "    <tr style=\"text-align: right;\">\n",
       "      <th></th>\n",
       "      <th>ActSceneLine</th>\n",
       "      <th>Player</th>\n",
       "      <th>PlayerLine</th>\n",
       "      <th>Play</th>\n",
       "      <th>PlayerLinenumber</th>\n",
       "      <th>ActScene</th>\n",
       "      <th>text</th>\n",
       "    </tr>\n",
       "  </thead>\n",
       "  <tbody>\n",
       "    <tr>\n",
       "      <th>3</th>\n",
       "      <td>1.1.1</td>\n",
       "      <td>king henry iv</td>\n",
       "      <td>So shaken as we are, so wan with care,</td>\n",
       "      <td>Henry IV</td>\n",
       "      <td>1.0</td>\n",
       "      <td>1.1</td>\n",
       "      <td>so shaken as we are, so wan with care,</td>\n",
       "    </tr>\n",
       "    <tr>\n",
       "      <th>4</th>\n",
       "      <td>1.1.2</td>\n",
       "      <td>king henry iv</td>\n",
       "      <td>Find we a time for frighted peace to pant,</td>\n",
       "      <td>Henry IV</td>\n",
       "      <td>1.0</td>\n",
       "      <td>1.1</td>\n",
       "      <td>find we a time for frighted peace to pant,</td>\n",
       "    </tr>\n",
       "    <tr>\n",
       "      <th>5</th>\n",
       "      <td>1.1.3</td>\n",
       "      <td>king henry iv</td>\n",
       "      <td>And breathe short-winded accents of new broils</td>\n",
       "      <td>Henry IV</td>\n",
       "      <td>1.0</td>\n",
       "      <td>1.1</td>\n",
       "      <td>and breathe short-winded accents of new broils</td>\n",
       "    </tr>\n",
       "    <tr>\n",
       "      <th>6</th>\n",
       "      <td>1.1.4</td>\n",
       "      <td>king henry iv</td>\n",
       "      <td>To be commenced in strands afar remote.</td>\n",
       "      <td>Henry IV</td>\n",
       "      <td>1.0</td>\n",
       "      <td>1.1</td>\n",
       "      <td>to be commenced in strands afar remote.</td>\n",
       "    </tr>\n",
       "    <tr>\n",
       "      <th>7</th>\n",
       "      <td>1.1.5</td>\n",
       "      <td>king henry iv</td>\n",
       "      <td>No more the thirsty entrance of this soil</td>\n",
       "      <td>Henry IV</td>\n",
       "      <td>1.0</td>\n",
       "      <td>1.1</td>\n",
       "      <td>no more the thirsty entrance of this soil</td>\n",
       "    </tr>\n",
       "  </tbody>\n",
       "</table>\n",
       "</div>"
      ],
      "text/plain": [
       "  ActSceneLine         Player                                      PlayerLine  \\\n",
       "3        1.1.1  king henry iv          So shaken as we are, so wan with care,   \n",
       "4        1.1.2  king henry iv      Find we a time for frighted peace to pant,   \n",
       "5        1.1.3  king henry iv  And breathe short-winded accents of new broils   \n",
       "6        1.1.4  king henry iv         To be commenced in strands afar remote.   \n",
       "7        1.1.5  king henry iv       No more the thirsty entrance of this soil   \n",
       "\n",
       "       Play  PlayerLinenumber ActScene  \\\n",
       "3  Henry IV               1.0      1.1   \n",
       "4  Henry IV               1.0      1.1   \n",
       "5  Henry IV               1.0      1.1   \n",
       "6  Henry IV               1.0      1.1   \n",
       "7  Henry IV               1.0      1.1   \n",
       "\n",
       "                                             text  \n",
       "3          so shaken as we are, so wan with care,  \n",
       "4      find we a time for frighted peace to pant,  \n",
       "5  and breathe short-winded accents of new broils  \n",
       "6         to be commenced in strands afar remote.  \n",
       "7       no more the thirsty entrance of this soil  "
      ]
     },
     "execution_count": 30,
     "metadata": {},
     "output_type": "execute_result"
    }
   ],
   "source": [
    "shakespeare_data.data.head() # 107459 -> # 101919 after removing na in actsceneline"
   ]
  },
  {
   "cell_type": "code",
   "execution_count": 31,
   "id": "a721ec00-dd89-4dfa-96dd-f9e77dc7bca6",
   "metadata": {},
   "outputs": [],
   "source": [
    "def split_long_lines(line, max_length=100):\n",
    "    if len(line) <= max_length:\n",
    "        return [line]\n",
    "    else:\n",
    "        match_punctuation = re.search(r'[\\.,;:!?>]\\s*', line[:max_length][::-1])\n",
    "#         match_word = re.search(r'\\s', line[:max_length][::-1])\n",
    "        if match_punctuation:\n",
    "            split_point = max_length-match_punctuation.start()\n",
    "#         elif match_word:\n",
    "#             split_point = max_length - match_word.start()\n",
    "        else:\n",
    "            split_point = max_length\n",
    "        return [line[:split_point].strip()] + split_long_lines(line[split_point:].strip(), max_length=max_length)\n",
    "    \n",
    "def remove_separator(lines):\n",
    "    return [i.replace(\">\", \"\").strip().replace(\"  \", \" \") for i in lines]"
   ]
  },
  {
   "cell_type": "code",
   "execution_count": 32,
   "id": "2fbb1f7f-fab2-4636-ac5f-df967b3c1c24",
   "metadata": {},
   "outputs": [],
   "source": [
    "data_per_convo = shakespeare_data.data.groupby(['Play', 'Player', 'ActScene', 'PlayerLinenumber'],sort=False)['text'].agg(lambda x: ' > '.join(x)).reset_index()"
   ]
  },
  {
   "cell_type": "code",
   "execution_count": 33,
   "id": "2e8cdd66-5baf-4fa0-8f8b-05ffc17e69ca",
   "metadata": {},
   "outputs": [
    {
     "data": {
      "text/html": [
       "<div>\n",
       "<style scoped>\n",
       "    .dataframe tbody tr th:only-of-type {\n",
       "        vertical-align: middle;\n",
       "    }\n",
       "\n",
       "    .dataframe tbody tr th {\n",
       "        vertical-align: top;\n",
       "    }\n",
       "\n",
       "    .dataframe thead th {\n",
       "        text-align: right;\n",
       "    }\n",
       "</style>\n",
       "<table border=\"1\" class=\"dataframe\">\n",
       "  <thead>\n",
       "    <tr style=\"text-align: right;\">\n",
       "      <th></th>\n",
       "      <th>Play</th>\n",
       "      <th>Player</th>\n",
       "      <th>ActScene</th>\n",
       "      <th>PlayerLinenumber</th>\n",
       "      <th>text</th>\n",
       "    </tr>\n",
       "  </thead>\n",
       "  <tbody>\n",
       "    <tr>\n",
       "      <th>0</th>\n",
       "      <td>Henry IV</td>\n",
       "      <td>king henry iv</td>\n",
       "      <td>1.1</td>\n",
       "      <td>1.0</td>\n",
       "      <td>so shaken as we are, so wan with care, &gt; find ...</td>\n",
       "    </tr>\n",
       "    <tr>\n",
       "      <th>1</th>\n",
       "      <td>Henry IV</td>\n",
       "      <td>westmoreland</td>\n",
       "      <td>1.1</td>\n",
       "      <td>2.0</td>\n",
       "      <td>my liege, this haste was hot in question, &gt; an...</td>\n",
       "    </tr>\n",
       "    <tr>\n",
       "      <th>2</th>\n",
       "      <td>Henry IV</td>\n",
       "      <td>king henry iv</td>\n",
       "      <td>1.1</td>\n",
       "      <td>3.0</td>\n",
       "      <td>it seems then that the tidings of this broil &gt;...</td>\n",
       "    </tr>\n",
       "    <tr>\n",
       "      <th>3</th>\n",
       "      <td>Henry IV</td>\n",
       "      <td>westmoreland</td>\n",
       "      <td>1.1</td>\n",
       "      <td>4.0</td>\n",
       "      <td>this match'd with other did, my gracious lord,...</td>\n",
       "    </tr>\n",
       "    <tr>\n",
       "      <th>4</th>\n",
       "      <td>Henry IV</td>\n",
       "      <td>king henry iv</td>\n",
       "      <td>1.1</td>\n",
       "      <td>5.0</td>\n",
       "      <td>here is a dear, a true industrious friend, &gt; s...</td>\n",
       "    </tr>\n",
       "  </tbody>\n",
       "</table>\n",
       "</div>"
      ],
      "text/plain": [
       "       Play         Player ActScene  PlayerLinenumber  \\\n",
       "0  Henry IV  king henry iv      1.1               1.0   \n",
       "1  Henry IV   westmoreland      1.1               2.0   \n",
       "2  Henry IV  king henry iv      1.1               3.0   \n",
       "3  Henry IV   westmoreland      1.1               4.0   \n",
       "4  Henry IV  king henry iv      1.1               5.0   \n",
       "\n",
       "                                                text  \n",
       "0  so shaken as we are, so wan with care, > find ...  \n",
       "1  my liege, this haste was hot in question, > an...  \n",
       "2  it seems then that the tidings of this broil >...  \n",
       "3  this match'd with other did, my gracious lord,...  \n",
       "4  here is a dear, a true industrious friend, > s...  "
      ]
     },
     "execution_count": 33,
     "metadata": {},
     "output_type": "execute_result"
    }
   ],
   "source": [
    "data_per_convo.head()"
   ]
  },
  {
   "cell_type": "code",
   "execution_count": 34,
   "id": "3a94b6c3-f55c-4b49-a763-1358afc8c26f",
   "metadata": {},
   "outputs": [],
   "source": [
    "data_per_convo['text_processed']=data_per_convo['text'].apply(split_long_lines)"
   ]
  },
  {
   "cell_type": "code",
   "execution_count": 35,
   "id": "16e46aa5-efe1-4416-bdb3-076cd1d0b652",
   "metadata": {},
   "outputs": [
    {
     "data": {
      "text/plain": [
       "['so shaken as we are, so wan with care, > find we a time for frighted peace to pant, >',\n",
       " 'and breathe short-winded accents of new broils > to be commenced in strands afar remote. >',\n",
       " \"no more the thirsty entrance of this soil > shall daub her lips with her own children's blood, >\",\n",
       " 'nor more shall trenching war channel her fields, > nor bruise her flowerets with the armed hoofs >',\n",
       " 'of hostile paces those opposed eyes, > which, like the meteors of a troubled heaven, >',\n",
       " 'all of one nature, of one substance bred, > did lately meet in the intestine shock >',\n",
       " 'and furious close of civil butchery > shall now, in mutual well-beseeming ranks, >',\n",
       " 'march all one way and be no more opposed > against acquaintance, kindred and allies >',\n",
       " 'the edge of war, like an ill-sheathed knife, > no more shall cut his master. therefore, friends, >',\n",
       " 'as far as to the sepulchre of christ, > whose soldier now, under whose blessed cross >',\n",
       " 'we are impressed and engaged to fight, > forthwith a power of english shall we levy, >',\n",
       " \"whose arms were moulded in their mothers' womb > to chase these pagans in those holy fields >\",\n",
       " \"over whose acres walk'd those blessed feet > which fourteen hundred years ago were nail'd >\",\n",
       " 'for our advantage on the bitter cross. > but this our purpose now is twelve month old, >',\n",
       " \"and bootless 'tis to tell you we will go > therefore we meet not now. then let me hear > of you,\",\n",
       " 'my gentle cousin westmoreland, > what yesternight our council did decree >',\n",
       " 'in forwarding this dear expedience.']"
      ]
     },
     "execution_count": 35,
     "metadata": {},
     "output_type": "execute_result"
    }
   ],
   "source": [
    "data_per_convo.text_processed.iloc[0]"
   ]
  },
  {
   "cell_type": "code",
   "execution_count": 36,
   "id": "0db71502-9a74-4168-9b25-6c9e3ffb19e1",
   "metadata": {},
   "outputs": [],
   "source": [
    "data_per_convo['text_processed']=data_per_convo['text_processed'].apply(remove_separator)"
   ]
  },
  {
   "cell_type": "code",
   "execution_count": 37,
   "id": "9ee389ba-4333-423d-8bb7-3fed837293ad",
   "metadata": {},
   "outputs": [
    {
     "data": {
      "text/plain": [
       "['so shaken as we are, so wan with care, find we a time for frighted peace to pant,',\n",
       " 'and breathe short-winded accents of new broils to be commenced in strands afar remote.',\n",
       " \"no more the thirsty entrance of this soil shall daub her lips with her own children's blood,\",\n",
       " 'nor more shall trenching war channel her fields, nor bruise her flowerets with the armed hoofs',\n",
       " 'of hostile paces those opposed eyes, which, like the meteors of a troubled heaven,',\n",
       " 'all of one nature, of one substance bred, did lately meet in the intestine shock',\n",
       " 'and furious close of civil butchery shall now, in mutual well-beseeming ranks,',\n",
       " 'march all one way and be no more opposed against acquaintance, kindred and allies',\n",
       " 'the edge of war, like an ill-sheathed knife, no more shall cut his master. therefore, friends,',\n",
       " 'as far as to the sepulchre of christ, whose soldier now, under whose blessed cross',\n",
       " 'we are impressed and engaged to fight, forthwith a power of english shall we levy,',\n",
       " \"whose arms were moulded in their mothers' womb to chase these pagans in those holy fields\",\n",
       " \"over whose acres walk'd those blessed feet which fourteen hundred years ago were nail'd\",\n",
       " 'for our advantage on the bitter cross. but this our purpose now is twelve month old,',\n",
       " \"and bootless 'tis to tell you we will go therefore we meet not now. then let me hear of you,\",\n",
       " 'my gentle cousin westmoreland, what yesternight our council did decree',\n",
       " 'in forwarding this dear expedience.']"
      ]
     },
     "execution_count": 37,
     "metadata": {},
     "output_type": "execute_result"
    }
   ],
   "source": [
    "data_per_convo.text_processed.iloc[0]"
   ]
  },
  {
   "cell_type": "code",
   "execution_count": 38,
   "id": "1f8bd736-ac66-4d35-bc10-176152b0ebb8",
   "metadata": {},
   "outputs": [],
   "source": [
    "data_per_convo = data_per_convo.explode('text_processed')"
   ]
  },
  {
   "cell_type": "code",
   "execution_count": 40,
   "id": "164ba1cf-266a-4689-b05b-426296d87073",
   "metadata": {},
   "outputs": [],
   "source": [
    "data_per_convo['text_processed_with_player'] = data_per_convo['Player'] + \" : \" + data_per_convo['text_processed']"
   ]
  },
  {
   "cell_type": "code",
   "execution_count": 41,
   "id": "a9df3796",
   "metadata": {},
   "outputs": [
    {
     "data": {
      "text/html": [
       "<div>\n",
       "<style scoped>\n",
       "    .dataframe tbody tr th:only-of-type {\n",
       "        vertical-align: middle;\n",
       "    }\n",
       "\n",
       "    .dataframe tbody tr th {\n",
       "        vertical-align: top;\n",
       "    }\n",
       "\n",
       "    .dataframe thead th {\n",
       "        text-align: right;\n",
       "    }\n",
       "</style>\n",
       "<table border=\"1\" class=\"dataframe\">\n",
       "  <thead>\n",
       "    <tr style=\"text-align: right;\">\n",
       "      <th></th>\n",
       "      <th>Play</th>\n",
       "      <th>Player</th>\n",
       "      <th>ActScene</th>\n",
       "      <th>PlayerLinenumber</th>\n",
       "      <th>text</th>\n",
       "      <th>text_processed</th>\n",
       "      <th>text_processed_with_player</th>\n",
       "    </tr>\n",
       "  </thead>\n",
       "  <tbody>\n",
       "    <tr>\n",
       "      <th>0</th>\n",
       "      <td>Henry IV</td>\n",
       "      <td>king henry iv</td>\n",
       "      <td>1.1</td>\n",
       "      <td>1.0</td>\n",
       "      <td>so shaken as we are, so wan with care, &gt; find ...</td>\n",
       "      <td>so shaken as we are, so wan with care, find we...</td>\n",
       "      <td>king henry iv : so shaken as we are, so wan wi...</td>\n",
       "    </tr>\n",
       "    <tr>\n",
       "      <th>0</th>\n",
       "      <td>Henry IV</td>\n",
       "      <td>king henry iv</td>\n",
       "      <td>1.1</td>\n",
       "      <td>1.0</td>\n",
       "      <td>so shaken as we are, so wan with care, &gt; find ...</td>\n",
       "      <td>and breathe short-winded accents of new broils...</td>\n",
       "      <td>king henry iv : and breathe short-winded accen...</td>\n",
       "    </tr>\n",
       "    <tr>\n",
       "      <th>0</th>\n",
       "      <td>Henry IV</td>\n",
       "      <td>king henry iv</td>\n",
       "      <td>1.1</td>\n",
       "      <td>1.0</td>\n",
       "      <td>so shaken as we are, so wan with care, &gt; find ...</td>\n",
       "      <td>no more the thirsty entrance of this soil shal...</td>\n",
       "      <td>king henry iv : no more the thirsty entrance o...</td>\n",
       "    </tr>\n",
       "    <tr>\n",
       "      <th>0</th>\n",
       "      <td>Henry IV</td>\n",
       "      <td>king henry iv</td>\n",
       "      <td>1.1</td>\n",
       "      <td>1.0</td>\n",
       "      <td>so shaken as we are, so wan with care, &gt; find ...</td>\n",
       "      <td>nor more shall trenching war channel her field...</td>\n",
       "      <td>king henry iv : nor more shall trenching war c...</td>\n",
       "    </tr>\n",
       "    <tr>\n",
       "      <th>0</th>\n",
       "      <td>Henry IV</td>\n",
       "      <td>king henry iv</td>\n",
       "      <td>1.1</td>\n",
       "      <td>1.0</td>\n",
       "      <td>so shaken as we are, so wan with care, &gt; find ...</td>\n",
       "      <td>of hostile paces those opposed eyes, which, li...</td>\n",
       "      <td>king henry iv : of hostile paces those opposed...</td>\n",
       "    </tr>\n",
       "    <tr>\n",
       "      <th>...</th>\n",
       "      <td>...</td>\n",
       "      <td>...</td>\n",
       "      <td>...</td>\n",
       "      <td>...</td>\n",
       "      <td>...</td>\n",
       "      <td>...</td>\n",
       "      <td>...</td>\n",
       "    </tr>\n",
       "    <tr>\n",
       "      <th>29360</th>\n",
       "      <td>A Winters Tale</td>\n",
       "      <td>leontes</td>\n",
       "      <td>5.3</td>\n",
       "      <td>38.0</td>\n",
       "      <td>o, peace, paulina! &gt; thou shouldst a husband t...</td>\n",
       "      <td>look upon my brother both your pardons, that e...</td>\n",
       "      <td>leontes : look upon my brother both your pardo...</td>\n",
       "    </tr>\n",
       "    <tr>\n",
       "      <th>29360</th>\n",
       "      <td>A Winters Tale</td>\n",
       "      <td>leontes</td>\n",
       "      <td>5.3</td>\n",
       "      <td>38.0</td>\n",
       "      <td>o, peace, paulina! &gt; thou shouldst a husband t...</td>\n",
       "      <td>my ill suspicion. this is your son-in-law, and...</td>\n",
       "      <td>leontes : my ill suspicion. this is your son-i...</td>\n",
       "    </tr>\n",
       "    <tr>\n",
       "      <th>29360</th>\n",
       "      <td>A Winters Tale</td>\n",
       "      <td>leontes</td>\n",
       "      <td>5.3</td>\n",
       "      <td>38.0</td>\n",
       "      <td>o, peace, paulina! &gt; thou shouldst a husband t...</td>\n",
       "      <td>is troth-plight to your daughter. good paulina...</td>\n",
       "      <td>leontes : is troth-plight to your daughter. go...</td>\n",
       "    </tr>\n",
       "    <tr>\n",
       "      <th>29360</th>\n",
       "      <td>A Winters Tale</td>\n",
       "      <td>leontes</td>\n",
       "      <td>5.3</td>\n",
       "      <td>38.0</td>\n",
       "      <td>o, peace, paulina! &gt; thou shouldst a husband t...</td>\n",
       "      <td>each one demand an answer to his part perform'...</td>\n",
       "      <td>leontes : each one demand an answer to his par...</td>\n",
       "    </tr>\n",
       "    <tr>\n",
       "      <th>29360</th>\n",
       "      <td>A Winters Tale</td>\n",
       "      <td>leontes</td>\n",
       "      <td>5.3</td>\n",
       "      <td>38.0</td>\n",
       "      <td>o, peace, paulina! &gt; thou shouldst a husband t...</td>\n",
       "      <td>we were dissever'd hastily lead away.</td>\n",
       "      <td>leontes : we were dissever'd hastily lead away.</td>\n",
       "    </tr>\n",
       "  </tbody>\n",
       "</table>\n",
       "<p>60819 rows × 7 columns</p>\n",
       "</div>"
      ],
      "text/plain": [
       "                 Play         Player ActScene  PlayerLinenumber  \\\n",
       "0            Henry IV  king henry iv      1.1               1.0   \n",
       "0            Henry IV  king henry iv      1.1               1.0   \n",
       "0            Henry IV  king henry iv      1.1               1.0   \n",
       "0            Henry IV  king henry iv      1.1               1.0   \n",
       "0            Henry IV  king henry iv      1.1               1.0   \n",
       "...               ...            ...      ...               ...   \n",
       "29360  A Winters Tale        leontes      5.3              38.0   \n",
       "29360  A Winters Tale        leontes      5.3              38.0   \n",
       "29360  A Winters Tale        leontes      5.3              38.0   \n",
       "29360  A Winters Tale        leontes      5.3              38.0   \n",
       "29360  A Winters Tale        leontes      5.3              38.0   \n",
       "\n",
       "                                                    text  \\\n",
       "0      so shaken as we are, so wan with care, > find ...   \n",
       "0      so shaken as we are, so wan with care, > find ...   \n",
       "0      so shaken as we are, so wan with care, > find ...   \n",
       "0      so shaken as we are, so wan with care, > find ...   \n",
       "0      so shaken as we are, so wan with care, > find ...   \n",
       "...                                                  ...   \n",
       "29360  o, peace, paulina! > thou shouldst a husband t...   \n",
       "29360  o, peace, paulina! > thou shouldst a husband t...   \n",
       "29360  o, peace, paulina! > thou shouldst a husband t...   \n",
       "29360  o, peace, paulina! > thou shouldst a husband t...   \n",
       "29360  o, peace, paulina! > thou shouldst a husband t...   \n",
       "\n",
       "                                          text_processed  \\\n",
       "0      so shaken as we are, so wan with care, find we...   \n",
       "0      and breathe short-winded accents of new broils...   \n",
       "0      no more the thirsty entrance of this soil shal...   \n",
       "0      nor more shall trenching war channel her field...   \n",
       "0      of hostile paces those opposed eyes, which, li...   \n",
       "...                                                  ...   \n",
       "29360  look upon my brother both your pardons, that e...   \n",
       "29360  my ill suspicion. this is your son-in-law, and...   \n",
       "29360  is troth-plight to your daughter. good paulina...   \n",
       "29360  each one demand an answer to his part perform'...   \n",
       "29360              we were dissever'd hastily lead away.   \n",
       "\n",
       "                              text_processed_with_player  \n",
       "0      king henry iv : so shaken as we are, so wan wi...  \n",
       "0      king henry iv : and breathe short-winded accen...  \n",
       "0      king henry iv : no more the thirsty entrance o...  \n",
       "0      king henry iv : nor more shall trenching war c...  \n",
       "0      king henry iv : of hostile paces those opposed...  \n",
       "...                                                  ...  \n",
       "29360  leontes : look upon my brother both your pardo...  \n",
       "29360  leontes : my ill suspicion. this is your son-i...  \n",
       "29360  leontes : is troth-plight to your daughter. go...  \n",
       "29360  leontes : each one demand an answer to his par...  \n",
       "29360    leontes : we were dissever'd hastily lead away.  \n",
       "\n",
       "[60819 rows x 7 columns]"
      ]
     },
     "execution_count": 41,
     "metadata": {},
     "output_type": "execute_result"
    }
   ],
   "source": [
    "data_per_convo"
   ]
  },
  {
   "cell_type": "code",
   "execution_count": 42,
   "id": "4c1c2bc2-f64d-4c35-8ce1-09227653ed13",
   "metadata": {},
   "outputs": [],
   "source": [
    "all_plays = data_per_convo.Play.unique()"
   ]
  },
  {
   "cell_type": "code",
   "execution_count": 43,
   "id": "4cc22c3f-7794-4ad0-9e7c-9148837e66c3",
   "metadata": {},
   "outputs": [
    {
     "data": {
      "text/plain": [
       "array(['Henry IV', 'Henry VI Part 1', 'Henry VI Part 2',\n",
       "       'Henry VI Part 3', 'Alls well that ends well', 'As you like it',\n",
       "       'Antony and Cleopatra', 'A Comedy of Errors', 'Coriolanus',\n",
       "       'Cymbeline', 'Hamlet', 'Henry VIII', 'King John', 'Julius Caesar',\n",
       "       'King Lear', 'Loves Labours Lost', 'macbeth',\n",
       "       'Measure for measure', 'Merchant of Venice',\n",
       "       'Merry Wives of Windsor', 'A Midsummer nights dream',\n",
       "       'Much Ado about nothing', 'Othello', 'Pericles', 'Richard II',\n",
       "       'Richard III', 'Romeo and Juliet', 'Taming of the Shrew',\n",
       "       'The Tempest', 'Timon of Athens', 'Titus Andronicus',\n",
       "       'Troilus and Cressida', 'Twelfth Night', 'Two Gentlemen of Verona',\n",
       "       'A Winters Tale'], dtype=object)"
      ]
     },
     "execution_count": 43,
     "metadata": {},
     "output_type": "execute_result"
    }
   ],
   "source": [
    "all_plays"
   ]
  },
  {
   "cell_type": "markdown",
   "id": "c4671ef0-de7c-4771-9e09-c651d658c91d",
   "metadata": {},
   "source": [
    "### Preparing train/test Shakespeare data"
   ]
  },
  {
   "cell_type": "code",
   "execution_count": 44,
   "id": "c09414bf-bc6d-488a-8ff7-d5df38db1879",
   "metadata": {},
   "outputs": [],
   "source": [
    "processed_data = []\n",
    "for play in all_plays:\n",
    "#     text_col = data_per_convo[data_per_convo['Play'] == play]['text_processed']\n",
    "    text_col = data_per_convo[data_per_convo['Play'] == play]['text_processed_with_player']\n",
    "    processed_data += generate_src_trg_dataset(text_col)"
   ]
  },
  {
   "cell_type": "code",
   "execution_count": 45,
   "id": "5dde233e-31f8-4607-9d61-392cc6027b03",
   "metadata": {},
   "outputs": [
    {
     "data": {
      "text/plain": [
       "[{'src': 'king henry iv : so shaken as we are, so wan with care, find we a time for frighted peace to pant,',\n",
       "  'trg': 'king henry iv : and breathe short-winded accents of new broils to be commenced in strands afar remote.'},\n",
       " {'src': 'king henry iv : and breathe short-winded accents of new broils to be commenced in strands afar remote.',\n",
       "  'trg': \"king henry iv : no more the thirsty entrance of this soil shall daub her lips with her own children's blood,\"},\n",
       " {'src': \"king henry iv : no more the thirsty entrance of this soil shall daub her lips with her own children's blood,\",\n",
       "  'trg': 'king henry iv : nor more shall trenching war channel her fields, nor bruise her flowerets with the armed hoofs'},\n",
       " {'src': 'king henry iv : nor more shall trenching war channel her fields, nor bruise her flowerets with the armed hoofs',\n",
       "  'trg': 'king henry iv : of hostile paces those opposed eyes, which, like the meteors of a troubled heaven,'},\n",
       " {'src': 'king henry iv : of hostile paces those opposed eyes, which, like the meteors of a troubled heaven,',\n",
       "  'trg': 'king henry iv : all of one nature, of one substance bred, did lately meet in the intestine shock'}]"
      ]
     },
     "execution_count": 45,
     "metadata": {},
     "output_type": "execute_result"
    }
   ],
   "source": [
    "processed_data[:5]"
   ]
  },
  {
   "cell_type": "code",
   "execution_count": 46,
   "id": "dbbed31d-794c-4d82-9580-faa20fb0a846",
   "metadata": {},
   "outputs": [],
   "source": [
    "random.shuffle(processed_data) # in-place shuffle"
   ]
  },
  {
   "cell_type": "code",
   "execution_count": 47,
   "id": "f0419bde-52f6-489b-8ad3-87a971166c32",
   "metadata": {},
   "outputs": [
    {
     "data": {
      "text/plain": [
       "60784"
      ]
     },
     "execution_count": 47,
     "metadata": {},
     "output_type": "execute_result"
    }
   ],
   "source": [
    "n = len(processed_data)\n",
    "n"
   ]
  },
  {
   "cell_type": "code",
   "execution_count": 48,
   "id": "32dd4850-d08f-4785-a79b-a66a1331832c",
   "metadata": {},
   "outputs": [],
   "source": [
    "train_cutoff = int(n*0.8)"
   ]
  },
  {
   "cell_type": "code",
   "execution_count": 49,
   "id": "becf3dc3-9283-47b4-99c3-2e43f9a9d666",
   "metadata": {},
   "outputs": [],
   "source": [
    "# want to preserve order\n",
    "ss_train_data = processed_data[:train_cutoff]\n",
    "ss_test_data = processed_data[-10:]\n",
    "ss_val_data = processed_data[train_cutoff:-10]"
   ]
  },
  {
   "cell_type": "code",
   "execution_count": 50,
   "id": "def1d8bf-5866-4f47-bf68-b72cea07eb29",
   "metadata": {},
   "outputs": [
    {
     "data": {
      "text/plain": [
       "(10, 48627, 12147)"
      ]
     },
     "execution_count": 50,
     "metadata": {},
     "output_type": "execute_result"
    }
   ],
   "source": [
    "len(ss_test_data), len(ss_train_data), len(ss_val_data)"
   ]
  },
  {
   "cell_type": "code",
   "execution_count": 51,
   "id": "7364cc63-1746-4d10-b9af-bdf2f247428d",
   "metadata": {},
   "outputs": [
    {
     "data": {
      "text/plain": [
       "[{'src': 'morocco : o hell! what have we here? a carrion death, within whose empty eye there is a written scroll!',\n",
       "  'trg': \"morocco : i'll read the writing. all that glitters is not gold, often have you heard that told\"},\n",
       " {'src': 'cromwell : and his disciples only envy at, ye blew the fire that burns ye now have at ye! enter king,',\n",
       "  'trg': 'cromwell : frowning on them, takes his seat'},\n",
       " {'src': 'mistress quickly : mistress page would desire you to send her your little page, of all loves her husband has a',\n",
       "  'trg': 'mistress quickly : marvellous infection to the little page, and truly master page is an honest man. never a wife in'},\n",
       " {'src': \"plantagenet : he bears him on the place's privilege, or durst not, for his craven heart, say thus.\",\n",
       "  'trg': \"somerset : by him that made me, i'll maintain my words on any plot of ground in christendom.\"},\n",
       " {'src': 'queen margaret : loather a hundred times to part than die. yet now farewell, and farewell life with thee!',\n",
       "  'trg': 'suffolk : thus is poor suffolk ten times banished, once by the king, and three times thrice by thee.'}]"
      ]
     },
     "execution_count": 51,
     "metadata": {},
     "output_type": "execute_result"
    }
   ],
   "source": [
    "ss_train_data[:5]"
   ]
  },
  {
   "cell_type": "code",
   "execution_count": 55,
   "id": "f3906803-830c-46e1-9f7b-e43543c70e0e",
   "metadata": {},
   "outputs": [],
   "source": [
    "save_src_trg_dataset(ss_train_data, filename= 'train', folder_dir= 'data/with_player/')"
   ]
  },
  {
   "cell_type": "code",
   "execution_count": 56,
   "id": "ee97f92b",
   "metadata": {},
   "outputs": [],
   "source": [
    "save_src_trg_dataset(ss_val_data, filename= 'valid', folder_dir= 'data/with_player/')"
   ]
  },
  {
   "cell_type": "code",
   "execution_count": 57,
   "id": "30838a59-aa89-4a49-96f5-8722503b9abb",
   "metadata": {},
   "outputs": [],
   "source": [
    "save_src_trg_dataset(ss_test_data, filename= 'test', folder_dir= 'data/with_player/')"
   ]
  },
  {
   "cell_type": "markdown",
   "id": "7b1030d0-04cd-4538-aeda-688b5c8fa1b0",
   "metadata": {},
   "source": [
    "## Creating CC tokenizer"
   ]
  },
  {
   "cell_type": "code",
   "execution_count": null,
   "id": "ab9af3ad-9676-4792-932c-bc8e75d9b8a1",
   "metadata": {},
   "outputs": [],
   "source": [
    "comb_train_data_dir='data/commonsense/train.jsonl'\n",
    "comb_test_data_dir='data/commonsense/test.jsonl'\n",
    "\n",
    "comb_data = []\n",
    "\n",
    "with open(comb_train_data_dir, 'r') as f_reader:\n",
    "    for row in f_reader:\n",
    "        comb_data.append(json.loads(row))\n",
    "        \n",
    "with open(comb_test_data_dir, 'r') as f_reader:\n",
    "    for row in f_reader:\n",
    "        comb_data.append(json.loads(row))"
   ]
  },
  {
   "cell_type": "code",
   "execution_count": null,
   "id": "de4e473a-44e7-4156-9c14-ba17ba781054",
   "metadata": {},
   "outputs": [],
   "source": [
    "comb_data[0], len(comb_data)"
   ]
  },
  {
   "cell_type": "code",
   "execution_count": null,
   "id": "1406f7b4-6de4-4698-b55a-c684848212b9",
   "metadata": {},
   "outputs": [],
   "source": [
    "merged_lines = []\n",
    "for line in comb_data:\n",
    "    l = line['src'] + \" \" + line['trg']\n",
    "    merged_lines.append(l)"
   ]
  },
  {
   "cell_type": "code",
   "execution_count": null,
   "id": "3f6ee73c-4b19-4e65-a83b-adf1900c0107",
   "metadata": {},
   "outputs": [],
   "source": [
    "tokenizer = AutoTokenizer.from_pretrained('bert-base-uncased') # Bert will be the base tokenizer\n",
    "lines_iter = iter(merged_lines) # Most likely not needed, already in list\n",
    "\n",
    "# Creates new tokenizer with our vocabulary set\n",
    "comb_tokenizer = tokenizer.train_new_from_iterator(lines_iter, 50000)"
   ]
  },
  {
   "cell_type": "code",
   "execution_count": null,
   "id": "8206becc-fda2-4e3e-aee0-cf61f6a7081e",
   "metadata": {},
   "outputs": [],
   "source": [
    "comb_tokenizer"
   ]
  },
  {
   "cell_type": "code",
   "execution_count": null,
   "id": "b305c915-21a8-4f83-b0a2-f1d95175f7b9",
   "metadata": {},
   "outputs": [],
   "source": [
    "comb_tokenizer.save_pretrained(\"commonsense-tokenizer-bert\")"
   ]
  },
  {
   "cell_type": "markdown",
   "id": "ceaefc9b-a646-4792-ad97-8b7113e8c4b5",
   "metadata": {},
   "source": [
    "# Preparing combined dataset (Commonsense Dialogue & Shakespeare)"
   ]
  },
  {
   "cell_type": "code",
   "execution_count": null,
   "id": "1a36a0f8-9b33-4f07-b467-3585c48942e4",
   "metadata": {},
   "outputs": [],
   "source": [
    "cc_train_data_dir='data/commonsense/train.jsonl'\n",
    "ss_train_data_dir='data/shakespeare/train.jsonl'\n",
    "cc_test_data_dir='data/commonsense/test.jsonl'\n",
    "ss_test_data_dir='data/shakespeare/test.jsonl'"
   ]
  },
  {
   "cell_type": "code",
   "execution_count": null,
   "id": "eb4c27fa-d8f5-4aff-b3ed-5307a35cced5",
   "metadata": {},
   "outputs": [],
   "source": [
    "cc_train_data = []\n",
    "with open(cc_train_data_dir, 'r') as f_reader:\n",
    "    for row in f_reader:\n",
    "        cc_train_data.append(json.loads(row))"
   ]
  },
  {
   "cell_type": "code",
   "execution_count": null,
   "id": "22b8a81e-9d34-4145-8157-0cc9a402742f",
   "metadata": {},
   "outputs": [],
   "source": [
    "cc_test_data = []\n",
    "with open(cc_test_data_dir, 'r') as f_reader:\n",
    "    for row in f_reader:\n",
    "        cc_test_data.append(json.loads(row))"
   ]
  },
  {
   "cell_type": "code",
   "execution_count": null,
   "id": "9d9008e5-66d1-48f2-9ea2-ad38267a4fec",
   "metadata": {},
   "outputs": [],
   "source": [
    "ss_train_data = []\n",
    "with open(ss_train_data_dir, 'r') as f_reader:\n",
    "    for row in f_reader:\n",
    "        ss_train_data.append(json.loads(row))"
   ]
  },
  {
   "cell_type": "code",
   "execution_count": null,
   "id": "6a514b02-efba-425f-96ec-5d6be3ad23b9",
   "metadata": {},
   "outputs": [],
   "source": [
    "ss_test_data = []\n",
    "with open(ss_test_data_dir, 'r') as f_reader:\n",
    "    for row in f_reader:\n",
    "        ss_test_data.append(json.loads(row))"
   ]
  },
  {
   "cell_type": "code",
   "execution_count": null,
   "id": "93af9e29-a656-44c6-ac95-3a58511b5e2c",
   "metadata": {},
   "outputs": [],
   "source": [
    "len(cc_train_data), len(ss_train_data), len(cc_test_data), len(ss_test_data)"
   ]
  },
  {
   "cell_type": "code",
   "execution_count": null,
   "id": "c1e5fb25-89eb-43a6-9c80-d27732db35e1",
   "metadata": {},
   "outputs": [],
   "source": [
    "random.shuffle(cc_train_data)"
   ]
  },
  {
   "cell_type": "code",
   "execution_count": null,
   "id": "0365aca5-b03a-48ee-a3aa-d49e82c5d0bc",
   "metadata": {},
   "outputs": [],
   "source": [
    "combined_train_data = cc_train_data[:1_000_000] + ss_train_data\n",
    "combined_test_data = cc_test_data[-10:] + ss_test_data"
   ]
  },
  {
   "cell_type": "code",
   "execution_count": null,
   "id": "2e78720d-44bb-484e-8772-407a93371af7",
   "metadata": {},
   "outputs": [],
   "source": [
    "random.shuffle(combined_train_data)\n",
    "random.shuffle(combined_test_data)\n",
    "len(combined_train_data), len(combined_test_data)"
   ]
  },
  {
   "cell_type": "code",
   "execution_count": null,
   "id": "3558649f-d080-483d-83ac-cdf341f3b9b3",
   "metadata": {},
   "outputs": [],
   "source": [
    "save_src_trg_dataset(combined_test_data, filename= 'test', folder_dir= 'data/combined/')"
   ]
  },
  {
   "cell_type": "code",
   "execution_count": null,
   "id": "fcd03953-748f-46ed-81f6-14c122e1e194",
   "metadata": {},
   "outputs": [],
   "source": [
    "save_src_trg_dataset(combined_train_data, filename= 'train', folder_dir= 'data/combined/')"
   ]
  },
  {
   "cell_type": "markdown",
   "id": "d61b3336-b0d3-4641-aa76-95b86ccc472b",
   "metadata": {},
   "source": [
    "# Preparing small combined"
   ]
  },
  {
   "cell_type": "code",
   "execution_count": null,
   "id": "58df2a18-9670-4aac-afe9-7bb18b593cb6",
   "metadata": {},
   "outputs": [],
   "source": [
    "comb_train_data_dir='data/combined/train.jsonl'\n",
    "comb_test_data_dir='data/combined/test.jsonl'\n",
    "\n",
    "comb_train_data = []\n",
    "comb_test_data = []\n",
    "\n",
    "with open(comb_train_data_dir, 'r') as f_reader:\n",
    "    for row in f_reader:\n",
    "        comb_train_data.append(json.loads(row))\n",
    "        \n",
    "with open(comb_test_data_dir, 'r') as f_reader:\n",
    "    for row in f_reader:\n",
    "        comb_test_data.append(json.loads(row))"
   ]
  },
  {
   "cell_type": "code",
   "execution_count": null,
   "id": "e70b0614-6cf3-4ee0-aec0-16dae53d07a9",
   "metadata": {},
   "outputs": [],
   "source": [
    "combined_train_data=comb_train_data[:100]\n",
    "combined_test_data=comb_test_data[:10]"
   ]
  },
  {
   "cell_type": "code",
   "execution_count": null,
   "id": "23202b8c-3fa1-44fb-9c37-aca27d124a66",
   "metadata": {},
   "outputs": [],
   "source": [
    "save_src_trg_dataset(combined_test_data, filename= 'test', folder_dir= 'data/combined/small/')\n",
    "save_src_trg_dataset(combined_train_data, filename= 'train', folder_dir= 'data/combined/small/')"
   ]
  },
  {
   "cell_type": "markdown",
   "id": "73cb6182-ea97-4d6e-a420-a95e1517bc8c",
   "metadata": {},
   "source": [
    "# Introducing Sonnets"
   ]
  },
  {
   "cell_type": "code",
   "execution_count": null,
   "id": "78d13125-42ee-4899-93a8-05fc448b4f96",
   "metadata": {},
   "outputs": [],
   "source": [
    "with open('data/source/sonnets.txt', 'r') as f:\n",
    "    data = f.read().lower()"
   ]
  },
  {
   "cell_type": "code",
   "execution_count": null,
   "id": "d20d4409-781d-433e-a7a9-3f65aed16da4",
   "metadata": {},
   "outputs": [],
   "source": [
    "sonnets = data.split('\\n\\n')\n",
    "sonnets[:4]"
   ]
  },
  {
   "cell_type": "code",
   "execution_count": null,
   "id": "b2e15d39-2e75-4ddf-8706-99bf7194de17",
   "metadata": {},
   "outputs": [],
   "source": [
    "sonnets_num = []\n",
    "sonnets_text = []\n",
    "for i in range(len(sonnets)):\n",
    "    if len(sonnets[i]) <= 10:\n",
    "        sonnets_num.append(sonnets[i])\n",
    "    else:\n",
    "        sonnets_text.append(sonnets[i])"
   ]
  },
  {
   "cell_type": "code",
   "execution_count": null,
   "id": "54b4bc52-c237-4491-b5dd-8b5c5a983aeb",
   "metadata": {},
   "outputs": [],
   "source": [
    "sonnets_cleaned = []\n",
    "for s in sonnets_text:\n",
    "    # Shakespeare's sonnets are made of 3 quatrains (4-line stanza) and last 2 lines belong together\n",
    "    curr = s.split('\\n')\n",
    "    curr = [i.strip().replace(\"'d\", \"ed\") for i in curr]\n",
    "    q1 = curr[:4]\n",
    "    q2 = curr[4:8]\n",
    "    q3 = curr[8:12]\n",
    "    c1 = curr[12:]\n",
    "    sonnets_cleaned.append([' '.join(q1), ' '.join(q2), ' '.join(q3), ' '.join(c1)])"
   ]
  },
  {
   "cell_type": "code",
   "execution_count": null,
   "id": "02ff35af-01d1-4e9a-a97e-60442306551d",
   "metadata": {},
   "outputs": [],
   "source": [
    "sonnets_cleaned[:2]"
   ]
  },
  {
   "cell_type": "code",
   "execution_count": null,
   "id": "04824775-983e-40e0-99b1-a0ae89cf6d65",
   "metadata": {},
   "outputs": [],
   "source": [
    "sonnets_src_trg_data = []\n",
    "for s in sonnets_cleaned:\n",
    "    for i in range(3):\n",
    "        dictionary = {}\n",
    "        dictionary[\"src\"] = s[i].strip()\n",
    "        dictionary[\"trg\"] = s[i+1].strip()\n",
    "        sonnets_src_trg_data.append(dictionary)"
   ]
  },
  {
   "cell_type": "code",
   "execution_count": null,
   "id": "d788cb9a-0693-4f29-b43d-79586c78db7a",
   "metadata": {},
   "outputs": [],
   "source": [
    "sonnets_src_trg_data[:3]"
   ]
  },
  {
   "cell_type": "code",
   "execution_count": null,
   "id": "f452cbd0-386d-4c49-a8b7-0c6b4c326f5d",
   "metadata": {},
   "outputs": [],
   "source": [
    "len(sonnets_src_trg_data)"
   ]
  },
  {
   "cell_type": "markdown",
   "id": "86622da0-50c6-422b-9f2a-5c6c5409a448",
   "metadata": {},
   "source": [
    "## Combining Sonnets with Plays"
   ]
  },
  {
   "cell_type": "code",
   "execution_count": null,
   "id": "058381b2-b129-4b3f-a75c-dc2a08ba5436",
   "metadata": {},
   "outputs": [],
   "source": [
    "processed_data = []\n",
    "for play in all_plays:\n",
    "    text_col = shakespeare_data.data[shakespeare_data.data['Play'] == play]['text']\n",
    "    processed_data += generate_src_trg_dataset(text_col)"
   ]
  },
  {
   "cell_type": "code",
   "execution_count": null,
   "id": "90b2c742-8a87-498a-aca2-d001a09c8c69",
   "metadata": {},
   "outputs": [],
   "source": [
    "processed_data += sonnets_src_trg_data"
   ]
  },
  {
   "cell_type": "code",
   "execution_count": null,
   "id": "4132d775-e8f7-4dda-9799-411e641a618c",
   "metadata": {},
   "outputs": [],
   "source": [
    "random.shuffle(processed_data) # in-place shuffle"
   ]
  },
  {
   "cell_type": "code",
   "execution_count": null,
   "id": "a64e5bbe-357f-4bac-beb9-227c8d80c52c",
   "metadata": {},
   "outputs": [],
   "source": [
    "n = len(processed_data)\n",
    "n"
   ]
  },
  {
   "cell_type": "code",
   "execution_count": null,
   "id": "b6a684e3-2e20-464b-9e86-b31fcad9fd31",
   "metadata": {},
   "outputs": [],
   "source": [
    "# cutoff = int(n*0.9)\n",
    "cutoff = -20\n",
    "ss_train_data, ss_test_data = processed_data[:cutoff], processed_data[cutoff:]"
   ]
  },
  {
   "cell_type": "code",
   "execution_count": null,
   "id": "cb246979-10bd-4639-9e90-e64676aac276",
   "metadata": {},
   "outputs": [],
   "source": [
    "save_src_trg_dataset(ss_train_data, filename= 'train', folder_dir= 'data/')"
   ]
  },
  {
   "cell_type": "code",
   "execution_count": null,
   "id": "94abac1a-3c68-42f9-815a-2c88d9c526a4",
   "metadata": {},
   "outputs": [],
   "source": [
    "save_src_trg_dataset(ss_test_data, filename= 'test', folder_dir= 'data/')"
   ]
  },
  {
   "cell_type": "markdown",
   "id": "94b10e2c-ca61-4887-a464-1feaf84331f8",
   "metadata": {},
   "source": [
    "## Creating Sonnets tokenizer"
   ]
  },
  {
   "cell_type": "code",
   "execution_count": null,
   "id": "802f851b-4508-41ca-ad87-b947bbbcc1df",
   "metadata": {},
   "outputs": [],
   "source": [
    "sonnets_tokenizer = create_tokenizer(np.array(sonnets_cleaned).flatten().flatten())"
   ]
  },
  {
   "cell_type": "code",
   "execution_count": null,
   "id": "f22d0118-2c0b-4a9f-9832-f3c2513c08e9",
   "metadata": {},
   "outputs": [],
   "source": [
    "tokenizer_save_path = 'shakespeare-tokenizer-bert/sonnets'\n",
    "sonnets_tokenizer.save_pretrained(tokenizer_save_path)"
   ]
  }
 ],
 "metadata": {
  "kernelspec": {
   "display_name": "venv",
   "language": "python",
   "name": "venv"
  },
  "language_info": {
   "codemirror_mode": {
    "name": "ipython",
    "version": 3
   },
   "file_extension": ".py",
   "mimetype": "text/x-python",
   "name": "python",
   "nbconvert_exporter": "python",
   "pygments_lexer": "ipython3",
   "version": "3.9.5"
  }
 },
 "nbformat": 4,
 "nbformat_minor": 5
}
