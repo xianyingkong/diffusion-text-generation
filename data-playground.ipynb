{
 "cells": [
  {
   "cell_type": "code",
   "execution_count": 2,
   "id": "10efb8cf",
   "metadata": {},
   "outputs": [],
   "source": [
    "import pandas as pd\n",
    "import numpy as np\n",
    "import pickle\n",
    "import os\n",
    "from transformers import AutoTokenizer, PreTrainedTokenizerFast, BertTokenizerFast\n",
    "import json\n",
    "import random"
   ]
  },
  {
   "cell_type": "code",
   "execution_count": 3,
   "id": "2a9a01d2-894f-4bc4-ab91-183cbd851842",
   "metadata": {},
   "outputs": [],
   "source": [
    "random.seed(102)"
   ]
  },
  {
   "cell_type": "markdown",
   "id": "8866fb8b-f69f-46cc-9410-3b78fb0ff50c",
   "metadata": {},
   "source": [
    "# Exploratory"
   ]
  },
  {
   "cell_type": "code",
   "execution_count": 4,
   "id": "8eae23cd",
   "metadata": {},
   "outputs": [],
   "source": [
    "df = pd.read_csv('data/source/shakespeare.csv')"
   ]
  },
  {
   "cell_type": "code",
   "execution_count": 5,
   "id": "93894566",
   "metadata": {},
   "outputs": [
    {
     "data": {
      "text/html": [
       "<div>\n",
       "<style scoped>\n",
       "    .dataframe tbody tr th:only-of-type {\n",
       "        vertical-align: middle;\n",
       "    }\n",
       "\n",
       "    .dataframe tbody tr th {\n",
       "        vertical-align: top;\n",
       "    }\n",
       "\n",
       "    .dataframe thead th {\n",
       "        text-align: right;\n",
       "    }\n",
       "</style>\n",
       "<table border=\"1\" class=\"dataframe\">\n",
       "  <thead>\n",
       "    <tr style=\"text-align: right;\">\n",
       "      <th></th>\n",
       "      <th>Dataline</th>\n",
       "      <th>Play</th>\n",
       "      <th>PlayerLinenumber</th>\n",
       "      <th>ActSceneLine</th>\n",
       "      <th>Player</th>\n",
       "      <th>PlayerLine</th>\n",
       "    </tr>\n",
       "  </thead>\n",
       "  <tbody>\n",
       "    <tr>\n",
       "      <th>0</th>\n",
       "      <td>1</td>\n",
       "      <td>Henry IV</td>\n",
       "      <td>NaN</td>\n",
       "      <td>NaN</td>\n",
       "      <td>NaN</td>\n",
       "      <td>ACT I</td>\n",
       "    </tr>\n",
       "    <tr>\n",
       "      <th>1</th>\n",
       "      <td>2</td>\n",
       "      <td>Henry IV</td>\n",
       "      <td>NaN</td>\n",
       "      <td>NaN</td>\n",
       "      <td>NaN</td>\n",
       "      <td>SCENE I. London. The palace.</td>\n",
       "    </tr>\n",
       "    <tr>\n",
       "      <th>2</th>\n",
       "      <td>3</td>\n",
       "      <td>Henry IV</td>\n",
       "      <td>NaN</td>\n",
       "      <td>NaN</td>\n",
       "      <td>NaN</td>\n",
       "      <td>Enter KING HENRY, LORD JOHN OF LANCASTER, the ...</td>\n",
       "    </tr>\n",
       "    <tr>\n",
       "      <th>3</th>\n",
       "      <td>4</td>\n",
       "      <td>Henry IV</td>\n",
       "      <td>1.0</td>\n",
       "      <td>1.1.1</td>\n",
       "      <td>KING HENRY IV</td>\n",
       "      <td>So shaken as we are, so wan with care,</td>\n",
       "    </tr>\n",
       "    <tr>\n",
       "      <th>4</th>\n",
       "      <td>5</td>\n",
       "      <td>Henry IV</td>\n",
       "      <td>1.0</td>\n",
       "      <td>1.1.2</td>\n",
       "      <td>KING HENRY IV</td>\n",
       "      <td>Find we a time for frighted peace to pant,</td>\n",
       "    </tr>\n",
       "  </tbody>\n",
       "</table>\n",
       "</div>"
      ],
      "text/plain": [
       "   Dataline      Play  PlayerLinenumber ActSceneLine         Player  \\\n",
       "0         1  Henry IV               NaN          NaN            NaN   \n",
       "1         2  Henry IV               NaN          NaN            NaN   \n",
       "2         3  Henry IV               NaN          NaN            NaN   \n",
       "3         4  Henry IV               1.0        1.1.1  KING HENRY IV   \n",
       "4         5  Henry IV               1.0        1.1.2  KING HENRY IV   \n",
       "\n",
       "                                          PlayerLine  \n",
       "0                                              ACT I  \n",
       "1                       SCENE I. London. The palace.  \n",
       "2  Enter KING HENRY, LORD JOHN OF LANCASTER, the ...  \n",
       "3             So shaken as we are, so wan with care,  \n",
       "4         Find we a time for frighted peace to pant,  "
      ]
     },
     "execution_count": 5,
     "metadata": {},
     "output_type": "execute_result"
    }
   ],
   "source": [
    "df.head(5)"
   ]
  },
  {
   "cell_type": "code",
   "execution_count": 6,
   "id": "d4bf1750",
   "metadata": {},
   "outputs": [
    {
     "data": {
      "text/html": [
       "<div>\n",
       "<style scoped>\n",
       "    .dataframe tbody tr th:only-of-type {\n",
       "        vertical-align: middle;\n",
       "    }\n",
       "\n",
       "    .dataframe tbody tr th {\n",
       "        vertical-align: top;\n",
       "    }\n",
       "\n",
       "    .dataframe thead th {\n",
       "        text-align: right;\n",
       "    }\n",
       "</style>\n",
       "<table border=\"1\" class=\"dataframe\">\n",
       "  <thead>\n",
       "    <tr style=\"text-align: right;\">\n",
       "      <th></th>\n",
       "      <th>Play</th>\n",
       "      <th>PlayerLinenumber</th>\n",
       "      <th>PlayerLine</th>\n",
       "    </tr>\n",
       "  </thead>\n",
       "  <tbody>\n",
       "    <tr>\n",
       "      <th>0</th>\n",
       "      <td>Henry IV</td>\n",
       "      <td>1.0</td>\n",
       "      <td>So shaken as we are, so wan with care,Find we ...</td>\n",
       "    </tr>\n",
       "    <tr>\n",
       "      <th>1</th>\n",
       "      <td>Henry IV</td>\n",
       "      <td>2.0</td>\n",
       "      <td>My liege, this haste was hot in question,And m...</td>\n",
       "    </tr>\n",
       "    <tr>\n",
       "      <th>2</th>\n",
       "      <td>Henry IV</td>\n",
       "      <td>3.0</td>\n",
       "      <td>It seems then that the tidings of this broilBr...</td>\n",
       "    </tr>\n",
       "    <tr>\n",
       "      <th>3</th>\n",
       "      <td>Henry IV</td>\n",
       "      <td>4.0</td>\n",
       "      <td>This match'd with other did, my gracious lord,...</td>\n",
       "    </tr>\n",
       "    <tr>\n",
       "      <th>4</th>\n",
       "      <td>Henry IV</td>\n",
       "      <td>5.0</td>\n",
       "      <td>Here is a dear, a true industrious friend,Sir ...</td>\n",
       "    </tr>\n",
       "    <tr>\n",
       "      <th>...</th>\n",
       "      <td>...</td>\n",
       "      <td>...</td>\n",
       "      <td>...</td>\n",
       "    </tr>\n",
       "    <tr>\n",
       "      <th>193</th>\n",
       "      <td>Henry IV</td>\n",
       "      <td>194.0</td>\n",
       "      <td>Nothing but papers, my lord.</td>\n",
       "    </tr>\n",
       "    <tr>\n",
       "      <th>194</th>\n",
       "      <td>Henry IV</td>\n",
       "      <td>195.0</td>\n",
       "      <td>Let's see what they be: read them.</td>\n",
       "    </tr>\n",
       "    <tr>\n",
       "      <th>195</th>\n",
       "      <td>Henry IV</td>\n",
       "      <td>196.0</td>\n",
       "      <td>[Reads]  Item, A capon,. . 2s. 2d.Item, Sauce,...</td>\n",
       "    </tr>\n",
       "    <tr>\n",
       "      <th>196</th>\n",
       "      <td>Henry IV</td>\n",
       "      <td>197.0</td>\n",
       "      <td>O monstrous! but one half-penny-worth of bread...</td>\n",
       "    </tr>\n",
       "    <tr>\n",
       "      <th>197</th>\n",
       "      <td>Henry IV</td>\n",
       "      <td>198.0</td>\n",
       "      <td>Good morrow, good my lord.ACT IIISCENE I. Bang...</td>\n",
       "    </tr>\n",
       "  </tbody>\n",
       "</table>\n",
       "<p>198 rows × 3 columns</p>\n",
       "</div>"
      ],
      "text/plain": [
       "         Play  PlayerLinenumber  \\\n",
       "0    Henry IV               1.0   \n",
       "1    Henry IV               2.0   \n",
       "2    Henry IV               3.0   \n",
       "3    Henry IV               4.0   \n",
       "4    Henry IV               5.0   \n",
       "..        ...               ...   \n",
       "193  Henry IV             194.0   \n",
       "194  Henry IV             195.0   \n",
       "195  Henry IV             196.0   \n",
       "196  Henry IV             197.0   \n",
       "197  Henry IV             198.0   \n",
       "\n",
       "                                            PlayerLine  \n",
       "0    So shaken as we are, so wan with care,Find we ...  \n",
       "1    My liege, this haste was hot in question,And m...  \n",
       "2    It seems then that the tidings of this broilBr...  \n",
       "3    This match'd with other did, my gracious lord,...  \n",
       "4    Here is a dear, a true industrious friend,Sir ...  \n",
       "..                                                 ...  \n",
       "193                       Nothing but papers, my lord.  \n",
       "194                 Let's see what they be: read them.  \n",
       "195  [Reads]  Item, A capon,. . 2s. 2d.Item, Sauce,...  \n",
       "196  O monstrous! but one half-penny-worth of bread...  \n",
       "197  Good morrow, good my lord.ACT IIISCENE I. Bang...  \n",
       "\n",
       "[198 rows x 3 columns]"
      ]
     },
     "execution_count": 6,
     "metadata": {},
     "output_type": "execute_result"
    }
   ],
   "source": [
    "df[df['Play'] == 'Henry IV'].groupby(['Play', 'PlayerLinenumber']).agg(PlayerLine=('PlayerLine', np.sum)).reset_index()"
   ]
  },
  {
   "cell_type": "code",
   "execution_count": 7,
   "id": "70a2de6a",
   "metadata": {},
   "outputs": [
    {
     "data": {
      "text/html": [
       "<div>\n",
       "<style scoped>\n",
       "    .dataframe tbody tr th:only-of-type {\n",
       "        vertical-align: middle;\n",
       "    }\n",
       "\n",
       "    .dataframe tbody tr th {\n",
       "        vertical-align: top;\n",
       "    }\n",
       "\n",
       "    .dataframe thead th {\n",
       "        text-align: right;\n",
       "    }\n",
       "</style>\n",
       "<table border=\"1\" class=\"dataframe\">\n",
       "  <thead>\n",
       "    <tr style=\"text-align: right;\">\n",
       "      <th></th>\n",
       "      <th>ActSceneLine</th>\n",
       "      <th>Player</th>\n",
       "      <th>PlayerLine</th>\n",
       "    </tr>\n",
       "  </thead>\n",
       "  <tbody>\n",
       "    <tr>\n",
       "      <th>3</th>\n",
       "      <td>1.1.1</td>\n",
       "      <td>KING HENRY IV</td>\n",
       "      <td>So shaken as we are, so wan with care,</td>\n",
       "    </tr>\n",
       "    <tr>\n",
       "      <th>4</th>\n",
       "      <td>1.1.2</td>\n",
       "      <td>KING HENRY IV</td>\n",
       "      <td>Find we a time for frighted peace to pant,</td>\n",
       "    </tr>\n",
       "    <tr>\n",
       "      <th>5</th>\n",
       "      <td>1.1.3</td>\n",
       "      <td>KING HENRY IV</td>\n",
       "      <td>And breathe short-winded accents of new broils</td>\n",
       "    </tr>\n",
       "    <tr>\n",
       "      <th>6</th>\n",
       "      <td>1.1.4</td>\n",
       "      <td>KING HENRY IV</td>\n",
       "      <td>To be commenced in strands afar remote.</td>\n",
       "    </tr>\n",
       "    <tr>\n",
       "      <th>7</th>\n",
       "      <td>1.1.5</td>\n",
       "      <td>KING HENRY IV</td>\n",
       "      <td>No more the thirsty entrance of this soil</td>\n",
       "    </tr>\n",
       "  </tbody>\n",
       "</table>\n",
       "</div>"
      ],
      "text/plain": [
       "  ActSceneLine         Player                                      PlayerLine\n",
       "3        1.1.1  KING HENRY IV          So shaken as we are, so wan with care,\n",
       "4        1.1.2  KING HENRY IV      Find we a time for frighted peace to pant,\n",
       "5        1.1.3  KING HENRY IV  And breathe short-winded accents of new broils\n",
       "6        1.1.4  KING HENRY IV         To be commenced in strands afar remote.\n",
       "7        1.1.5  KING HENRY IV       No more the thirsty entrance of this soil"
      ]
     },
     "execution_count": 7,
     "metadata": {},
     "output_type": "execute_result"
    }
   ],
   "source": [
    "remove = df[(df['Player'].notna()) & (df[\"PlayerLine\"]!='Exeunt')]\n",
    "data = remove[['ActSceneLine', \"Player\", \"PlayerLine\"]]\n",
    "data.head()"
   ]
  },
  {
   "cell_type": "markdown",
   "id": "21c740f7-a4a3-4a21-b31e-30923529f64c",
   "metadata": {},
   "source": [
    "# Preprocessing Shakespeare"
   ]
  },
  {
   "cell_type": "code",
   "execution_count": 8,
   "id": "75565b17",
   "metadata": {},
   "outputs": [],
   "source": [
    "class ShakespeareData:\n",
    "    def __init__(self, filepath='data/source/shakespeare.csv', tokenizer_config='bert-base-uncased', max_tokens=32000):\n",
    "        self.tokenizer_config = tokenizer_config\n",
    "        self.max_tokens = max_tokens\n",
    "        \n",
    "        data = pd.read_csv(filepath)\n",
    "        self.data = self.clean(data) \n",
    "        self.tokenizer = self.create_tokenizer()\n",
    "        \n",
    "    \n",
    "    def create_tokenizer(self):\n",
    "        tokenizer = AutoTokenizer.from_pretrained(self.tokenizer_config) # Bert will be the base tokenizer\n",
    "        lines_iter = iter(self.data['text']) # Most likely not needed, already in list\n",
    "\n",
    "        # Creates new tokenizer with our vocabulary set\n",
    "        return tokenizer.train_new_from_iterator(lines_iter, self.max_tokens)\n",
    "    \n",
    "    def clean(self, data):\n",
    "        repl = {\n",
    "            '@\\w*': ' ', \n",
    "            '&amp;' : 'and',\n",
    "            '\\su\\s':' you ', \n",
    "            '&#\\w*;': ' ', \n",
    "            '#':' ', \n",
    "            '\\s2\\s': 'two', \n",
    "            \"ð[^ ]*\": ' ' ,\n",
    "            \"â[^ ]*\": ' ',\n",
    "            \"(dont)|(don't)\": 'do not', \n",
    "            \"(cant)|(can't)\": \"can not\",\n",
    "            \"(yous)|(you's)\": \"you is\", \n",
    "            \"(yous)|(you's)\": \"you is\", \n",
    "            \"(youve)|(you've)\": \"you have\", \n",
    "            \"(doesnt)|(doesn't)\": 'does not', \n",
    "            \"(wont)|(won't)\": 'will not', \n",
    "            \"\\'tis'\": 'this',\n",
    "            \"[0-9]+\\.*[0-9%]+\\w*\" : \"NUMBER\",\n",
    "            '\\\\n\\.':' ' ,\n",
    "            '\\\\n':' ',\n",
    "            \"\\.{2,}\": '.', \n",
    "            \"!{2,}\":'!', \n",
    "            \"\\?{2,}\":'?', \n",
    "#             'ing[^a-z]':' ', \n",
    "#             'ed[^a-z]': ' ', \n",
    "            '_':\" \",\n",
    "            ' +': ' ', \n",
    "            '\\-{2,}': ' ', \n",
    "            '\\:': '',\n",
    "            ',$':'', \n",
    "            \"\\'d\": \"ed\",\n",
    "            '\\\\.':' <EOS>'}\n",
    "\n",
    "        data = data[(data['Player'].notna()) & (data[\"PlayerLine\"]!='Exeunt')]\n",
    "        data = data[['ActSceneLine', \"Player\", \"PlayerLine\"]]\n",
    "        cleaned = data['PlayerLine'].apply(lambda x: x.strip().lower())\n",
    "        cleaned = cleaned.replace(repl, regex=True)\n",
    "        cleaned_data = data.assign(text = cleaned)\n",
    "        return cleaned_data"
   ]
  },
  {
   "cell_type": "code",
   "execution_count": 9,
   "id": "da7308df-27a4-4321-9b91-2d9f9e4bd25b",
   "metadata": {},
   "outputs": [],
   "source": [
    "def generate_src_trg_dataset(text_col):\n",
    "    data = []\n",
    "    \n",
    "    for i in range(len(text_col)-1):\n",
    "        dictionary = {}\n",
    "        dictionary[\"src\"] = text_col.iloc[i]\n",
    "        dictionary[\"trg\"] = text_col.iloc[i+1]\n",
    "        data.append(dictionary)\n",
    "    \n",
    "    return data\n",
    "\n",
    "def save_src_trg_dataset(data, filename = 'data', folder_dir = ''):\n",
    "    fn = folder_dir + filename + '.jsonl'\n",
    "    with open(fn, 'w') as outfile:\n",
    "        for entry in data:\n",
    "            json.dump(entry, outfile)\n",
    "            outfile.write('\\n')\n",
    "\n",
    "def generate_and_save_dataset(data_text_column, filename= 'data', folder_dir= ''):\n",
    "    data = generate_src_trg_dataset(data_text_column)\n",
    "    save_src_trg_dataset(data, filename=filename, folder_dir=folder_dir)"
   ]
  },
  {
   "cell_type": "code",
   "execution_count": 10,
   "id": "8dd68604",
   "metadata": {},
   "outputs": [],
   "source": [
    "# with open('vocab_list.pickle', 'wb') as handle:\n",
    "#     pickle.dump(vocab.idx_word, handle)"
   ]
  },
  {
   "cell_type": "code",
   "execution_count": 11,
   "id": "b3dffb35",
   "metadata": {},
   "outputs": [
    {
     "data": {
      "application/vnd.jupyter.widget-view+json": {
       "model_id": "3955cd22529f4693a3592a8970f7d770",
       "version_major": 2,
       "version_minor": 0
      },
      "text/plain": [
       "tokenizer_config.json:   0%|          | 0.00/28.0 [00:00<?, ?B/s]"
      ]
     },
     "metadata": {},
     "output_type": "display_data"
    },
    {
     "data": {
      "application/vnd.jupyter.widget-view+json": {
       "model_id": "9770e03097a04cadbf02c69b707b3c6d",
       "version_major": 2,
       "version_minor": 0
      },
      "text/plain": [
       "vocab.txt:   0%|          | 0.00/232k [00:00<?, ?B/s]"
      ]
     },
     "metadata": {},
     "output_type": "display_data"
    },
    {
     "data": {
      "application/vnd.jupyter.widget-view+json": {
       "model_id": "7fdb45bc273244d6a38521e2fb4cba3f",
       "version_major": 2,
       "version_minor": 0
      },
      "text/plain": [
       "tokenizer.json:   0%|          | 0.00/466k [00:00<?, ?B/s]"
      ]
     },
     "metadata": {},
     "output_type": "display_data"
    },
    {
     "name": "stdout",
     "output_type": "stream",
     "text": [
      "\n",
      "\n",
      "\n"
     ]
    }
   ],
   "source": [
    "tokenizer_save_path = 'shakespeare-tokenizer-bert'\n",
    "shakespeare_data = ShakespeareData()"
   ]
  },
  {
   "cell_type": "code",
   "execution_count": 15,
   "id": "6f653c79",
   "metadata": {},
   "outputs": [
    {
     "data": {
      "text/html": [
       "<div>\n",
       "<style scoped>\n",
       "    .dataframe tbody tr th:only-of-type {\n",
       "        vertical-align: middle;\n",
       "    }\n",
       "\n",
       "    .dataframe tbody tr th {\n",
       "        vertical-align: top;\n",
       "    }\n",
       "\n",
       "    .dataframe thead th {\n",
       "        text-align: right;\n",
       "    }\n",
       "</style>\n",
       "<table border=\"1\" class=\"dataframe\">\n",
       "  <thead>\n",
       "    <tr style=\"text-align: right;\">\n",
       "      <th></th>\n",
       "      <th>ActSceneLine</th>\n",
       "      <th>Player</th>\n",
       "      <th>PlayerLine</th>\n",
       "      <th>text</th>\n",
       "    </tr>\n",
       "  </thead>\n",
       "  <tbody>\n",
       "    <tr>\n",
       "      <th>3</th>\n",
       "      <td>1.1.1</td>\n",
       "      <td>KING HENRY IV</td>\n",
       "      <td>So shaken as we are, so wan with care,</td>\n",
       "      <td>so shaken as we are, so wan with care</td>\n",
       "    </tr>\n",
       "    <tr>\n",
       "      <th>4</th>\n",
       "      <td>1.1.2</td>\n",
       "      <td>KING HENRY IV</td>\n",
       "      <td>Find we a time for frighted peace to pant,</td>\n",
       "      <td>find we a time for frighted peace to pant</td>\n",
       "    </tr>\n",
       "    <tr>\n",
       "      <th>5</th>\n",
       "      <td>1.1.3</td>\n",
       "      <td>KING HENRY IV</td>\n",
       "      <td>And breathe short-winded accents of new broils</td>\n",
       "      <td>and breathe short-winded accents of new broils</td>\n",
       "    </tr>\n",
       "    <tr>\n",
       "      <th>6</th>\n",
       "      <td>1.1.4</td>\n",
       "      <td>KING HENRY IV</td>\n",
       "      <td>To be commenced in strands afar remote.</td>\n",
       "      <td>to be commenced in strands afar remote &lt;EOS&gt;</td>\n",
       "    </tr>\n",
       "    <tr>\n",
       "      <th>7</th>\n",
       "      <td>1.1.5</td>\n",
       "      <td>KING HENRY IV</td>\n",
       "      <td>No more the thirsty entrance of this soil</td>\n",
       "      <td>no more the thirsty entrance of this soil</td>\n",
       "    </tr>\n",
       "  </tbody>\n",
       "</table>\n",
       "</div>"
      ],
      "text/plain": [
       "  ActSceneLine         Player                                      PlayerLine  \\\n",
       "3        1.1.1  KING HENRY IV          So shaken as we are, so wan with care,   \n",
       "4        1.1.2  KING HENRY IV      Find we a time for frighted peace to pant,   \n",
       "5        1.1.3  KING HENRY IV  And breathe short-winded accents of new broils   \n",
       "6        1.1.4  KING HENRY IV         To be commenced in strands afar remote.   \n",
       "7        1.1.5  KING HENRY IV       No more the thirsty entrance of this soil   \n",
       "\n",
       "                                             text  \n",
       "3           so shaken as we are, so wan with care  \n",
       "4       find we a time for frighted peace to pant  \n",
       "5  and breathe short-winded accents of new broils  \n",
       "6    to be commenced in strands afar remote <EOS>  \n",
       "7       no more the thirsty entrance of this soil  "
      ]
     },
     "execution_count": 15,
     "metadata": {},
     "output_type": "execute_result"
    }
   ],
   "source": [
    "shakespeare_data.data.head()"
   ]
  },
  {
   "cell_type": "markdown",
   "id": "c4671ef0-de7c-4771-9e09-c651d658c91d",
   "metadata": {},
   "source": [
    "### Preparing train/test Shakespeare data"
   ]
  },
  {
   "cell_type": "code",
   "execution_count": 31,
   "id": "dbbed31d-794c-4d82-9580-faa20fb0a846",
   "metadata": {},
   "outputs": [],
   "source": [
    "processed_data = generate_src_trg_dataset(shakespeare_data.data['text'])\n",
    "random.shuffle(processed_data) # in-place shuffle"
   ]
  },
  {
   "cell_type": "code",
   "execution_count": 32,
   "id": "f0419bde-52f6-489b-8ad3-87a971166c32",
   "metadata": {},
   "outputs": [],
   "source": [
    "n = len(processed_data)"
   ]
  },
  {
   "cell_type": "code",
   "execution_count": 33,
   "id": "becf3dc3-9283-47b4-99c3-2e43f9a9d666",
   "metadata": {},
   "outputs": [],
   "source": [
    "cutoff = int(n*0.9)\n",
    "train, test = processed_data[:cutoff], processed_data[cutoff:]"
   ]
  },
  {
   "cell_type": "code",
   "execution_count": 34,
   "id": "f3906803-830c-46e1-9f7b-e43543c70e0e",
   "metadata": {},
   "outputs": [],
   "source": [
    "save_src_trg_dataset(train, filename= 'train', folder_dir= 'data/shakespeare/')"
   ]
  },
  {
   "cell_type": "code",
   "execution_count": 35,
   "id": "30838a59-aa89-4a49-96f5-8722503b9abb",
   "metadata": {},
   "outputs": [],
   "source": [
    "save_src_trg_dataset(test, filename= 'test', folder_dir= 'data/shakespeare/')"
   ]
  },
  {
   "cell_type": "code",
   "execution_count": 16,
   "id": "534b0a97",
   "metadata": {},
   "outputs": [
    {
     "name": "stdout",
     "output_type": "stream",
     "text": [
      "Tokenizer contains vocab size 30474\n"
     ]
    },
    {
     "data": {
      "text/plain": [
       "['so', 'shaken', 'as', 'we', 'are', ',', 'so', 'wan', 'with', 'care']"
      ]
     },
     "execution_count": 16,
     "metadata": {},
     "output_type": "execute_result"
    }
   ],
   "source": [
    "# Just for sanity check\n",
    "print(f'Tokenizer contains vocab size {shakespeare_data.tokenizer.vocab_size}')\n",
    "shakespeare_data.tokenizer.tokenize(shakespeare_data.data.text.iloc[0])"
   ]
  },
  {
   "cell_type": "code",
   "execution_count": 17,
   "id": "0dcc607e",
   "metadata": {},
   "outputs": [
    {
     "data": {
      "text/plain": [
       "True"
      ]
     },
     "execution_count": 17,
     "metadata": {},
     "output_type": "execute_result"
    }
   ],
   "source": [
    "isinstance(shakespeare_data.tokenizer, PreTrainedTokenizerFast)"
   ]
  },
  {
   "cell_type": "code",
   "execution_count": 18,
   "id": "e7e99b66-35db-4e17-8738-e50bb940d826",
   "metadata": {},
   "outputs": [
    {
     "data": {
      "text/plain": [
       "PreTrainedTokenizerFast(name_or_path='bert-base-uncased', vocab_size=30474, model_max_len=512, is_fast=True, padding_side='right', truncation_side='right', special_tokens={'unk_token': '[UNK]', 'sep_token': '[SEP]', 'pad_token': '[PAD]', 'cls_token': '[CLS]', 'mask_token': '[MASK]'})"
      ]
     },
     "execution_count": 18,
     "metadata": {},
     "output_type": "execute_result"
    }
   ],
   "source": [
    "shakespeare_data.tokenizer"
   ]
  },
  {
   "cell_type": "code",
   "execution_count": 19,
   "id": "113efd31",
   "metadata": {},
   "outputs": [
    {
     "data": {
      "text/plain": [
       "('shakespeare-tokenizer-bert/tokenizer_config.json',\n",
       " 'shakespeare-tokenizer-bert/special_tokens_map.json',\n",
       " 'shakespeare-tokenizer-bert/vocab.txt',\n",
       " 'shakespeare-tokenizer-bert/added_tokens.json',\n",
       " 'shakespeare-tokenizer-bert/tokenizer.json')"
      ]
     },
     "execution_count": 19,
     "metadata": {},
     "output_type": "execute_result"
    }
   ],
   "source": [
    "# Save tokenizer\n",
    "shakespeare_data.tokenizer.save_pretrained(\"shakespeare-tokenizer-bert\")"
   ]
  },
  {
   "cell_type": "markdown",
   "id": "39a21b6c-7849-48a4-9494-4cf04e61d616",
   "metadata": {},
   "source": [
    "# Preparing Shakespeare train/test dataset"
   ]
  },
  {
   "cell_type": "code",
   "execution_count": 21,
   "id": "4702802e-d10d-40b7-80a0-bec5ead68c4a",
   "metadata": {},
   "outputs": [],
   "source": [
    "ss_all_data_dir='data/all.jsonl'"
   ]
  },
  {
   "cell_type": "code",
   "execution_count": 22,
   "id": "e79c1d9b-a1fe-4158-b504-9785123c5944",
   "metadata": {},
   "outputs": [],
   "source": [
    "ss_all_data = []\n",
    "with open(ss_all_data_dir, 'r') as f_reader:\n",
    "    for row in f_reader:\n",
    "        ss_all_data.append(json.loads(row))"
   ]
  },
  {
   "cell_type": "code",
   "execution_count": 23,
   "id": "6b9feb99-94a9-4227-9654-bb25ca71f303",
   "metadata": {},
   "outputs": [],
   "source": [
    "random.shuffle(ss_all_data)"
   ]
  },
  {
   "cell_type": "code",
   "execution_count": 27,
   "id": "f29f4f77-bda2-4659-bb21-9309fd5ce88e",
   "metadata": {
    "scrolled": true,
    "tags": []
   },
   "outputs": [],
   "source": [
    "ss_train_data = ss_all_data[:-20]\n",
    "ss_test_data = ss_all_data[-20:]"
   ]
  },
  {
   "cell_type": "code",
   "execution_count": 28,
   "id": "747273fc-9776-4b9a-bcc6-8da35db802e4",
   "metadata": {},
   "outputs": [
    {
     "data": {
      "text/plain": [
       "(20, 110814)"
      ]
     },
     "execution_count": 28,
     "metadata": {},
     "output_type": "execute_result"
    }
   ],
   "source": [
    "len(ss_test_data), len(ss_train_data)"
   ]
  },
  {
   "cell_type": "code",
   "execution_count": 29,
   "id": "a267a238-b9c7-46d4-b2f3-f5dbc15ba598",
   "metadata": {},
   "outputs": [],
   "source": [
    "save_src_trg_dataset(ss_train_data, filename= 'train', folder_dir= 'data/')"
   ]
  },
  {
   "cell_type": "code",
   "execution_count": 31,
   "id": "675aa32d-86c6-471e-b59c-409b482e13dc",
   "metadata": {},
   "outputs": [],
   "source": [
    "save_src_trg_dataset(ss_test_data, filename= 'test', folder_dir= 'data/')"
   ]
  },
  {
   "cell_type": "markdown",
   "id": "ceaefc9b-a646-4792-ad97-8b7113e8c4b5",
   "metadata": {},
   "source": [
    "# Preparing combined dataset (Commonsense Dialogue & Shakespeare)"
   ]
  },
  {
   "cell_type": "code",
   "execution_count": 60,
   "id": "1a36a0f8-9b33-4f07-b467-3585c48942e4",
   "metadata": {},
   "outputs": [],
   "source": [
    "cc_train_data_dir='data/commonsense/train.jsonl'\n",
    "ss_train_data_dir='data/shakespeare/train.jsonl'\n",
    "cc_test_data_dir='data/commonsense/test.jsonl'\n",
    "ss_test_data_dir='data/shakespeare/test.jsonl'"
   ]
  },
  {
   "cell_type": "code",
   "execution_count": 47,
   "id": "eb4c27fa-d8f5-4aff-b3ed-5307a35cced5",
   "metadata": {},
   "outputs": [],
   "source": [
    "cc_train_data = []\n",
    "with open(cc_train_data_dir, 'r') as f_reader:\n",
    "    for row in f_reader:\n",
    "        cc_train_data.append(json.loads(row))"
   ]
  },
  {
   "cell_type": "code",
   "execution_count": 61,
   "id": "22b8a81e-9d34-4145-8157-0cc9a402742f",
   "metadata": {},
   "outputs": [],
   "source": [
    "cc_test_data = []\n",
    "with open(cc_test_data_dir, 'r') as f_reader:\n",
    "    for row in f_reader:\n",
    "        cc_test_data.append(json.loads(row))"
   ]
  },
  {
   "cell_type": "code",
   "execution_count": 48,
   "id": "9d9008e5-66d1-48f2-9ea2-ad38267a4fec",
   "metadata": {},
   "outputs": [],
   "source": [
    "ss_train_data = []\n",
    "with open(ss_train_data_dir, 'r') as f_reader:\n",
    "    for row in f_reader:\n",
    "        ss_train_data.append(json.loads(row))"
   ]
  },
  {
   "cell_type": "code",
   "execution_count": 62,
   "id": "6a514b02-efba-425f-96ec-5d6be3ad23b9",
   "metadata": {},
   "outputs": [],
   "source": [
    "ss_test_data = []\n",
    "with open(ss_test_data_dir, 'r') as f_reader:\n",
    "    for row in f_reader:\n",
    "        ss_test_data.append(json.loads(row))"
   ]
  },
  {
   "cell_type": "code",
   "execution_count": 63,
   "id": "93af9e29-a656-44c6-ac95-3a58511b5e2c",
   "metadata": {},
   "outputs": [
    {
     "data": {
      "text/plain": [
       "(3382137, 99754, 10000, 11084)"
      ]
     },
     "execution_count": 63,
     "metadata": {},
     "output_type": "execute_result"
    }
   ],
   "source": [
    "len(cc_train_data), len(ss_train_data), len(cc_test_data), len(ss_test_data)"
   ]
  },
  {
   "cell_type": "code",
   "execution_count": 50,
   "id": "c1e5fb25-89eb-43a6-9c80-d27732db35e1",
   "metadata": {},
   "outputs": [],
   "source": [
    "random.shuffle(cc_train_data)"
   ]
  },
  {
   "cell_type": "code",
   "execution_count": 66,
   "id": "0365aca5-b03a-48ee-a3aa-d49e82c5d0bc",
   "metadata": {},
   "outputs": [],
   "source": [
    "combined_train_data = cc_train_data[:1_000_000] + ss_train_data\n",
    "combined_test_data = cc_test_data + ss_test_data"
   ]
  },
  {
   "cell_type": "code",
   "execution_count": 67,
   "id": "2e78720d-44bb-484e-8772-407a93371af7",
   "metadata": {},
   "outputs": [
    {
     "data": {
      "text/plain": [
       "(1099754, 21084)"
      ]
     },
     "execution_count": 67,
     "metadata": {},
     "output_type": "execute_result"
    }
   ],
   "source": [
    "random.shuffle(combined_train_data)\n",
    "random.shuffle(combined_test_data)\n",
    "len(combined_train_data), len(combined_test_data)"
   ]
  },
  {
   "cell_type": "code",
   "execution_count": 68,
   "id": "3558649f-d080-483d-83ac-cdf341f3b9b3",
   "metadata": {},
   "outputs": [],
   "source": [
    "save_src_trg_dataset(combined_test_data, filename= 'test', folder_dir= 'data/combined/')"
   ]
  },
  {
   "cell_type": "code",
   "execution_count": 69,
   "id": "fcd03953-748f-46ed-81f6-14c122e1e194",
   "metadata": {},
   "outputs": [],
   "source": [
    "save_src_trg_dataset(combined_train_data, filename= 'train', folder_dir= 'data/combined/')"
   ]
  },
  {
   "cell_type": "markdown",
   "id": "2bc9b1cc-7057-438b-b406-ccc446cd7d7c",
   "metadata": {},
   "source": [
    "# Preparing tokenizer"
   ]
  },
  {
   "cell_type": "code",
   "execution_count": 70,
   "id": "8f8df37b-9c70-4310-ada2-73bd76b14d2d",
   "metadata": {},
   "outputs": [],
   "source": [
    "tokenizer_config = 'bert-base-uncased'"
   ]
  },
  {
   "cell_type": "code",
   "execution_count": 71,
   "id": "55a6f00b-5853-49a6-ad6e-ddbf35886f94",
   "metadata": {},
   "outputs": [],
   "source": [
    "tokenizer = AutoTokenizer.from_pretrained(tokenizer_config)"
   ]
  },
  {
   "cell_type": "code",
   "execution_count": 75,
   "id": "33e6943d-8d4b-42d2-8ee8-b28cb1884b05",
   "metadata": {},
   "outputs": [],
   "source": [
    "ss_tokenizer = BertTokenizerFast('shakespeare-tokenizer-bert/vocab.txt')"
   ]
  },
  {
   "cell_type": "code",
   "execution_count": 81,
   "id": "db4c5725-f595-440b-91d0-f0bd7d54c9ac",
   "metadata": {},
   "outputs": [],
   "source": [
    "new_tokens = set(ss_tokenizer.vocab.keys())-set(tokenizer.vocab.keys())"
   ]
  },
  {
   "cell_type": "code",
   "execution_count": 82,
   "id": "28d6e85d-8f07-4c47-acab-d41ad96db801",
   "metadata": {},
   "outputs": [
    {
     "data": {
      "text/plain": [
       "19044"
      ]
     },
     "execution_count": 82,
     "metadata": {},
     "output_type": "execute_result"
    }
   ],
   "source": [
    "len(new_tokens) # these tokens will be added to bert tokenizer"
   ]
  },
  {
   "cell_type": "code",
   "execution_count": null,
   "id": "ee581bec-460f-43f4-a542-0eb26d30821a",
   "metadata": {},
   "outputs": [],
   "source": []
  }
 ],
 "metadata": {
  "kernelspec": {
   "display_name": "venv",
   "language": "python",
   "name": "venv"
  },
  "language_info": {
   "codemirror_mode": {
    "name": "ipython",
    "version": 3
   },
   "file_extension": ".py",
   "mimetype": "text/x-python",
   "name": "python",
   "nbconvert_exporter": "python",
   "pygments_lexer": "ipython3",
   "version": "3.9.5"
  }
 },
 "nbformat": 4,
 "nbformat_minor": 5
}
