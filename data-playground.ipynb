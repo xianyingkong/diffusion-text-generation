{
 "cells": [
  {
   "cell_type": "markdown",
   "id": "1d20dc24-0af6-48a5-a45d-c2788e414abc",
   "metadata": {},
   "source": [
    "# Purpose of this notebook:\n",
    "\n",
    "- ETL for our initial Shakespeare dataset\n",
    "- Creation of src and target examples for "
   ]
  },
  {
   "cell_type": "code",
   "execution_count": 1,
   "id": "10efb8cf",
   "metadata": {},
   "outputs": [],
   "source": [
    "import pandas as pd\n",
    "import numpy as np\n",
    "import pickle\n",
    "import os\n",
    "from transformers import AutoTokenizer, PreTrainedTokenizerFast, BertTokenizerFast\n",
    "import json\n",
    "import random\n",
    "import re"
   ]
  },
  {
   "cell_type": "code",
   "execution_count": 2,
   "id": "2a9a01d2-894f-4bc4-ab91-183cbd851842",
   "metadata": {},
   "outputs": [],
   "source": [
    "random.seed(102)"
   ]
  },
  {
   "cell_type": "markdown",
   "id": "6b0b8c7e",
   "metadata": {},
   "source": [
    "# Creating tokenizer"
   ]
  },
  {
   "cell_type": "code",
   "execution_count": 3,
   "id": "d75ef9c1",
   "metadata": {},
   "outputs": [],
   "source": [
    "with open(\"./data/source/shakespeare_tokenize.txt\", 'r') as file:\n",
    "    ss = file.read()"
   ]
  },
  {
   "cell_type": "code",
   "execution_count": 4,
   "id": "e4f25f36",
   "metadata": {},
   "outputs": [],
   "source": [
    "ss = str(ss).lower().replace('\\n\\n','\\n').replace('  ', ' ').replace(';', '').replace(':', '').replace('[', '').replace(']', '').replace('  ', ' ')"
   ]
  },
  {
   "cell_type": "code",
   "execution_count": 5,
   "id": "53815ffd",
   "metadata": {
    "scrolled": true,
    "tags": []
   },
   "outputs": [
    {
     "data": {
      "text/plain": [
       "[\"a midsummer-night's dream\",\n",
       " 'now , fair hippolyta , our nuptial hour',\n",
       " 'draws on apace four happy days bring in',\n",
       " 'another moon but o ! methinks how slow',\n",
       " 'this old moon wanes she lingers my desires ,']"
      ]
     },
     "execution_count": 5,
     "metadata": {},
     "output_type": "execute_result"
    }
   ],
   "source": [
    "ss_list = ss.split('\\n')\n",
    "ss_list = [i.strip() for i in ss_list]\n",
    "ss_list[:5]"
   ]
  },
  {
   "cell_type": "code",
   "execution_count": 6,
   "id": "f2953a17",
   "metadata": {},
   "outputs": [
    {
     "name": "stdout",
     "output_type": "stream",
     "text": [
      "\n",
      "\n",
      "\n"
     ]
    },
    {
     "data": {
      "text/plain": [
       "30267"
      ]
     },
     "execution_count": 6,
     "metadata": {},
     "output_type": "execute_result"
    }
   ],
   "source": [
    "tokenizer = AutoTokenizer.from_pretrained('bert-base-uncased')\n",
    "tokenizer = tokenizer.train_new_from_iterator(iter(ss_list),32000)\n",
    "tokenizer.vocab_size"
   ]
  },
  {
   "cell_type": "code",
   "execution_count": 7,
   "id": "3a47498e",
   "metadata": {},
   "outputs": [
    {
     "data": {
      "text/plain": [
       "(['my',\n",
       "  'tongue',\n",
       "  'should',\n",
       "  'catch',\n",
       "  'your',\n",
       "  'tongue',\n",
       "  \"'\",\n",
       "  's',\n",
       "  'sweet',\n",
       "  'melody',\n",
       "  '.'],\n",
       " ['demetrius', ',', 'i', \"'\", 'll', 'avouch', 'it', 'to', 'his', 'head', ','])"
      ]
     },
     "execution_count": 7,
     "metadata": {},
     "output_type": "execute_result"
    }
   ],
   "source": [
    "tokenizer.tokenize(\"my tongue should catch your tongue's sweet melody .\"), tokenizer.tokenize(\"demetrius , i'll avouch it to his head ,\")"
   ]
  },
  {
   "cell_type": "code",
   "execution_count": 8,
   "id": "5a36406a",
   "metadata": {},
   "outputs": [
    {
     "data": {
      "text/plain": [
       "('shakespeare-tokenizer-bert/plays\\\\tokenizer_config.json',\n",
       " 'shakespeare-tokenizer-bert/plays\\\\special_tokens_map.json',\n",
       " 'shakespeare-tokenizer-bert/plays\\\\vocab.txt',\n",
       " 'shakespeare-tokenizer-bert/plays\\\\added_tokens.json',\n",
       " 'shakespeare-tokenizer-bert/plays\\\\tokenizer.json')"
      ]
     },
     "execution_count": 8,
     "metadata": {},
     "output_type": "execute_result"
    }
   ],
   "source": [
    "tokenizer_save_path = 'shakespeare-tokenizer-bert/plays'\n",
    "tokenizer.save_pretrained(tokenizer_save_path)"
   ]
  },
  {
   "cell_type": "markdown",
   "id": "8866fb8b-f69f-46cc-9410-3b78fb0ff50c",
   "metadata": {},
   "source": [
    "# Exploratory"
   ]
  },
  {
   "cell_type": "code",
   "execution_count": 12,
   "id": "8eae23cd",
   "metadata": {},
   "outputs": [],
   "source": [
    "df = pd.read_csv('data/source/shakespeare.csv')"
   ]
  },
  {
   "cell_type": "code",
   "execution_count": 13,
   "id": "93894566",
   "metadata": {},
   "outputs": [
    {
     "data": {
      "text/html": [
       "<div>\n",
       "<style scoped>\n",
       "    .dataframe tbody tr th:only-of-type {\n",
       "        vertical-align: middle;\n",
       "    }\n",
       "\n",
       "    .dataframe tbody tr th {\n",
       "        vertical-align: top;\n",
       "    }\n",
       "\n",
       "    .dataframe thead th {\n",
       "        text-align: right;\n",
       "    }\n",
       "</style>\n",
       "<table border=\"1\" class=\"dataframe\">\n",
       "  <thead>\n",
       "    <tr style=\"text-align: right;\">\n",
       "      <th></th>\n",
       "      <th>Dataline</th>\n",
       "      <th>Play</th>\n",
       "      <th>PlayerLinenumber</th>\n",
       "      <th>ActSceneLine</th>\n",
       "      <th>Player</th>\n",
       "      <th>PlayerLine</th>\n",
       "    </tr>\n",
       "  </thead>\n",
       "  <tbody>\n",
       "    <tr>\n",
       "      <th>0</th>\n",
       "      <td>1</td>\n",
       "      <td>Henry IV</td>\n",
       "      <td>NaN</td>\n",
       "      <td>NaN</td>\n",
       "      <td>NaN</td>\n",
       "      <td>ACT I</td>\n",
       "    </tr>\n",
       "    <tr>\n",
       "      <th>1</th>\n",
       "      <td>2</td>\n",
       "      <td>Henry IV</td>\n",
       "      <td>NaN</td>\n",
       "      <td>NaN</td>\n",
       "      <td>NaN</td>\n",
       "      <td>SCENE I. London. The palace.</td>\n",
       "    </tr>\n",
       "    <tr>\n",
       "      <th>2</th>\n",
       "      <td>3</td>\n",
       "      <td>Henry IV</td>\n",
       "      <td>NaN</td>\n",
       "      <td>NaN</td>\n",
       "      <td>NaN</td>\n",
       "      <td>Enter KING HENRY, LORD JOHN OF LANCASTER, the ...</td>\n",
       "    </tr>\n",
       "    <tr>\n",
       "      <th>3</th>\n",
       "      <td>4</td>\n",
       "      <td>Henry IV</td>\n",
       "      <td>1.0</td>\n",
       "      <td>1.1.1</td>\n",
       "      <td>KING HENRY IV</td>\n",
       "      <td>So shaken as we are, so wan with care,</td>\n",
       "    </tr>\n",
       "    <tr>\n",
       "      <th>4</th>\n",
       "      <td>5</td>\n",
       "      <td>Henry IV</td>\n",
       "      <td>1.0</td>\n",
       "      <td>1.1.2</td>\n",
       "      <td>KING HENRY IV</td>\n",
       "      <td>Find we a time for frighted peace to pant,</td>\n",
       "    </tr>\n",
       "  </tbody>\n",
       "</table>\n",
       "</div>"
      ],
      "text/plain": [
       "   Dataline      Play  PlayerLinenumber ActSceneLine         Player  \\\n",
       "0         1  Henry IV               NaN          NaN            NaN   \n",
       "1         2  Henry IV               NaN          NaN            NaN   \n",
       "2         3  Henry IV               NaN          NaN            NaN   \n",
       "3         4  Henry IV               1.0        1.1.1  KING HENRY IV   \n",
       "4         5  Henry IV               1.0        1.1.2  KING HENRY IV   \n",
       "\n",
       "                                          PlayerLine  \n",
       "0                                              ACT I  \n",
       "1                       SCENE I. London. The palace.  \n",
       "2  Enter KING HENRY, LORD JOHN OF LANCASTER, the ...  \n",
       "3             So shaken as we are, so wan with care,  \n",
       "4         Find we a time for frighted peace to pant,  "
      ]
     },
     "execution_count": 13,
     "metadata": {},
     "output_type": "execute_result"
    }
   ],
   "source": [
    "df.head(5)"
   ]
  },
  {
   "cell_type": "code",
   "execution_count": 14,
   "id": "afcc48c4-6697-41e9-bd4e-391f5f074912",
   "metadata": {},
   "outputs": [],
   "source": [
    "# df['Play'].str.lower().unique()"
   ]
  },
  {
   "cell_type": "code",
   "execution_count": 15,
   "id": "34af8bd7-4263-471f-8aeb-20bd2d1dac87",
   "metadata": {},
   "outputs": [],
   "source": [
    "# df['Player'].str.lower().unique()"
   ]
  },
  {
   "cell_type": "code",
   "execution_count": 16,
   "id": "b79b708c-c7e0-400f-a338-d9dfebc262b7",
   "metadata": {},
   "outputs": [],
   "source": [
    "# french characters: alencon, alice, king of france, katharine, dauphin\n",
    "# french speaking characters"
   ]
  },
  {
   "cell_type": "code",
   "execution_count": 17,
   "id": "956711ee-a133-4f3b-a440-902196514595",
   "metadata": {},
   "outputs": [],
   "source": [
    "# df[df['Player'].str.lower() == 'katharine']\n",
    "# maybe could remove the whole of Henry V since that is where most french lines are found"
   ]
  },
  {
   "cell_type": "code",
   "execution_count": 18,
   "id": "70a2de6a",
   "metadata": {},
   "outputs": [
    {
     "data": {
      "text/html": [
       "<div>\n",
       "<style scoped>\n",
       "    .dataframe tbody tr th:only-of-type {\n",
       "        vertical-align: middle;\n",
       "    }\n",
       "\n",
       "    .dataframe tbody tr th {\n",
       "        vertical-align: top;\n",
       "    }\n",
       "\n",
       "    .dataframe thead th {\n",
       "        text-align: right;\n",
       "    }\n",
       "</style>\n",
       "<table border=\"1\" class=\"dataframe\">\n",
       "  <thead>\n",
       "    <tr style=\"text-align: right;\">\n",
       "      <th></th>\n",
       "      <th>Play</th>\n",
       "      <th>PlayerLinenumber</th>\n",
       "      <th>Player</th>\n",
       "      <th>PlayerLine</th>\n",
       "    </tr>\n",
       "  </thead>\n",
       "  <tbody>\n",
       "    <tr>\n",
       "      <th>3</th>\n",
       "      <td>Henry IV</td>\n",
       "      <td>1.0</td>\n",
       "      <td>KING HENRY IV</td>\n",
       "      <td>So shaken as we are, so wan with care,</td>\n",
       "    </tr>\n",
       "    <tr>\n",
       "      <th>4</th>\n",
       "      <td>Henry IV</td>\n",
       "      <td>1.0</td>\n",
       "      <td>KING HENRY IV</td>\n",
       "      <td>Find we a time for frighted peace to pant,</td>\n",
       "    </tr>\n",
       "    <tr>\n",
       "      <th>5</th>\n",
       "      <td>Henry IV</td>\n",
       "      <td>1.0</td>\n",
       "      <td>KING HENRY IV</td>\n",
       "      <td>And breathe short-winded accents of new broils</td>\n",
       "    </tr>\n",
       "    <tr>\n",
       "      <th>6</th>\n",
       "      <td>Henry IV</td>\n",
       "      <td>1.0</td>\n",
       "      <td>KING HENRY IV</td>\n",
       "      <td>To be commenced in strands afar remote.</td>\n",
       "    </tr>\n",
       "    <tr>\n",
       "      <th>7</th>\n",
       "      <td>Henry IV</td>\n",
       "      <td>1.0</td>\n",
       "      <td>KING HENRY IV</td>\n",
       "      <td>No more the thirsty entrance of this soil</td>\n",
       "    </tr>\n",
       "  </tbody>\n",
       "</table>\n",
       "</div>"
      ],
      "text/plain": [
       "       Play  PlayerLinenumber         Player  \\\n",
       "3  Henry IV               1.0  KING HENRY IV   \n",
       "4  Henry IV               1.0  KING HENRY IV   \n",
       "5  Henry IV               1.0  KING HENRY IV   \n",
       "6  Henry IV               1.0  KING HENRY IV   \n",
       "7  Henry IV               1.0  KING HENRY IV   \n",
       "\n",
       "                                       PlayerLine  \n",
       "3          So shaken as we are, so wan with care,  \n",
       "4      Find we a time for frighted peace to pant,  \n",
       "5  And breathe short-winded accents of new broils  \n",
       "6         To be commenced in strands afar remote.  \n",
       "7       No more the thirsty entrance of this soil  "
      ]
     },
     "execution_count": 18,
     "metadata": {},
     "output_type": "execute_result"
    }
   ],
   "source": [
    "# Remove most contextual lines (act numbers, leaving, end, etc)\n",
    "remove = df[(df['Player'].notna()) & (df[\"PlayerLine\"]!='Exeunt')]\n",
    "data = remove[['Play', 'PlayerLinenumber', \"Player\", \"PlayerLine\"]]\n",
    "data.head(5)"
   ]
  },
  {
   "cell_type": "markdown",
   "id": "21c740f7-a4a3-4a21-b31e-30923529f64c",
   "metadata": {},
   "source": [
    "# Preprocessing Shakespeare"
   ]
  },
  {
   "cell_type": "code",
   "execution_count": 30,
   "id": "75565b17",
   "metadata": {},
   "outputs": [],
   "source": [
    "class ShakespeareData:\n",
    "    \"\"\"Creates a cleaned up version of the shakespeare dataset\"\"\"\n",
    "    def __init__(self, filepath='data/source/shakespeare.csv'):        \n",
    "        data = pd.read_csv(filepath)\n",
    "        self.data = self.clean(data) \n",
    "            \n",
    "    def clean(self, data):\n",
    "        repl = {\n",
    "            '@\\w*': ' ', \n",
    "            '&amp;' : 'and',\n",
    "            '&#\\w*;': ' ', \n",
    "            '\\\\n\\.':' ' ,\n",
    "            '\\\\n':' ',\n",
    "            \"\\.{2,}\": '.', \n",
    "            \"!{2,}\":'!', \n",
    "            \"\\?{2,}\":'?', \n",
    "            '_':\" \",\n",
    "            ' +': ' ', \n",
    "            '\\-{2,}': ' ',\n",
    "            ':': '',\n",
    "            ';': '',\n",
    "            '\\[': '',\n",
    "            '\\]': '',\n",
    "            '  ': ' '\n",
    "            }\n",
    "\n",
    "        data = data[(data['Player'].notna()) & (data[\"PlayerLine\"]!='Exeunt') & (data[\"Play\"]!='Henry V') & (data['ActSceneLine'].notna())]\n",
    "        data = data[['ActSceneLine', \"Player\", \"PlayerLine\", \"Play\", \"PlayerLinenumber\"]]\n",
    "        data['Player'] = data['Player'].str.lower()\n",
    "        data['ActScene'] = data['ActSceneLine'].apply(extract_before_second_full_stop)\n",
    "        cleaned = data['PlayerLine'].apply(lambda x: x.strip().lower())\n",
    "        cleaned = cleaned.replace(repl, regex=True)\n",
    "        cleaned_data = data.assign(text = cleaned)\n",
    "        return cleaned_data\n",
    "\n",
    "def extract_before_second_full_stop(string):\n",
    "    \"\"\" Finds the act number\"\"\"\n",
    "    index = string.find('.', string.find('.') + 1)  # Find index of second full stop\n",
    "    if index != -1:\n",
    "        return string[:index]\n",
    "    else:\n",
    "        return string"
   ]
  },
  {
   "cell_type": "code",
   "execution_count": 31,
   "id": "da7308df-27a4-4321-9b91-2d9f9e4bd25b",
   "metadata": {},
   "outputs": [],
   "source": [
    "def generate_src_trg_dataset(text_col):\n",
    "    data = []\n",
    "    \n",
    "    for i in range(len(text_col)-1):\n",
    "        dictionary = {}\n",
    "        dictionary[\"src\"] = text_col.iloc[i]\n",
    "        dictionary[\"trg\"] = text_col.iloc[i+1]\n",
    "        data.append(dictionary)\n",
    "\n",
    "#     for i in range(len(text_col)-5):\n",
    "#         dictionary = {}\n",
    "#         dictionary[\"src\"] = (text_col.iloc[i] + \" \" + text_col.iloc[i+1] + \" \" + text_col.iloc[i+2]).strip()\n",
    "#         dictionary[\"trg\"] = (text_col.iloc[i+3] + \" \" + text_col.iloc[i+4] + \" \" + text_col.iloc[i+5]).strip()\n",
    "#         data.append(dictionary)\n",
    "    \n",
    "    return data\n",
    "\n",
    "def save_src_trg_dataset(data, filename = 'data', folder_dir = ''):\n",
    "    fn = folder_dir + filename + '.jsonl'\n",
    "    if not os.path.exists(folder_dir):\n",
    "        os.mkdir(folder_dir)\n",
    "    with open(fn, 'w') as outfile:\n",
    "        for entry in data:\n",
    "            json.dump(entry, outfile)\n",
    "            outfile.write('\\n')\n",
    "\n",
    "def generate_and_save_dataset(data_text_column, filename= 'data', folder_dir= ''):\n",
    "    data = generate_src_trg_dataset(data_text_column)\n",
    "    \n",
    "    save_src_trg_dataset(data, filename=filename, folder_dir=folder_dir)"
   ]
  },
  {
   "cell_type": "code",
   "execution_count": 32,
   "id": "8dd68604",
   "metadata": {},
   "outputs": [],
   "source": [
    "# with open('vocab_list.pickle', 'wb') as handle:\n",
    "#     pickle.dump(vocab.idx_word, handle)"
   ]
  },
  {
   "cell_type": "code",
   "execution_count": 33,
   "id": "b3dffb35",
   "metadata": {},
   "outputs": [],
   "source": [
    "shakespeare_data = ShakespeareData()"
   ]
  },
  {
   "cell_type": "code",
   "execution_count": 34,
   "id": "6f653c79",
   "metadata": {},
   "outputs": [
    {
     "data": {
      "text/html": [
       "<div>\n",
       "<style scoped>\n",
       "    .dataframe tbody tr th:only-of-type {\n",
       "        vertical-align: middle;\n",
       "    }\n",
       "\n",
       "    .dataframe tbody tr th {\n",
       "        vertical-align: top;\n",
       "    }\n",
       "\n",
       "    .dataframe thead th {\n",
       "        text-align: right;\n",
       "    }\n",
       "</style>\n",
       "<table border=\"1\" class=\"dataframe\">\n",
       "  <thead>\n",
       "    <tr style=\"text-align: right;\">\n",
       "      <th></th>\n",
       "      <th>ActSceneLine</th>\n",
       "      <th>Player</th>\n",
       "      <th>PlayerLine</th>\n",
       "      <th>Play</th>\n",
       "      <th>PlayerLinenumber</th>\n",
       "      <th>ActScene</th>\n",
       "      <th>text</th>\n",
       "    </tr>\n",
       "  </thead>\n",
       "  <tbody>\n",
       "    <tr>\n",
       "      <th>3</th>\n",
       "      <td>1.1.1</td>\n",
       "      <td>king henry iv</td>\n",
       "      <td>So shaken as we are, so wan with care,</td>\n",
       "      <td>Henry IV</td>\n",
       "      <td>1.0</td>\n",
       "      <td>1.1</td>\n",
       "      <td>so shaken as we are, so wan with care,</td>\n",
       "    </tr>\n",
       "    <tr>\n",
       "      <th>4</th>\n",
       "      <td>1.1.2</td>\n",
       "      <td>king henry iv</td>\n",
       "      <td>Find we a time for frighted peace to pant,</td>\n",
       "      <td>Henry IV</td>\n",
       "      <td>1.0</td>\n",
       "      <td>1.1</td>\n",
       "      <td>find we a time for frighted peace to pant,</td>\n",
       "    </tr>\n",
       "    <tr>\n",
       "      <th>5</th>\n",
       "      <td>1.1.3</td>\n",
       "      <td>king henry iv</td>\n",
       "      <td>And breathe short-winded accents of new broils</td>\n",
       "      <td>Henry IV</td>\n",
       "      <td>1.0</td>\n",
       "      <td>1.1</td>\n",
       "      <td>and breathe short-winded accents of new broils</td>\n",
       "    </tr>\n",
       "    <tr>\n",
       "      <th>6</th>\n",
       "      <td>1.1.4</td>\n",
       "      <td>king henry iv</td>\n",
       "      <td>To be commenced in strands afar remote.</td>\n",
       "      <td>Henry IV</td>\n",
       "      <td>1.0</td>\n",
       "      <td>1.1</td>\n",
       "      <td>to be commenced in strands afar remote.</td>\n",
       "    </tr>\n",
       "    <tr>\n",
       "      <th>7</th>\n",
       "      <td>1.1.5</td>\n",
       "      <td>king henry iv</td>\n",
       "      <td>No more the thirsty entrance of this soil</td>\n",
       "      <td>Henry IV</td>\n",
       "      <td>1.0</td>\n",
       "      <td>1.1</td>\n",
       "      <td>no more the thirsty entrance of this soil</td>\n",
       "    </tr>\n",
       "  </tbody>\n",
       "</table>\n",
       "</div>"
      ],
      "text/plain": [
       "  ActSceneLine         Player                                      PlayerLine  \\\n",
       "3        1.1.1  king henry iv          So shaken as we are, so wan with care,   \n",
       "4        1.1.2  king henry iv      Find we a time for frighted peace to pant,   \n",
       "5        1.1.3  king henry iv  And breathe short-winded accents of new broils   \n",
       "6        1.1.4  king henry iv         To be commenced in strands afar remote.   \n",
       "7        1.1.5  king henry iv       No more the thirsty entrance of this soil   \n",
       "\n",
       "       Play  PlayerLinenumber ActScene  \\\n",
       "3  Henry IV               1.0      1.1   \n",
       "4  Henry IV               1.0      1.1   \n",
       "5  Henry IV               1.0      1.1   \n",
       "6  Henry IV               1.0      1.1   \n",
       "7  Henry IV               1.0      1.1   \n",
       "\n",
       "                                             text  \n",
       "3          so shaken as we are, so wan with care,  \n",
       "4      find we a time for frighted peace to pant,  \n",
       "5  and breathe short-winded accents of new broils  \n",
       "6         to be commenced in strands afar remote.  \n",
       "7       no more the thirsty entrance of this soil  "
      ]
     },
     "execution_count": 34,
     "metadata": {},
     "output_type": "execute_result"
    }
   ],
   "source": [
    "shakespeare_data.data.head() # 107459 -> # 101919 after removing na in actsceneline"
   ]
  },
  {
   "cell_type": "code",
   "execution_count": 40,
   "id": "f0368d62-2a7a-4951-9cfb-9533f711de99",
   "metadata": {},
   "outputs": [
    {
     "data": {
      "text/html": [
       "<div>\n",
       "<style scoped>\n",
       "    .dataframe tbody tr th:only-of-type {\n",
       "        vertical-align: middle;\n",
       "    }\n",
       "\n",
       "    .dataframe tbody tr th {\n",
       "        vertical-align: top;\n",
       "    }\n",
       "\n",
       "    .dataframe thead th {\n",
       "        text-align: right;\n",
       "    }\n",
       "</style>\n",
       "<table border=\"1\" class=\"dataframe\">\n",
       "  <thead>\n",
       "    <tr style=\"text-align: right;\">\n",
       "      <th></th>\n",
       "      <th>ActSceneLine</th>\n",
       "      <th>Player</th>\n",
       "      <th>PlayerLine</th>\n",
       "      <th>Play</th>\n",
       "      <th>PlayerLinenumber</th>\n",
       "      <th>ActScene</th>\n",
       "      <th>text</th>\n",
       "    </tr>\n",
       "  </thead>\n",
       "  <tbody>\n",
       "    <tr>\n",
       "      <th>12663</th>\n",
       "      <td>1.1.1</td>\n",
       "      <td>countess</td>\n",
       "      <td>In delivering my son from me, I bury a second ...</td>\n",
       "      <td>Alls well that ends well</td>\n",
       "      <td>1.0</td>\n",
       "      <td>1.1</td>\n",
       "      <td>in delivering my son from me, i bury a second ...</td>\n",
       "    </tr>\n",
       "    <tr>\n",
       "      <th>12664</th>\n",
       "      <td>1.1.2</td>\n",
       "      <td>bertram</td>\n",
       "      <td>And I in going, madam, weep o'er my father's d...</td>\n",
       "      <td>Alls well that ends well</td>\n",
       "      <td>2.0</td>\n",
       "      <td>1.1</td>\n",
       "      <td>and i in going, madam, weep o'er my father's d...</td>\n",
       "    </tr>\n",
       "    <tr>\n",
       "      <th>12665</th>\n",
       "      <td>1.1.3</td>\n",
       "      <td>bertram</td>\n",
       "      <td>anew: but I must attend his majesty's command, to</td>\n",
       "      <td>Alls well that ends well</td>\n",
       "      <td>2.0</td>\n",
       "      <td>1.1</td>\n",
       "      <td>anew but i must attend his majesty's command, to</td>\n",
       "    </tr>\n",
       "    <tr>\n",
       "      <th>12666</th>\n",
       "      <td>1.1.4</td>\n",
       "      <td>bertram</td>\n",
       "      <td>whom I am now in ward, evermore in subjection.</td>\n",
       "      <td>Alls well that ends well</td>\n",
       "      <td>2.0</td>\n",
       "      <td>1.1</td>\n",
       "      <td>whom i am now in ward, evermore in subjection.</td>\n",
       "    </tr>\n",
       "    <tr>\n",
       "      <th>12667</th>\n",
       "      <td>1.1.5</td>\n",
       "      <td>lafeu</td>\n",
       "      <td>You shall find of the king a husband, madam, you,</td>\n",
       "      <td>Alls well that ends well</td>\n",
       "      <td>3.0</td>\n",
       "      <td>1.1</td>\n",
       "      <td>you shall find of the king a husband, madam, you,</td>\n",
       "    </tr>\n",
       "  </tbody>\n",
       "</table>\n",
       "</div>"
      ],
      "text/plain": [
       "      ActSceneLine    Player  \\\n",
       "12663        1.1.1  countess   \n",
       "12664        1.1.2   bertram   \n",
       "12665        1.1.3   bertram   \n",
       "12666        1.1.4   bertram   \n",
       "12667        1.1.5     lafeu   \n",
       "\n",
       "                                              PlayerLine  \\\n",
       "12663  In delivering my son from me, I bury a second ...   \n",
       "12664  And I in going, madam, weep o'er my father's d...   \n",
       "12665  anew: but I must attend his majesty's command, to   \n",
       "12666     whom I am now in ward, evermore in subjection.   \n",
       "12667  You shall find of the king a husband, madam, you,   \n",
       "\n",
       "                           Play  PlayerLinenumber ActScene  \\\n",
       "12663  Alls well that ends well               1.0      1.1   \n",
       "12664  Alls well that ends well               2.0      1.1   \n",
       "12665  Alls well that ends well               2.0      1.1   \n",
       "12666  Alls well that ends well               2.0      1.1   \n",
       "12667  Alls well that ends well               3.0      1.1   \n",
       "\n",
       "                                                    text  \n",
       "12663  in delivering my son from me, i bury a second ...  \n",
       "12664  and i in going, madam, weep o'er my father's d...  \n",
       "12665   anew but i must attend his majesty's command, to  \n",
       "12666     whom i am now in ward, evermore in subjection.  \n",
       "12667  you shall find of the king a husband, madam, you,  "
      ]
     },
     "execution_count": 40,
     "metadata": {},
     "output_type": "execute_result"
    }
   ],
   "source": [
    "comedies = ['As you like it', 'A Midsummer nights dream', 'Twelfth Night', 'Much Ado about nothing', 'Taming of the Shrew', 'A Comedy of Errors', 'Loves Labours Lost', 'Merchant of Venice', 'Measure for measure', 'Alls well that ends well']\n",
    "comedies_only = shakespeare_data.data[shakespeare_data.data['Play'].isin(comedies)]\n",
    "comedies_only.head()"
   ]
  },
  {
   "cell_type": "code",
   "execution_count": 36,
   "id": "a721ec00-dd89-4dfa-96dd-f9e77dc7bca6",
   "metadata": {},
   "outputs": [],
   "source": [
    "def split_long_lines(line, max_length=200):\n",
    "    # Split long lines in the data set in order to fit sequence length.\n",
    "    if len(line) <= max_length:\n",
    "        return [line]\n",
    "\n",
    "    # Find best line break area, if not, \n",
    "    match_punctuation = re.search(r'[\\.,;:!?>]\\s*', line[:max_length][::-1])\n",
    "    # match_word = re.search(r'\\s', line[:max_length][::-1])\n",
    "    if match_punctuation:\n",
    "        split_point = max_length-match_punctuation.start()\n",
    "#         elif match_word:\n",
    "#             split_point = max_length - match_word.start()\n",
    "    else:\n",
    "        split_point = max_length\n",
    "\n",
    "    # Split lines and recurse on unsplit part\n",
    "    return [line[:split_point].strip()] + split_long_lines(line[split_point:].strip(), max_length=max_length)\n",
    "    \n",
    "def remove_separator(lines):\n",
    "    return [i.replace(\">\", \"\").strip().replace(\"  \", \" \") for i in lines]"
   ]
  },
  {
   "cell_type": "code",
   "execution_count": 41,
   "id": "3a94b6c3-f55c-4b49-a763-1358afc8c26f",
   "metadata": {},
   "outputs": [],
   "source": [
    "# Aggregate character lines into a single line\n",
    "data_per_convo = (\n",
    "    shakespeare_data.data.groupby(['Play', 'Player', 'ActScene', 'PlayerLinenumber'],sort=False)['text']\n",
    "    .agg(lambda x: ' > '.join(x)).reset_index()\n",
    ")\n",
    "# Split long single actor lines into sequence length-ish length\n",
    "data_per_convo['text_processed']=data_per_convo['text'].apply(split_long_lines)\n",
    "data_per_convo['text_processed']=data_per_convo['text_processed'].apply(remove_separator)\n",
    "data_per_convo['text_processed'].iloc[0][:5]\n",
    "\n",
    "# Create processed data for each row\n",
    "data_per_convo = data_per_convo.explode('text_processed')"
   ]
  },
  {
   "cell_type": "code",
   "execution_count": 42,
   "id": "164ba1cf-266a-4689-b05b-426296d87073",
   "metadata": {},
   "outputs": [
    {
     "data": {
      "text/plain": [
       "0    king henry iv : so shaken as we are, so wan wi...\n",
       "0    king henry iv : no more the thirsty entrance o...\n",
       "0    king henry iv : of hostile paces those opposed...\n",
       "0    king henry iv : and furious close of civil but...\n",
       "0    king henry iv : like an ill-sheathed knife, no...\n",
       "Name: text_processed_with_player, dtype: object"
      ]
     },
     "execution_count": 42,
     "metadata": {},
     "output_type": "execute_result"
    }
   ],
   "source": [
    "data_per_convo['text_processed_with_player'] = data_per_convo['Player'] + \" : \" + data_per_convo['text_processed']\n",
    "data_per_convo['text_processed_with_player'].head()"
   ]
  },
  {
   "cell_type": "code",
   "execution_count": 43,
   "id": "4c1c2bc2-f64d-4c35-8ce1-09227653ed13",
   "metadata": {},
   "outputs": [],
   "source": [
    "all_plays = data_per_convo.Play.unique()"
   ]
  },
  {
   "cell_type": "code",
   "execution_count": 44,
   "id": "4cc22c3f-7794-4ad0-9e7c-9148837e66c3",
   "metadata": {},
   "outputs": [
    {
     "data": {
      "text/plain": [
       "array(['Henry IV', 'Henry VI Part 1', 'Henry VI Part 2',\n",
       "       'Henry VI Part 3', 'Alls well that ends well', 'As you like it',\n",
       "       'Antony and Cleopatra', 'A Comedy of Errors', 'Coriolanus',\n",
       "       'Cymbeline', 'Hamlet', 'Henry VIII', 'King John', 'Julius Caesar',\n",
       "       'King Lear', 'Loves Labours Lost', 'macbeth',\n",
       "       'Measure for measure', 'Merchant of Venice',\n",
       "       'Merry Wives of Windsor', 'A Midsummer nights dream',\n",
       "       'Much Ado about nothing', 'Othello', 'Pericles', 'Richard II',\n",
       "       'Richard III', 'Romeo and Juliet', 'Taming of the Shrew',\n",
       "       'The Tempest', 'Timon of Athens', 'Titus Andronicus',\n",
       "       'Troilus and Cressida', 'Twelfth Night', 'Two Gentlemen of Verona',\n",
       "       'A Winters Tale'], dtype=object)"
      ]
     },
     "execution_count": 44,
     "metadata": {},
     "output_type": "execute_result"
    }
   ],
   "source": [
    "all_plays"
   ]
  },
  {
   "cell_type": "code",
   "execution_count": 41,
   "id": "8692f89c-a95c-4cf9-bb3d-ce0eb611f681",
   "metadata": {},
   "outputs": [],
   "source": [
    "# Aggregate character lines into a single line\n",
    "data_per_convo_comedies = (\n",
    "    comedies_only.groupby(['Play', 'Player', 'ActScene', 'PlayerLinenumber'],sort=False)['text']\n",
    "    .agg(lambda x: ' > '.join(x)).reset_index()\n",
    ")\n",
    "# Split long single actor lines into sequence length-ish length\n",
    "data_per_convo_comedies['text_processed']=data_per_convo_comedies['text'].apply(split_long_lines)\n",
    "data_per_convo_comedies['text_processed']=data_per_convo_comedies['text_processed'].apply(remove_separator)\n",
    "data_per_convo_comedies['text_processed'].iloc[0][:5]\n",
    "\n",
    "# Create processed data for each row\n",
    "data_per_convo_comedies = data_per_convo_comedies.explode('text_processed')"
   ]
  },
  {
   "cell_type": "code",
   "execution_count": 44,
   "id": "3a56fa0b-dcaa-44af-9d77-e7c3626bc21f",
   "metadata": {},
   "outputs": [
    {
     "data": {
      "text/plain": [
       "0    countess : in delivering my son from me, i bur...\n",
       "1    bertram : and i in going, madam, weep o'er my ...\n",
       "2    lafeu : you shall find of the king a husband, ...\n",
       "2    lafeu : worthiness would stir it up where it w...\n",
       "3    countess : what hope is there of his majesty's...\n",
       "Name: text_processed_with_player, dtype: object"
      ]
     },
     "execution_count": 44,
     "metadata": {},
     "output_type": "execute_result"
    }
   ],
   "source": [
    "data_per_convo_comedies['text_processed_with_player'] = data_per_convo_comedies['Player'] + \" : \" + data_per_convo_comedies['text_processed']\n",
    "data_per_convo_comedies['text_processed_with_player'].head()"
   ]
  },
  {
   "cell_type": "markdown",
   "id": "c4671ef0-de7c-4771-9e09-c651d658c91d",
   "metadata": {},
   "source": [
    "### Preparing train/test Shakespeare data"
   ]
  },
  {
   "cell_type": "code",
   "execution_count": 54,
   "id": "c09414bf-bc6d-488a-8ff7-d5df38db1879",
   "metadata": {},
   "outputs": [],
   "source": [
    "processed_data = []\n",
    "for play in all_plays:\n",
    "    text_col = data_per_convo[data_per_convo['Play'] == play]['text_processed']\n",
    "#     text_col = data_per_convo[data_per_convo['Play'] == play]['text_processed_with_player']\n",
    "    processed_data += generate_src_trg_dataset(text_col)"
   ]
  },
  {
   "cell_type": "code",
   "execution_count": 56,
   "id": "bdb57958-4ae0-4b26-8d3f-92fda4128d10",
   "metadata": {},
   "outputs": [
    {
     "data": {
      "text/plain": [
       "28614    if you shall chance, camillo, to visit bohemia...\n",
       "28615    i think, this coming summer, the king of sicil...\n",
       "28616    wherein our entertainment shall shame us we wi...\n",
       "28617                                         beseech you,\n",
       "28618    verily, i speak it in the freedom of my knowle...\n",
       "                               ...                        \n",
       "29360    o, peace, paulina! thou shouldst a husband tak...\n",
       "29360    for i saw her, as i thought, dead, and have in...\n",
       "29360    and take her by the hand, whose worth and hone...\n",
       "29360    that e'er i put between your holy looks my ill...\n",
       "29360    lead us from hence, where we may leisurely eac...\n",
       "Name: text_processed, Length: 1154, dtype: object"
      ]
     },
     "execution_count": 56,
     "metadata": {},
     "output_type": "execute_result"
    }
   ],
   "source": [
    "text_col"
   ]
  },
  {
   "cell_type": "code",
   "execution_count": 57,
   "id": "5dde233e-31f8-4607-9d61-392cc6027b03",
   "metadata": {},
   "outputs": [
    {
     "data": {
      "text/plain": [
       "[{'src': 'so shaken as we are, so wan with care, find we a time for frighted peace to pant, and breathe short-winded accents of new broils to be commenced in strands afar remote.',\n",
       "  'trg': \"no more the thirsty entrance of this soil shall daub her lips with her own children's blood, nor more shall trenching war channel her fields, nor bruise her flowerets with the armed hoofs\"},\n",
       " {'src': \"no more the thirsty entrance of this soil shall daub her lips with her own children's blood, nor more shall trenching war channel her fields, nor bruise her flowerets with the armed hoofs\",\n",
       "  'trg': 'of hostile paces those opposed eyes, which, like the meteors of a troubled heaven, all of one nature, of one substance bred, did lately meet in the intestine shock'},\n",
       " {'src': 'of hostile paces those opposed eyes, which, like the meteors of a troubled heaven, all of one nature, of one substance bred, did lately meet in the intestine shock',\n",
       "  'trg': 'and furious close of civil butchery shall now, in mutual well-beseeming ranks, march all one way and be no more opposed against acquaintance, kindred and allies the edge of war,'},\n",
       " {'src': 'and furious close of civil butchery shall now, in mutual well-beseeming ranks, march all one way and be no more opposed against acquaintance, kindred and allies the edge of war,',\n",
       "  'trg': 'like an ill-sheathed knife, no more shall cut his master. therefore, friends, as far as to the sepulchre of christ, whose soldier now, under whose blessed cross'},\n",
       " {'src': 'like an ill-sheathed knife, no more shall cut his master. therefore, friends, as far as to the sepulchre of christ, whose soldier now, under whose blessed cross',\n",
       "  'trg': \"we are impressed and engaged to fight, forthwith a power of english shall we levy, whose arms were moulded in their mothers' womb to chase these pagans in those holy fields\"}]"
      ]
     },
     "execution_count": 57,
     "metadata": {},
     "output_type": "execute_result"
    }
   ],
   "source": [
    "processed_data[:5]"
   ]
  },
  {
   "cell_type": "code",
   "execution_count": 58,
   "id": "dbbed31d-794c-4d82-9580-faa20fb0a846",
   "metadata": {},
   "outputs": [],
   "source": [
    "random.shuffle(processed_data) # in-place shuffle"
   ]
  },
  {
   "cell_type": "code",
   "execution_count": 59,
   "id": "f0419bde-52f6-489b-8ad3-87a971166c32",
   "metadata": {},
   "outputs": [
    {
     "data": {
      "text/plain": [
       "40664"
      ]
     },
     "execution_count": 59,
     "metadata": {},
     "output_type": "execute_result"
    }
   ],
   "source": [
    "n = len(processed_data)\n",
    "n"
   ]
  },
  {
   "cell_type": "code",
   "execution_count": 60,
   "id": "32dd4850-d08f-4785-a79b-a66a1331832c",
   "metadata": {},
   "outputs": [],
   "source": [
    "train_cutoff = int(n*0.8)"
   ]
  },
  {
   "cell_type": "code",
   "execution_count": 61,
   "id": "becf3dc3-9283-47b4-99c3-2e43f9a9d666",
   "metadata": {},
   "outputs": [],
   "source": [
    "# want to preserve order\n",
    "ss_train_data = processed_data[:train_cutoff]\n",
    "ss_test_data = processed_data[-10:]\n",
    "ss_val_data = processed_data[train_cutoff:-10]"
   ]
  },
  {
   "cell_type": "code",
   "execution_count": 62,
   "id": "def1d8bf-5866-4f47-bf68-b72cea07eb29",
   "metadata": {},
   "outputs": [
    {
     "data": {
      "text/plain": [
       "(10, 32531, 8123)"
      ]
     },
     "execution_count": 62,
     "metadata": {},
     "output_type": "execute_result"
    }
   ],
   "source": [
    "len(ss_test_data), len(ss_train_data), len(ss_val_data)"
   ]
  },
  {
   "cell_type": "code",
   "execution_count": 63,
   "id": "7364cc63-1746-4d10-b9af-bdf2f247428d",
   "metadata": {},
   "outputs": [
    {
     "data": {
      "text/plain": [
       "[{'src': 'this is the very false gallop of verses why do you infect yourself with them?',\n",
       "  'trg': 'peace, you dull fool! i found them on a tree.'},\n",
       " {'src': 'and fair men call for grace. aaron will have his soul black like his face.',\n",
       "  'trg': 'o, here i lift this one hand up to heaven, and bow this feeble ruin to the earth if any power pities wretched tears, to that i call! what, wilt thou kneel with me? do, then, dear heart,'},\n",
       " {'src': 'miranda. o my father, i have broke your hest to say so!',\n",
       "  'trg': \"admired miranda! indeed the top of admiration! worth what's dearest to the world! full many a lady i have eyed with best regard and many a time the harmony of their tongues hath into bondage\"},\n",
       " {'src': 'i have, thou gallant trojan, seen thee oft labouring for destiny make cruel way through ranks of greekish youth, and i have seen thee, as hot as perseus, spur thy phrygian steed,',\n",
       "  'trg': \"despising many forfeits and subduements, when thou hast hung thy advanced sword i' the air, not letting it decline on the declined, that i have said to some my standers by 'lo,\"},\n",
       " {'src': \"see, your guests approach address yourself to entertain them sprightly, and let's be red with mirth.\",\n",
       "  'trg': 'fie, daughter! when my old wife lived, upon this day she was both pantler, butler, cook, both dame and servant, welcomed all, served all, would sing her song and dance her turn, now here,'}]"
      ]
     },
     "execution_count": 63,
     "metadata": {},
     "output_type": "execute_result"
    }
   ],
   "source": [
    "ss_train_data[:5]"
   ]
  },
  {
   "cell_type": "code",
   "execution_count": 64,
   "id": "f3906803-830c-46e1-9f7b-e43543c70e0e",
   "metadata": {},
   "outputs": [],
   "source": [
    "save_src_trg_dataset(ss_train_data, filename= 'train', folder_dir= 'data/')"
   ]
  },
  {
   "cell_type": "code",
   "execution_count": 65,
   "id": "ee97f92b",
   "metadata": {},
   "outputs": [],
   "source": [
    "save_src_trg_dataset(ss_val_data, filename= 'valid', folder_dir= 'data/')"
   ]
  },
  {
   "cell_type": "code",
   "execution_count": 66,
   "id": "30838a59-aa89-4a49-96f5-8722503b9abb",
   "metadata": {},
   "outputs": [],
   "source": [
    "save_src_trg_dataset(ss_test_data, filename= 'test', folder_dir= 'data/')"
   ]
  },
  {
   "cell_type": "markdown",
   "id": "e4021133-bba4-4207-89cc-deb0bbbfed53",
   "metadata": {},
   "source": [
    "### Preparing train/test Shakespeare data (Comedies only)"
   ]
  },
  {
   "cell_type": "code",
   "execution_count": 46,
   "id": "e5d0d9af-96b3-468e-82cd-915068171707",
   "metadata": {},
   "outputs": [],
   "source": [
    "processed_data = []\n",
    "for play in comedies:\n",
    "    text_col = data_per_convo_comedies[data_per_convo_comedies['Play'] == play]['text_processed']\n",
    "#     text_col = data_per_convo[data_per_convo['Play'] == play]['text_processed_with_player']\n",
    "    processed_data += generate_src_trg_dataset(text_col)"
   ]
  },
  {
   "cell_type": "code",
   "execution_count": 47,
   "id": "5857a859-77e9-4fd3-b3d6-166265d36815",
   "metadata": {},
   "outputs": [
    {
     "data": {
      "text/plain": [
       "0      in delivering my son from me, i bury a second ...\n",
       "1      and i in going, madam, weep o'er my father's d...\n",
       "2      you shall find of the king a husband, madam, y...\n",
       "2      worthiness would stir it up where it wanted ra...\n",
       "3         what hope is there of his majesty's amendment?\n",
       "                             ...                        \n",
       "934    let us from point to point this story know, to...\n",
       "934    for i can guess that by thy honest aid thou ke...\n",
       "934    and if it end so meet, the bitter past, more w...\n",
       "935    the king's a beggar, now the play is done all ...\n",
       "935    ours be your patience then, and yours our part...\n",
       "Name: text_processed, Length: 1226, dtype: object"
      ]
     },
     "execution_count": 47,
     "metadata": {},
     "output_type": "execute_result"
    }
   ],
   "source": [
    "text_col"
   ]
  },
  {
   "cell_type": "code",
   "execution_count": 50,
   "id": "a786f28e-b890-46a5-b53e-76d4515feb23",
   "metadata": {},
   "outputs": [
    {
     "data": {
      "text/plain": [
       "[{'src': 'i would not have my right rosalind of this mind, for, i protest, her frown might kill me.',\n",
       "  'trg': 'by this hand, it will not kill a fly. but come, now i will be your rosalind in a more coming-on disposition, and ask me what you will. i will grant it.'},\n",
       " {'src': 'i thought, by your readiness in the office, you had continued in it some time. you say, seven years together?',\n",
       "  'trg': 'and a half, sir.'}]"
      ]
     },
     "execution_count": 50,
     "metadata": {},
     "output_type": "execute_result"
    }
   ],
   "source": [
    "processed_data[:2]"
   ]
  },
  {
   "cell_type": "code",
   "execution_count": 49,
   "id": "523ee923-47fc-4ee0-a9f1-38e34aa5013b",
   "metadata": {},
   "outputs": [],
   "source": [
    "random.shuffle(processed_data) # in-place shuffle"
   ]
  },
  {
   "cell_type": "code",
   "execution_count": 51,
   "id": "60d2eb93-f861-4e8a-b9bf-f43ef91b3ce2",
   "metadata": {},
   "outputs": [
    {
     "data": {
      "text/plain": [
       "10883"
      ]
     },
     "execution_count": 51,
     "metadata": {},
     "output_type": "execute_result"
    }
   ],
   "source": [
    "n = len(processed_data)\n",
    "n"
   ]
  },
  {
   "cell_type": "code",
   "execution_count": 52,
   "id": "64b7d099-aa50-47cc-9f93-7f0ae580c337",
   "metadata": {},
   "outputs": [],
   "source": [
    "train_cutoff = int(n*0.8)"
   ]
  },
  {
   "cell_type": "code",
   "execution_count": 53,
   "id": "9377fab4-d21e-42eb-924b-6731d33a1d81",
   "metadata": {},
   "outputs": [],
   "source": [
    "# want to preserve order\n",
    "ss_train_data = processed_data[:train_cutoff]\n",
    "ss_test_data = processed_data[-10:]\n",
    "ss_val_data = processed_data[train_cutoff:-10]"
   ]
  },
  {
   "cell_type": "code",
   "execution_count": 54,
   "id": "50af517d-a380-4dfb-b50d-38a22264d473",
   "metadata": {},
   "outputs": [
    {
     "data": {
      "text/plain": [
       "(10, 8706, 2167)"
      ]
     },
     "execution_count": 54,
     "metadata": {},
     "output_type": "execute_result"
    }
   ],
   "source": [
    "len(ss_test_data), len(ss_train_data), len(ss_val_data)"
   ]
  },
  {
   "cell_type": "code",
   "execution_count": 55,
   "id": "2c4eb001-cc24-42cb-b0ab-776e908c9ff0",
   "metadata": {},
   "outputs": [
    {
     "data": {
      "text/plain": [
       "[{'src': 'i would not have my right rosalind of this mind, for, i protest, her frown might kill me.',\n",
       "  'trg': 'by this hand, it will not kill a fly. but come, now i will be your rosalind in a more coming-on disposition, and ask me what you will. i will grant it.'},\n",
       " {'src': 'i thought, by your readiness in the office, you had continued in it some time. you say, seven years together?',\n",
       "  'trg': 'and a half, sir.'},\n",
       " {'src': 'that she is worthy, i know.',\n",
       "  'trg': 'that i neither feel how she should be loved nor know how she should be worthy, is the opinion that fire cannot melt out of me i will die in it at the stake.'},\n",
       " {'src': \"in stamps that are forbid 'tis all as easy falsely to take away a life true made as to put metal in restrained means to make a false one.\",\n",
       "  'trg': \"'tis set down so in heaven, but not in earth.\"},\n",
       " {'src': 'music, ho! music, such as charmeth sleep!',\n",
       "  'trg': \"now, when thou wakest, with thine own fool's eyes peep.\"}]"
      ]
     },
     "execution_count": 55,
     "metadata": {},
     "output_type": "execute_result"
    }
   ],
   "source": [
    "ss_train_data[:5]"
   ]
  },
  {
   "cell_type": "code",
   "execution_count": 56,
   "id": "e3786699-e697-4c94-9b65-fe079c7edec8",
   "metadata": {},
   "outputs": [],
   "source": [
    "save_src_trg_dataset(ss_train_data, filename= 'train', folder_dir= 'data/comedies_only')"
   ]
  },
  {
   "cell_type": "code",
   "execution_count": 57,
   "id": "65570378-3a44-4c11-809a-510f70e863c0",
   "metadata": {},
   "outputs": [],
   "source": [
    "save_src_trg_dataset(ss_val_data, filename= 'valid', folder_dir= 'data/comedies_only')"
   ]
  },
  {
   "cell_type": "code",
   "execution_count": 58,
   "id": "180b1c4d-5eba-4f73-856f-98aab3369290",
   "metadata": {},
   "outputs": [],
   "source": [
    "save_src_trg_dataset(ss_test_data, filename= 'test', folder_dir= 'data/comedies_only')"
   ]
  },
  {
   "cell_type": "markdown",
   "id": "be690f82-3724-4309-9c09-c21a3cc77ed9",
   "metadata": {},
   "source": [
    "# Extracting only comedies"
   ]
  },
  {
   "cell_type": "code",
   "execution_count": 20,
   "id": "88826328-0a97-44bd-af3b-4732e43494e0",
   "metadata": {},
   "outputs": [
    {
     "data": {
      "text/plain": [
       "array(['Henry IV', 'Henry VI Part 1', 'Henry VI Part 2',\n",
       "       'Henry VI Part 3', 'Alls well that ends well', 'As you like it',\n",
       "       'Antony and Cleopatra', 'A Comedy of Errors', 'Coriolanus',\n",
       "       'Cymbeline', 'Hamlet', 'Henry V', 'Henry VIII', 'King John',\n",
       "       'Julius Caesar', 'King Lear', 'Loves Labours Lost', 'macbeth',\n",
       "       'Measure for measure', 'Merchant of Venice',\n",
       "       'Merry Wives of Windsor', 'A Midsummer nights dream',\n",
       "       'Much Ado about nothing', 'Othello', 'Pericles', 'Richard II',\n",
       "       'Richard III', 'Romeo and Juliet', 'Taming of the Shrew',\n",
       "       'The Tempest', 'Timon of Athens', 'Titus Andronicus',\n",
       "       'Troilus and Cressida', 'Twelfth Night', 'Two Gentlemen of Verona',\n",
       "       'A Winters Tale'], dtype=object)"
      ]
     },
     "execution_count": 20,
     "metadata": {},
     "output_type": "execute_result"
    }
   ],
   "source": [
    "data['Play'].unique()"
   ]
  },
  {
   "cell_type": "code",
   "execution_count": 21,
   "id": "b1cc65ee-d249-4830-8d58-14164ff23261",
   "metadata": {},
   "outputs": [],
   "source": []
  },
  {
   "cell_type": "code",
   "execution_count": 29,
   "id": "3236192b-c999-4fa0-9c9e-b06784b14d2b",
   "metadata": {},
   "outputs": [
    {
     "data": {
      "text/html": [
       "<div>\n",
       "<style scoped>\n",
       "    .dataframe tbody tr th:only-of-type {\n",
       "        vertical-align: middle;\n",
       "    }\n",
       "\n",
       "    .dataframe tbody tr th {\n",
       "        vertical-align: top;\n",
       "    }\n",
       "\n",
       "    .dataframe thead th {\n",
       "        text-align: right;\n",
       "    }\n",
       "</style>\n",
       "<table border=\"1\" class=\"dataframe\">\n",
       "  <thead>\n",
       "    <tr style=\"text-align: right;\">\n",
       "      <th></th>\n",
       "      <th>Play</th>\n",
       "      <th>PlayerLinenumber</th>\n",
       "      <th>Player</th>\n",
       "      <th>PlayerLine</th>\n",
       "    </tr>\n",
       "  </thead>\n",
       "  <tbody>\n",
       "    <tr>\n",
       "      <th>12660</th>\n",
       "      <td>Alls well that ends well</td>\n",
       "      <td>9.0</td>\n",
       "      <td>KING EDWARD IV</td>\n",
       "      <td>ACT I</td>\n",
       "    </tr>\n",
       "    <tr>\n",
       "      <th>12661</th>\n",
       "      <td>Alls well that ends well</td>\n",
       "      <td>9.0</td>\n",
       "      <td>KING EDWARD IV</td>\n",
       "      <td>SCENE I. Rousillon. The COUNT's palace.</td>\n",
       "    </tr>\n",
       "    <tr>\n",
       "      <th>12662</th>\n",
       "      <td>Alls well that ends well</td>\n",
       "      <td>9.0</td>\n",
       "      <td>KING EDWARD IV</td>\n",
       "      <td>Enter BERTRAM, the COUNTESS of Rousillon, HELE...</td>\n",
       "    </tr>\n",
       "    <tr>\n",
       "      <th>12663</th>\n",
       "      <td>Alls well that ends well</td>\n",
       "      <td>1.0</td>\n",
       "      <td>COUNTESS</td>\n",
       "      <td>In delivering my son from me, I bury a second ...</td>\n",
       "    </tr>\n",
       "    <tr>\n",
       "      <th>12664</th>\n",
       "      <td>Alls well that ends well</td>\n",
       "      <td>2.0</td>\n",
       "      <td>BERTRAM</td>\n",
       "      <td>And I in going, madam, weep o'er my father's d...</td>\n",
       "    </tr>\n",
       "    <tr>\n",
       "      <th>...</th>\n",
       "      <td>...</td>\n",
       "      <td>...</td>\n",
       "      <td>...</td>\n",
       "      <td>...</td>\n",
       "    </tr>\n",
       "    <tr>\n",
       "      <th>105545</th>\n",
       "      <td>Twelfth Night</td>\n",
       "      <td>127.0</td>\n",
       "      <td>Clown</td>\n",
       "      <td>A great while ago the world begun,</td>\n",
       "    </tr>\n",
       "    <tr>\n",
       "      <th>105546</th>\n",
       "      <td>Twelfth Night</td>\n",
       "      <td>127.0</td>\n",
       "      <td>Clown</td>\n",
       "      <td>With hey, ho,  and c.</td>\n",
       "    </tr>\n",
       "    <tr>\n",
       "      <th>105547</th>\n",
       "      <td>Twelfth Night</td>\n",
       "      <td>127.0</td>\n",
       "      <td>Clown</td>\n",
       "      <td>But that's all one, our play is done,</td>\n",
       "    </tr>\n",
       "    <tr>\n",
       "      <th>105548</th>\n",
       "      <td>Twelfth Night</td>\n",
       "      <td>127.0</td>\n",
       "      <td>Clown</td>\n",
       "      <td>And we'll strive to please you every day.</td>\n",
       "    </tr>\n",
       "    <tr>\n",
       "      <th>105549</th>\n",
       "      <td>Twelfth Night</td>\n",
       "      <td>127.0</td>\n",
       "      <td>Clown</td>\n",
       "      <td>Exit</td>\n",
       "    </tr>\n",
       "  </tbody>\n",
       "</table>\n",
       "<p>27082 rows × 4 columns</p>\n",
       "</div>"
      ],
      "text/plain": [
       "                            Play  PlayerLinenumber          Player  \\\n",
       "12660   Alls well that ends well               9.0  KING EDWARD IV   \n",
       "12661   Alls well that ends well               9.0  KING EDWARD IV   \n",
       "12662   Alls well that ends well               9.0  KING EDWARD IV   \n",
       "12663   Alls well that ends well               1.0        COUNTESS   \n",
       "12664   Alls well that ends well               2.0         BERTRAM   \n",
       "...                          ...               ...             ...   \n",
       "105545             Twelfth Night             127.0           Clown   \n",
       "105546             Twelfth Night             127.0           Clown   \n",
       "105547             Twelfth Night             127.0           Clown   \n",
       "105548             Twelfth Night             127.0           Clown   \n",
       "105549             Twelfth Night             127.0           Clown   \n",
       "\n",
       "                                               PlayerLine  \n",
       "12660                                               ACT I  \n",
       "12661             SCENE I. Rousillon. The COUNT's palace.  \n",
       "12662   Enter BERTRAM, the COUNTESS of Rousillon, HELE...  \n",
       "12663   In delivering my son from me, I bury a second ...  \n",
       "12664   And I in going, madam, weep o'er my father's d...  \n",
       "...                                                   ...  \n",
       "105545                 A great while ago the world begun,  \n",
       "105546                              With hey, ho,  and c.  \n",
       "105547              But that's all one, our play is done,  \n",
       "105548          And we'll strive to please you every day.  \n",
       "105549                                               Exit  \n",
       "\n",
       "[27082 rows x 4 columns]"
      ]
     },
     "execution_count": 29,
     "metadata": {},
     "output_type": "execute_result"
    }
   ],
   "source": [
    "comedies_only = data[data['Play'].isin(comedies)]\n",
    "comedies_only"
   ]
  },
  {
   "cell_type": "code",
   "execution_count": 28,
   "id": "362af6e5-459e-499e-b3fb-326af2b8000a",
   "metadata": {},
   "outputs": [
    {
     "ename": "ValueError",
     "evalue": "The truth value of a Series is ambiguous. Use a.empty, a.bool(), a.item(), a.any() or a.all().",
     "output_type": "error",
     "traceback": [
      "\u001b[0;31m---------------------------------------------------------------------------\u001b[0m",
      "\u001b[0;31mValueError\u001b[0m                                Traceback (most recent call last)",
      "\u001b[0;32m/tmp/ipykernel_3661/1538858021.py\u001b[0m in \u001b[0;36m<module>\u001b[0;34m\u001b[0m\n\u001b[0;32m----> 1\u001b[0;31m \u001b[0mcomedies\u001b[0m\u001b[0;34m.\u001b[0m\u001b[0mcount\u001b[0m\u001b[0;34m(\u001b[0m\u001b[0mdata\u001b[0m\u001b[0;34m[\u001b[0m\u001b[0;34m'Play'\u001b[0m\u001b[0;34m]\u001b[0m\u001b[0;34m)\u001b[0m\u001b[0;34m\u001b[0m\u001b[0;34m\u001b[0m\u001b[0m\n\u001b[0m",
      "\u001b[0;32m~/.local/lib/python3.9/site-packages/pandas/core/generic.py\u001b[0m in \u001b[0;36m__nonzero__\u001b[0;34m(self)\u001b[0m\n\u001b[1;32m   1574\u001b[0m     \u001b[0;34m@\u001b[0m\u001b[0mfinal\u001b[0m\u001b[0;34m\u001b[0m\u001b[0;34m\u001b[0m\u001b[0m\n\u001b[1;32m   1575\u001b[0m     \u001b[0;32mdef\u001b[0m \u001b[0m__nonzero__\u001b[0m\u001b[0;34m(\u001b[0m\u001b[0mself\u001b[0m\u001b[0;34m)\u001b[0m \u001b[0;34m->\u001b[0m \u001b[0mNoReturn\u001b[0m\u001b[0;34m:\u001b[0m\u001b[0;34m\u001b[0m\u001b[0;34m\u001b[0m\u001b[0m\n\u001b[0;32m-> 1576\u001b[0;31m         raise ValueError(\n\u001b[0m\u001b[1;32m   1577\u001b[0m             \u001b[0;34mf\"The truth value of a {type(self).__name__} is ambiguous. \"\u001b[0m\u001b[0;34m\u001b[0m\u001b[0;34m\u001b[0m\u001b[0m\n\u001b[1;32m   1578\u001b[0m             \u001b[0;34m\"Use a.empty, a.bool(), a.item(), a.any() or a.all().\"\u001b[0m\u001b[0;34m\u001b[0m\u001b[0;34m\u001b[0m\u001b[0m\n",
      "\u001b[0;31mValueError\u001b[0m: The truth value of a Series is ambiguous. Use a.empty, a.bool(), a.item(), a.any() or a.all()."
     ]
    }
   ],
   "source": [
    "comedies.count(data['Play'])"
   ]
  },
  {
   "cell_type": "code",
   "execution_count": null,
   "id": "b1b1118c-70b8-45c5-936c-a0b41d597035",
   "metadata": {},
   "outputs": [],
   "source": []
  }
 ],
 "metadata": {
  "kernelspec": {
   "display_name": "Python 3 (ipykernel)",
   "language": "python",
   "name": "python3"
  },
  "language_info": {
   "codemirror_mode": {
    "name": "ipython",
    "version": 3
   },
   "file_extension": ".py",
   "mimetype": "text/x-python",
   "name": "python",
   "nbconvert_exporter": "python",
   "pygments_lexer": "ipython3",
   "version": "3.9.5"
  }
 },
 "nbformat": 4,
 "nbformat_minor": 5
}
