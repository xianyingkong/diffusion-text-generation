{
  "cells": [
    {
      "cell_type": "markdown",
      "metadata": {
        "id": "view-in-github",
        "colab_type": "text"
      },
      "source": [
        "<a href=\"https://colab.research.google.com/github/xianyingkong/diffusion-text-generation/blob/simple-diffuseq-0129/embedding_visualize.ipynb\" target=\"_parent\"><img src=\"https://colab.research.google.com/assets/colab-badge.svg\" alt=\"Open In Colab\"/></a>"
      ]
    },
    {
      "cell_type": "code",
      "execution_count": null,
      "metadata": {
        "id": "_wqSAZExy6xV"
      },
      "outputs": [],
      "source": [
        "import datetime\n",
        "from transformers import BertTokenizerFast\n",
        "import transformers\n",
        "import os\n",
        "import torch\n",
        "import numpy as np"
      ]
    },
    {
      "cell_type": "code",
      "source": [
        "word_embedding = torch.load('word_embedding.pt', map_location=torch.device('cpu'))"
      ],
      "metadata": {
        "id": "-hXS2u6JcoTs"
      },
      "execution_count": null,
      "outputs": []
    },
    {
      "cell_type": "code",
      "source": [
        "word_embedding"
      ],
      "metadata": {
        "colab": {
          "base_uri": "https://localhost:8080/"
        },
        "id": "4qLagjlXaNWO",
        "outputId": "1efa1be8-211a-460d-e93e-f432cb85e228"
      },
      "execution_count": null,
      "outputs": [
        {
          "output_type": "execute_result",
          "data": {
            "text/plain": [
              "Parameter containing:\n",
              "tensor([[-0.5555, -0.0901,  1.1469,  ..., -0.6660, -2.6405, -0.0052],\n",
              "        [-1.8184, -0.5092,  0.9434,  ...,  1.3924,  1.0179, -0.1013],\n",
              "        [-0.7059,  0.0151, -2.3545,  ..., -0.1428, -0.1063,  0.4768],\n",
              "        ...,\n",
              "        [ 1.1498,  0.7334,  0.0725,  ...,  0.1484,  0.8395, -3.3620],\n",
              "        [ 1.6328,  1.5051,  1.2920,  ...,  0.3481,  0.7946,  1.3204],\n",
              "        [ 0.3533, -0.3212, -1.0783,  ...,  1.9004,  0.4433,  0.5947]],\n",
              "       requires_grad=True)"
            ]
          },
          "metadata": {},
          "execution_count": 7
        }
      ]
    },
    {
      "cell_type": "code",
      "source": [
        "# word_embedding_np = word_embedding.numpy()\n",
        "# word_embedding_np"
      ],
      "metadata": {
        "id": "MbZxV3o2jzHA"
      },
      "execution_count": null,
      "outputs": []
    },
    {
      "cell_type": "code",
      "source": [
        "# np.savetxt('word_embedding.tsv', word_embedding_np, delimiter = '\\t')"
      ],
      "metadata": {
        "id": "ZOA6z6XKp_fg"
      },
      "execution_count": null,
      "outputs": []
    },
    {
      "cell_type": "code",
      "source": [
        "word_embedding.shape"
      ],
      "metadata": {
        "colab": {
          "base_uri": "https://localhost:8080/"
        },
        "id": "XbpgURiAvBkm",
        "outputId": "77257efd-6900-4df2-faff-b2c10065242b"
      },
      "execution_count": null,
      "outputs": [
        {
          "output_type": "execute_result",
          "data": {
            "text/plain": [
              "torch.Size([30267, 128])"
            ]
          },
          "metadata": {},
          "execution_count": 10
        }
      ]
    },
    {
      "cell_type": "code",
      "source": [
        "words = []\n",
        "with open(\"vocab.txt\", \"r\") as f:\n",
        "  for x in f:\n",
        "    words.append(x.strip())"
      ],
      "metadata": {
        "id": "_wPfrHZftAuS"
      },
      "execution_count": null,
      "outputs": []
    },
    {
      "cell_type": "code",
      "source": [
        "pip install umap-learn"
      ],
      "metadata": {
        "colab": {
          "base_uri": "https://localhost:8080/"
        },
        "id": "IaC-FXupqeFo",
        "outputId": "103dfd0a-bd3c-45c3-d03a-86df43ac6706"
      },
      "execution_count": null,
      "outputs": [
        {
          "output_type": "stream",
          "name": "stdout",
          "text": [
            "Collecting umap-learn\n",
            "  Downloading umap-learn-0.5.5.tar.gz (90 kB)\n",
            "\u001b[2K     \u001b[90m━━━━━━━━━━━━━━━━━━━━━━━━━━━━━━━━━━━━━━━━\u001b[0m \u001b[32m90.9/90.9 kB\u001b[0m \u001b[31m4.1 MB/s\u001b[0m eta \u001b[36m0:00:00\u001b[0m\n",
            "\u001b[?25h  Preparing metadata (setup.py) ... \u001b[?25l\u001b[?25hdone\n",
            "Requirement already satisfied: numpy>=1.17 in /usr/local/lib/python3.10/dist-packages (from umap-learn) (1.25.2)\n",
            "Requirement already satisfied: scipy>=1.3.1 in /usr/local/lib/python3.10/dist-packages (from umap-learn) (1.11.4)\n",
            "Requirement already satisfied: scikit-learn>=0.22 in /usr/local/lib/python3.10/dist-packages (from umap-learn) (1.2.2)\n",
            "Requirement already satisfied: numba>=0.51.2 in /usr/local/lib/python3.10/dist-packages (from umap-learn) (0.58.1)\n",
            "Collecting pynndescent>=0.5 (from umap-learn)\n",
            "  Downloading pynndescent-0.5.11-py3-none-any.whl (55 kB)\n",
            "\u001b[2K     \u001b[90m━━━━━━━━━━━━━━━━━━━━━━━━━━━━━━━━━━━━━━━━\u001b[0m \u001b[32m55.8/55.8 kB\u001b[0m \u001b[31m6.5 MB/s\u001b[0m eta \u001b[36m0:00:00\u001b[0m\n",
            "\u001b[?25hRequirement already satisfied: tqdm in /usr/local/lib/python3.10/dist-packages (from umap-learn) (4.66.2)\n",
            "Requirement already satisfied: llvmlite<0.42,>=0.41.0dev0 in /usr/local/lib/python3.10/dist-packages (from numba>=0.51.2->umap-learn) (0.41.1)\n",
            "Requirement already satisfied: joblib>=0.11 in /usr/local/lib/python3.10/dist-packages (from pynndescent>=0.5->umap-learn) (1.3.2)\n",
            "Requirement already satisfied: threadpoolctl>=2.0.0 in /usr/local/lib/python3.10/dist-packages (from scikit-learn>=0.22->umap-learn) (3.3.0)\n",
            "Building wheels for collected packages: umap-learn\n",
            "  Building wheel for umap-learn (setup.py) ... \u001b[?25l\u001b[?25hdone\n",
            "  Created wheel for umap-learn: filename=umap_learn-0.5.5-py3-none-any.whl size=86832 sha256=a8fc4742393f97d7e2cb52ff3b9421cf72374875e43eb5084a85da3d22454966\n",
            "  Stored in directory: /root/.cache/pip/wheels/3a/70/07/428d2b58660a1a3b431db59b806a10da736612ebbc66c1bcc5\n",
            "Successfully built umap-learn\n",
            "Installing collected packages: pynndescent, umap-learn\n",
            "Successfully installed pynndescent-0.5.11 umap-learn-0.5.5\n"
          ]
        }
      ]
    },
    {
      "cell_type": "code",
      "source": [
        "import matplotlib.pyplot as plt\n",
        "from sklearn.manifold import TSNE\n",
        "from sklearn.preprocessing import StandardScaler\n",
        "import umap\n",
        "from sklearn.metrics import confusion_matrix, ConfusionMatrixDisplay"
      ],
      "metadata": {
        "id": "mj3dPIRcoLG0"
      },
      "execution_count": null,
      "outputs": []
    },
    {
      "cell_type": "code",
      "source": [
        "tokenizer = BertTokenizerFast('vocab.txt')\n",
        "tokenizer"
      ],
      "metadata": {
        "colab": {
          "base_uri": "https://localhost:8080/"
        },
        "id": "OjW2GMUObgED",
        "outputId": "62fbb51c-67ca-44b1-c3fc-401d4b955b5d"
      },
      "execution_count": null,
      "outputs": [
        {
          "output_type": "execute_result",
          "data": {
            "text/plain": [
              "BertTokenizerFast(name_or_path='', vocab_size=30267, model_max_length=1000000000000000019884624838656, is_fast=True, padding_side='right', truncation_side='right', special_tokens={'unk_token': '[UNK]', 'sep_token': '[SEP]', 'pad_token': '[PAD]', 'cls_token': '[CLS]', 'mask_token': '[MASK]'}, clean_up_tokenization_spaces=True),  added_tokens_decoder={\n",
              "\t0: AddedToken(\"[PAD]\", rstrip=False, lstrip=False, single_word=False, normalized=False, special=True),\n",
              "\t1: AddedToken(\"[UNK]\", rstrip=False, lstrip=False, single_word=False, normalized=False, special=True),\n",
              "\t2: AddedToken(\"[CLS]\", rstrip=False, lstrip=False, single_word=False, normalized=False, special=True),\n",
              "\t3: AddedToken(\"[SEP]\", rstrip=False, lstrip=False, single_word=False, normalized=False, special=True),\n",
              "\t4: AddedToken(\"[MASK]\", rstrip=False, lstrip=False, single_word=False, normalized=False, special=True),\n",
              "}"
            ]
          },
          "metadata": {},
          "execution_count": 14
        }
      ]
    },
    {
      "cell_type": "code",
      "source": [
        "# type1 = ['he', 'man', 'king', 'father']\n",
        "# type2 = ['woman', 'she', 'mother', 'her']\n",
        "# type1 = ['king', 'queen', 'mother', 'father', 'prince', 'princess']\n",
        "# type2 = ['love', 'die', 'kill', 'poison', 'stab']\n",
        "type1 = ['love', 'affection', 'adoration', 'devotion', 'fondness']\n",
        "type2 = ['hate', 'hates', 'hateful', 'loathing', 'loathe']\n",
        "words = type1 + type2\n",
        "labels = [1]*len(type1) + [0]*len(type2)\n",
        "# words = ['sin', 'church', 'commandment', 'love']\n",
        "# words = ['love', 'loves', 'beloved', 'death', 'deaths']\n",
        "\n",
        "idx = []\n",
        "selected_word_embeds = []\n",
        "vocab_dict = tokenizer.get_vocab()\n",
        "for i in words:\n",
        "  idx.append(vocab_dict[i])\n",
        "\n",
        "for i in idx:\n",
        "  selected_word_embeds.append(word_embedding[i].detach().numpy())\n",
        "\n",
        "selected_word_embeds = np.array(selected_word_embeds)"
      ],
      "metadata": {
        "id": "L-PDMWJ6jjQ3"
      },
      "execution_count": null,
      "outputs": []
    },
    {
      "cell_type": "code",
      "source": [
        "selected_word_embeds.shape"
      ],
      "metadata": {
        "colab": {
          "base_uri": "https://localhost:8080/"
        },
        "id": "r3vs0w8LmcjD",
        "outputId": "f0685494-bcaf-4dc5-b6b8-381d818624aa"
      },
      "execution_count": null,
      "outputs": [
        {
          "output_type": "execute_result",
          "data": {
            "text/plain": [
              "(10, 128)"
            ]
          },
          "metadata": {},
          "execution_count": 54
        }
      ]
    },
    {
      "cell_type": "code",
      "source": [
        "reducer = umap.UMAP(random_state=102, min_dist=0.3, n_components=2, n_neighbors=3, transform_seed=102)"
      ],
      "metadata": {
        "id": "IVdSsmNYrWrp"
      },
      "execution_count": null,
      "outputs": []
    },
    {
      "cell_type": "code",
      "source": [
        "embedding = reducer.fit_transform(selected_word_embeds)"
      ],
      "metadata": {
        "colab": {
          "base_uri": "https://localhost:8080/"
        },
        "id": "hq5rgR61qJ0h",
        "outputId": "31c2bf17-f591-48ce-cb27-b25579284a92"
      },
      "execution_count": null,
      "outputs": [
        {
          "output_type": "stream",
          "name": "stderr",
          "text": [
            "/usr/local/lib/python3.10/dist-packages/umap/umap_.py:1943: UserWarning: n_jobs value -1 overridden to 1 by setting random_state. Use no seed for parallelism.\n",
            "  warn(f\"n_jobs value {self.n_jobs} overridden to 1 by setting random_state. Use no seed for parallelism.\")\n"
          ]
        }
      ]
    },
    {
      "cell_type": "code",
      "source": [
        "embedding, embedding.shape"
      ],
      "metadata": {
        "colab": {
          "base_uri": "https://localhost:8080/"
        },
        "id": "fPsfLgBCqbvE",
        "outputId": "9d59ee87-b5f0-43b0-e8a8-3f3e08878718"
      },
      "execution_count": null,
      "outputs": [
        {
          "output_type": "execute_result",
          "data": {
            "text/plain": [
              "(array([[-6.29965  , 11.2904415],\n",
              "        [-6.853075 , 10.670769 ],\n",
              "        [-6.5608516, 12.915567 ],\n",
              "        [-5.5769696, 10.828383 ],\n",
              "        [-7.820924 , 11.265778 ],\n",
              "        [-8.475481 , 11.650478 ],\n",
              "        [-7.22515  , 13.413759 ],\n",
              "        [-5.363143 , 11.691486 ],\n",
              "        [-8.546817 , 10.658549 ],\n",
              "        [-7.8364406, 12.901475 ]], dtype=float32),\n",
              " (10, 2))"
            ]
          },
          "metadata": {},
          "execution_count": 65
        }
      ]
    },
    {
      "cell_type": "code",
      "source": [
        "fig, ax = plt.subplots()\n",
        "ax.scatter(embedding[:, 0], embedding[:, 1], c=labels)\n",
        "plt.gca().set_aspect('equal', 'datalim')\n",
        "plt.title('UMAP projection', fontsize=18)\n",
        "for i, j in enumerate(words):\n",
        "    ax.annotate(j, (embedding[:, 0][i], embedding[:, 1][i]))"
      ],
      "metadata": {
        "colab": {
          "base_uri": "https://localhost:8080/",
          "height": 457
        },
        "id": "XR2tv-Jgsy3Z",
        "outputId": "c17de8f8-6beb-425b-9c3c-23ed847f6061"
      },
      "execution_count": null,
      "outputs": [
        {
          "output_type": "display_data",
          "data": {
            "text/plain": [
              "<Figure size 640x480 with 1 Axes>"
            ],
            "image/png": "[encoded data removed]"
          },
          "metadata": {}
        }
      ]
    },
    {
      "cell_type": "code",
      "source": [
        "n = selected_word_embeds.shape[0]\n",
        "tsne_word_embeds = TSNE(n_components=2, learning_rate='auto', init='random', method='exact', perplexity=4, random_state=102).fit_transform(selected_word_embeds)\n",
        "tsne_word_embeds = (tsne_word_embeds - tsne_word_embeds.mean(axis=0))/tsne_word_embeds.std(axis=0)"
      ],
      "metadata": {
        "id": "OUnq--J3lAB4"
      },
      "execution_count": null,
      "outputs": []
    },
    {
      "cell_type": "code",
      "source": [],
      "metadata": {
        "id": "ngVWZFd36P4A"
      },
      "execution_count": null,
      "outputs": []
    },
    {
      "cell_type": "code",
      "source": [
        "plt.imshow(tsne_word_embeds)\n",
        "plt.colorbar()\n",
        "plt.show()"
      ],
      "metadata": {
        "id": "VryGmQh6Wdka",
        "colab": {
          "base_uri": "https://localhost:8080/",
          "height": 430
        },
        "outputId": "bcfa5c13-d068-40aa-ca77-e725999c2ed2"
      },
      "execution_count": null,
      "outputs": [
        {
          "output_type": "display_data",
          "data": {
            "text/plain": [
              "<Figure size 640x480 with 2 Axes>"
            ],
            "image/png": "[encoded data removed]"
          },
          "metadata": {}
        }
      ]
    },
    {
      "cell_type": "code",
      "source": [
        "# umap for embedding visualization"
      ],
      "metadata": {
        "id": "st6vECBGjmGA"
      },
      "execution_count": null,
      "outputs": []
    },
    {
      "cell_type": "code",
      "source": [],
      "metadata": {
        "id": "LgovTrkPRQw6"
      },
      "execution_count": null,
      "outputs": []
    }
  ],
  "metadata": {
    "colab": {
      "provenance": [],
      "include_colab_link": true
    },
    "kernelspec": {
      "display_name": "Python 3",
      "name": "python3"
    }
  },
  "nbformat": 4,
  "nbformat_minor": 0
}